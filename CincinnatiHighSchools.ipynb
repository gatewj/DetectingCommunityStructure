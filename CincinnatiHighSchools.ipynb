{
 "cells": [
  {
   "cell_type": "code",
   "execution_count": 1,
   "metadata": {
    "collapsed": true
   },
   "outputs": [],
   "source": [
    "from geopy.geocoders import Nominatim\n",
    "from geopy.distance import vincenty\n",
    "geolocator = Nominatim()"
   ]
  },
  {
   "cell_type": "code",
   "execution_count": 2,
   "metadata": {
    "collapsed": false
   },
   "outputs": [
    {
     "name": "stdout",
     "output_type": "stream",
     "text": [
      "Populating the interactive namespace from numpy and matplotlib\n"
     ]
    }
   ],
   "source": [
    "%pylab inline\n",
    "import pandas as pd\n",
    "import numpy as np\n",
    "import matplotlib.pyplot as plt"
   ]
  },
  {
   "cell_type": "code",
   "execution_count": 3,
   "metadata": {
    "collapsed": true
   },
   "outputs": [],
   "source": [
    "# High Schools\n",
    "Cin_HighSchools = pd.read_csv(\"C:\\Users\\James\\Desktop\\CinData\\CincinnatiHighSchool.csv\")"
   ]
  },
  {
   "cell_type": "code",
   "execution_count": 4,
   "metadata": {
    "collapsed": false
   },
   "outputs": [],
   "source": [
    "Cin_HighSchools = pd.DataFrame(Cin_HighSchools)"
   ]
  },
  {
   "cell_type": "code",
   "execution_count": 5,
   "metadata": {
    "collapsed": false
   },
   "outputs": [
    {
     "data": {
      "text/html": [
       "<div style=\"max-height:1000px;max-width:1500px;overflow:auto;\">\n",
       "<table border=\"1\" class=\"dataframe\">\n",
       "  <thead>\n",
       "    <tr style=\"text-align: right;\">\n",
       "      <th></th>\n",
       "      <th>Phone</th>\n",
       "      <th>Fax</th>\n",
       "      <th>School</th>\n",
       "      <th>Address</th>\n",
       "      <th>Times</th>\n",
       "    </tr>\n",
       "  </thead>\n",
       "  <tbody>\n",
       "    <tr>\n",
       "      <th>1 </th>\n",
       "      <td> 513-363-6600</td>\n",
       "      <td>  513-363-6620</td>\n",
       "      <td>   Carpe Diem Charter School - Aiken Campus (7-10)</td>\n",
       "      <td>      5641 Belmont Avenue, 45224</td>\n",
       "      <td>  7:30-3:30</td>\n",
       "    </tr>\n",
       "    <tr>\n",
       "      <th>2 </th>\n",
       "      <td> 513-363-2040</td>\n",
       "      <td>  513-363-2099</td>\n",
       "      <td>                 Cincinnati Digital Academy (K-12)</td>\n",
       "      <td> 425 Ezzard Charles Drive, 45203</td>\n",
       "      <td>        NaN</td>\n",
       "    </tr>\n",
       "    <tr>\n",
       "      <th>3 </th>\n",
       "      <td> 513-363-7100</td>\n",
       "      <td>  513-363-7120</td>\n",
       "      <td>               Clark Montessori High School (7-12)</td>\n",
       "      <td>            3030 Erie Ave, 45208</td>\n",
       "      <td>  7:30-2:30</td>\n",
       "    </tr>\n",
       "    <tr>\n",
       "      <th>4 </th>\n",
       "      <td> 513-363-7200</td>\n",
       "      <td>  513-363-7220</td>\n",
       "      <td>             Dater (Gilbert A.) High School (7-12)</td>\n",
       "      <td>         2146 Ferguson Rd, 45238</td>\n",
       "      <td>  7:45-2:10</td>\n",
       "    </tr>\n",
       "    <tr>\n",
       "      <th>5 </th>\n",
       "      <td> 513-363-2600</td>\n",
       "      <td>  513-363-2620</td>\n",
       "      <td>   Gamble (James N.) Montessori High School (7-12)</td>\n",
       "      <td>      2700 Felicity Place, 45211</td>\n",
       "      <td>  8:45-3:45</td>\n",
       "    </tr>\n",
       "    <tr>\n",
       "      <th>6 </th>\n",
       "      <td> 513-363-7400</td>\n",
       "      <td>  513-363-7420</td>\n",
       "      <td>                    Hughes STEM High School (7-12)</td>\n",
       "      <td>         2515 Clifton Ave, 45219</td>\n",
       "      <td>  8:45-3:15</td>\n",
       "    </tr>\n",
       "    <tr>\n",
       "      <th>7 </th>\n",
       "      <td> 513-363-4100</td>\n",
       "      <td>  513-363-4120</td>\n",
       "      <td>                       Oyler School (Preschool-12)</td>\n",
       "      <td>     2121 Hatmaker Street, 45204</td>\n",
       "      <td>  7:45-2:15</td>\n",
       "    </tr>\n",
       "    <tr>\n",
       "      <th>8 </th>\n",
       "      <td> 513-363-3400</td>\n",
       "      <td>  513-363-3420</td>\n",
       "      <td>             Riverview East Academy (Preschool-12)</td>\n",
       "      <td>         3555 Kellogg Ave, 45226</td>\n",
       "      <td>  9:15-3:35</td>\n",
       "    </tr>\n",
       "    <tr>\n",
       "      <th>9 </th>\n",
       "      <td> 513-363-8000</td>\n",
       "      <td>  513-363-8020</td>\n",
       "      <td> School for Creative and Performing Arts (SCPA)...</td>\n",
       "      <td>    108 West Central Pkwy, 45202</td>\n",
       "      <td> 9:15-3:46 </td>\n",
       "    </tr>\n",
       "    <tr>\n",
       "      <th>10</th>\n",
       "      <td> 513-363-6900</td>\n",
       "      <td>  513-363-6920</td>\n",
       "      <td>                        Shroder High School (7-12)</td>\n",
       "      <td>       5030 Duck Creek Rd, 45227</td>\n",
       "      <td>  9:00-3:30</td>\n",
       "    </tr>\n",
       "    <tr>\n",
       "      <th>11</th>\n",
       "      <td> 513-363-8200</td>\n",
       "      <td>  513-363-8220</td>\n",
       "      <td> Taft (Robert A.) Information Technology High S...</td>\n",
       "      <td>    420 Ezzard Charles Dr, 45214</td>\n",
       "      <td>  8:40-3:10</td>\n",
       "    </tr>\n",
       "    <tr>\n",
       "      <th>12</th>\n",
       "      <td> 513-363-2060</td>\n",
       "      <td> 513- 363-2093</td>\n",
       "      <td>                        Virtual High School (9-12)</td>\n",
       "      <td> 425 Ezzard Charles Drive, 45203</td>\n",
       "      <td>     11-Aug</td>\n",
       "    </tr>\n",
       "    <tr>\n",
       "      <th>13</th>\n",
       "      <td> 513-363-8400</td>\n",
       "      <td>  513-363-8420</td>\n",
       "      <td>                   Walnut Hills High School (7-12)</td>\n",
       "      <td>        3250 Victory Pkwy, 45207</td>\n",
       "      <td>  7:30-2:30</td>\n",
       "    </tr>\n",
       "    <tr>\n",
       "      <th>14</th>\n",
       "      <td> 513-363-8900</td>\n",
       "      <td>  513-363-8920</td>\n",
       "      <td>       Western Hills University High School (7-12)</td>\n",
       "      <td>         2144 Ferguson Rd, 45238</td>\n",
       "      <td>  7:45-2:15</td>\n",
       "    </tr>\n",
       "    <tr>\n",
       "      <th>15</th>\n",
       "      <td> 513-363-9200</td>\n",
       "      <td>  513-363-9220</td>\n",
       "      <td>             Withrow University High School (7-12)</td>\n",
       "      <td>          2520 Madison Rd, 45208</td>\n",
       "      <td>  7:45-2:20</td>\n",
       "    </tr>\n",
       "    <tr>\n",
       "      <th>16</th>\n",
       "      <td> 513-363-9300</td>\n",
       "      <td>  513-363-9320</td>\n",
       "      <td>      Woodward Career Technical High School (7-12)</td>\n",
       "      <td>          7005 Reading Rd, 45237</td>\n",
       "      <td>  9:00-3:30</td>\n",
       "    </tr>\n",
       "  </tbody>\n",
       "</table>\n",
       "</div>"
      ],
      "text/plain": [
       "           Phone            Fax  \\\n",
       "1   513-363-6600   513-363-6620   \n",
       "2   513-363-2040   513-363-2099   \n",
       "3   513-363-7100   513-363-7120   \n",
       "4   513-363-7200   513-363-7220   \n",
       "5   513-363-2600   513-363-2620   \n",
       "6   513-363-7400   513-363-7420   \n",
       "7   513-363-4100   513-363-4120   \n",
       "8   513-363-3400   513-363-3420   \n",
       "9   513-363-8000   513-363-8020   \n",
       "10  513-363-6900   513-363-6920   \n",
       "11  513-363-8200   513-363-8220   \n",
       "12  513-363-2060  513- 363-2093   \n",
       "13  513-363-8400   513-363-8420   \n",
       "14  513-363-8900   513-363-8920   \n",
       "15  513-363-9200   513-363-9220   \n",
       "16  513-363-9300   513-363-9320   \n",
       "\n",
       "                                               School  \\\n",
       "1     Carpe Diem Charter School - Aiken Campus (7-10)   \n",
       "2                   Cincinnati Digital Academy (K-12)   \n",
       "3                 Clark Montessori High School (7-12)   \n",
       "4               Dater (Gilbert A.) High School (7-12)   \n",
       "5     Gamble (James N.) Montessori High School (7-12)   \n",
       "6                      Hughes STEM High School (7-12)   \n",
       "7                         Oyler School (Preschool-12)   \n",
       "8               Riverview East Academy (Preschool-12)   \n",
       "9   School for Creative and Performing Arts (SCPA)...   \n",
       "10                         Shroder High School (7-12)   \n",
       "11  Taft (Robert A.) Information Technology High S...   \n",
       "12                         Virtual High School (9-12)   \n",
       "13                    Walnut Hills High School (7-12)   \n",
       "14        Western Hills University High School (7-12)   \n",
       "15              Withrow University High School (7-12)   \n",
       "16       Woodward Career Technical High School (7-12)   \n",
       "\n",
       "                            Address       Times  \n",
       "1        5641 Belmont Avenue, 45224   7:30-3:30  \n",
       "2   425 Ezzard Charles Drive, 45203         NaN  \n",
       "3              3030 Erie Ave, 45208   7:30-2:30  \n",
       "4           2146 Ferguson Rd, 45238   7:45-2:10  \n",
       "5        2700 Felicity Place, 45211   8:45-3:45  \n",
       "6           2515 Clifton Ave, 45219   8:45-3:15  \n",
       "7       2121 Hatmaker Street, 45204   7:45-2:15  \n",
       "8           3555 Kellogg Ave, 45226   9:15-3:35  \n",
       "9      108 West Central Pkwy, 45202  9:15-3:46   \n",
       "10        5030 Duck Creek Rd, 45227   9:00-3:30  \n",
       "11     420 Ezzard Charles Dr, 45214   8:40-3:10  \n",
       "12  425 Ezzard Charles Drive, 45203      11-Aug  \n",
       "13         3250 Victory Pkwy, 45207   7:30-2:30  \n",
       "14          2144 Ferguson Rd, 45238   7:45-2:15  \n",
       "15           2520 Madison Rd, 45208   7:45-2:20  \n",
       "16           7005 Reading Rd, 45237   9:00-3:30  "
      ]
     },
     "execution_count": 5,
     "metadata": {},
     "output_type": "execute_result"
    }
   ],
   "source": [
    "Cin_HighSchools.tail(16)"
   ]
  },
  {
   "cell_type": "code",
   "execution_count": 6,
   "metadata": {
    "collapsed": false
   },
   "outputs": [
    {
     "data": {
      "text/plain": [
       "pandas.core.frame.DataFrame"
      ]
     },
     "execution_count": 6,
     "metadata": {},
     "output_type": "execute_result"
    }
   ],
   "source": [
    "type(Cin_HighSchools)"
   ]
  },
  {
   "cell_type": "code",
   "execution_count": 7,
   "metadata": {
    "collapsed": false
   },
   "outputs": [
    {
     "data": {
      "text/plain": [
       "0                   Aiken High School - New Tech (7-12)\n",
       "1       Carpe Diem Charter School - Aiken Campus (7-10)\n",
       "2                     Cincinnati Digital Academy (K-12)\n",
       "3                   Clark Montessori High School (7-12)\n",
       "4                 Dater (Gilbert A.) High School (7-12)\n",
       "5       Gamble (James N.) Montessori High School (7-12)\n",
       "6                        Hughes STEM High School (7-12)\n",
       "7                           Oyler School (Preschool-12)\n",
       "8                 Riverview East Academy (Preschool-12)\n",
       "9     School for Creative and Performing Arts (SCPA)...\n",
       "10                           Shroder High School (7-12)\n",
       "11    Taft (Robert A.) Information Technology High S...\n",
       "12                           Virtual High School (9-12)\n",
       "13                      Walnut Hills High School (7-12)\n",
       "14          Western Hills University High School (7-12)\n",
       "15                Withrow University High School (7-12)\n",
       "16         Woodward Career Technical High School (7-12)\n",
       "Name: School, dtype: object"
      ]
     },
     "execution_count": 7,
     "metadata": {},
     "output_type": "execute_result"
    }
   ],
   "source": [
    "Cin_HighSchools.School"
   ]
  },
  {
   "cell_type": "code",
   "execution_count": 8,
   "metadata": {
    "collapsed": false
   },
   "outputs": [
    {
     "data": {
      "text/plain": [
       "0                   Aiken High School - New Tech (7-12)\n",
       "1       Carpe Diem Charter School - Aiken Campus (7-10)\n",
       "2                     Cincinnati Digital Academy (K-12)\n",
       "3                   Clark Montessori High School (7-12)\n",
       "4                 Dater (Gilbert A.) High School (7-12)\n",
       "5       Gamble (James N.) Montessori High School (7-12)\n",
       "6                        Hughes STEM High School (7-12)\n",
       "7                           Oyler School (Preschool-12)\n",
       "8                 Riverview East Academy (Preschool-12)\n",
       "9     School for Creative and Performing Arts (SCPA)...\n",
       "10                           Shroder High School (7-12)\n",
       "11    Taft (Robert A.) Information Technology High S...\n",
       "12                           Virtual High School (9-12)\n",
       "13                      Walnut Hills High School (7-12)\n",
       "14          Western Hills University High School (7-12)\n",
       "15                Withrow University High School (7-12)\n",
       "16         Woodward Career Technical High School (7-12)\n",
       "Name: School, dtype: object"
      ]
     },
     "execution_count": 8,
     "metadata": {},
     "output_type": "execute_result"
    }
   ],
   "source": [
    "Cin_HighSchools[\"School\"]"
   ]
  },
  {
   "cell_type": "code",
   "execution_count": 9,
   "metadata": {
    "collapsed": false
   },
   "outputs": [
    {
     "data": {
      "text/plain": [
       "0          5641 Belmont Avenue, 45224\n",
       "1          5641 Belmont Avenue, 45224\n",
       "2     425 Ezzard Charles Drive, 45203\n",
       "3                3030 Erie Ave, 45208\n",
       "4             2146 Ferguson Rd, 45238\n",
       "5          2700 Felicity Place, 45211\n",
       "6             2515 Clifton Ave, 45219\n",
       "7         2121 Hatmaker Street, 45204\n",
       "8             3555 Kellogg Ave, 45226\n",
       "9        108 West Central Pkwy, 45202\n",
       "10          5030 Duck Creek Rd, 45227\n",
       "11       420 Ezzard Charles Dr, 45214\n",
       "12    425 Ezzard Charles Drive, 45203\n",
       "13           3250 Victory Pkwy, 45207\n",
       "14            2144 Ferguson Rd, 45238\n",
       "15             2520 Madison Rd, 45208\n",
       "16             7005 Reading Rd, 45237\n",
       "Name: Address, dtype: object"
      ]
     },
     "execution_count": 9,
     "metadata": {},
     "output_type": "execute_result"
    }
   ],
   "source": [
    "Cin_HighSchools[\"Address\"]"
   ]
  },
  {
   "cell_type": "code",
   "execution_count": 10,
   "metadata": {
    "collapsed": false
   },
   "outputs": [
    {
     "data": {
      "text/html": [
       "<div style=\"max-height:1000px;max-width:1500px;overflow:auto;\">\n",
       "<table border=\"1\" class=\"dataframe\">\n",
       "  <thead>\n",
       "    <tr style=\"text-align: right;\">\n",
       "      <th></th>\n",
       "      <th>Phone</th>\n",
       "      <th>Fax</th>\n",
       "      <th>School</th>\n",
       "      <th>Address</th>\n",
       "      <th>Times</th>\n",
       "      <th>Address2</th>\n",
       "    </tr>\n",
       "  </thead>\n",
       "  <tbody>\n",
       "    <tr>\n",
       "      <th>12</th>\n",
       "      <td> 513-363-2060</td>\n",
       "      <td> 513- 363-2093</td>\n",
       "      <td>                   Virtual High School (9-12)</td>\n",
       "      <td> 425 Ezzard Charles Drive, 45203</td>\n",
       "      <td>    11-Aug</td>\n",
       "      <td> 425 Ezzard Charles Drive Cincinnati</td>\n",
       "    </tr>\n",
       "    <tr>\n",
       "      <th>13</th>\n",
       "      <td> 513-363-8400</td>\n",
       "      <td>  513-363-8420</td>\n",
       "      <td>              Walnut Hills High School (7-12)</td>\n",
       "      <td>        3250 Victory Pkwy, 45207</td>\n",
       "      <td> 7:30-2:30</td>\n",
       "      <td>        3250 Victory Pkwy Cincinnati</td>\n",
       "    </tr>\n",
       "    <tr>\n",
       "      <th>14</th>\n",
       "      <td> 513-363-8900</td>\n",
       "      <td>  513-363-8920</td>\n",
       "      <td>  Western Hills University High School (7-12)</td>\n",
       "      <td>         2144 Ferguson Rd, 45238</td>\n",
       "      <td> 7:45-2:15</td>\n",
       "      <td>         2144 Ferguson Rd Cincinnati</td>\n",
       "    </tr>\n",
       "    <tr>\n",
       "      <th>15</th>\n",
       "      <td> 513-363-9200</td>\n",
       "      <td>  513-363-9220</td>\n",
       "      <td>        Withrow University High School (7-12)</td>\n",
       "      <td>          2520 Madison Rd, 45208</td>\n",
       "      <td> 7:45-2:20</td>\n",
       "      <td>          2520 Madison Rd Cincinnati</td>\n",
       "    </tr>\n",
       "    <tr>\n",
       "      <th>16</th>\n",
       "      <td> 513-363-9300</td>\n",
       "      <td>  513-363-9320</td>\n",
       "      <td> Woodward Career Technical High School (7-12)</td>\n",
       "      <td>          7005 Reading Rd, 45237</td>\n",
       "      <td> 9:00-3:30</td>\n",
       "      <td>          7005 Reading Rd Cincinnati</td>\n",
       "    </tr>\n",
       "  </tbody>\n",
       "</table>\n",
       "</div>"
      ],
      "text/plain": [
       "           Phone            Fax                                        School  \\\n",
       "12  513-363-2060  513- 363-2093                    Virtual High School (9-12)   \n",
       "13  513-363-8400   513-363-8420               Walnut Hills High School (7-12)   \n",
       "14  513-363-8900   513-363-8920   Western Hills University High School (7-12)   \n",
       "15  513-363-9200   513-363-9220         Withrow University High School (7-12)   \n",
       "16  513-363-9300   513-363-9320  Woodward Career Technical High School (7-12)   \n",
       "\n",
       "                            Address      Times  \\\n",
       "12  425 Ezzard Charles Drive, 45203     11-Aug   \n",
       "13         3250 Victory Pkwy, 45207  7:30-2:30   \n",
       "14          2144 Ferguson Rd, 45238  7:45-2:15   \n",
       "15           2520 Madison Rd, 45208  7:45-2:20   \n",
       "16           7005 Reading Rd, 45237  9:00-3:30   \n",
       "\n",
       "                               Address2  \n",
       "12  425 Ezzard Charles Drive Cincinnati  \n",
       "13         3250 Victory Pkwy Cincinnati  \n",
       "14          2144 Ferguson Rd Cincinnati  \n",
       "15           2520 Madison Rd Cincinnati  \n",
       "16           7005 Reading Rd Cincinnati  "
      ]
     },
     "execution_count": 10,
     "metadata": {},
     "output_type": "execute_result"
    }
   ],
   "source": [
    "# Adding a new column with the address including the city and taking out the zip code\n",
    "p = Cin_HighSchools[\"Address\"]\n",
    "s = \"Cincinnati\"\n",
    "list1 = []\n",
    "for value in p:\n",
    "    value = value[:-7]\n",
    "    value = value + \" \" + s\n",
    "    list1.append(value)\n",
    "    \n",
    "# ------------------------------------------------------------------\n",
    "\n",
    "Cin_HighSchools[\"Address2\"] = list1\n",
    "\n",
    "# -----------------------------------------------------------------\n",
    "\n",
    "Cin_HighSchools.tail(5)"
   ]
  },
  {
   "cell_type": "code",
   "execution_count": 11,
   "metadata": {
    "collapsed": false
   },
   "outputs": [],
   "source": [
    "# Find the Latitude and Longitude locations based on address\n",
    "# Find the latitude and longitude of each grocery store based on the address of the store.\n",
    "\n",
    "High_Long = []\n",
    "High_Lat = []\n",
    "\n",
    "for value in Cin_HighSchools.Address2:\n",
    "    location = geolocator.geocode(value)\n",
    "    if location == None:\n",
    "        High_Long.append(0)\n",
    "        High_Lat.append(0)\n",
    "    else:\n",
    "        High_Long.append(location.longitude)\n",
    "        High_Lat.append(location.latitude) "
   ]
  },
  {
   "cell_type": "code",
   "execution_count": 12,
   "metadata": {
    "collapsed": false
   },
   "outputs": [
    {
     "data": {
      "text/html": [
       "<div style=\"max-height:1000px;max-width:1500px;overflow:auto;\">\n",
       "<table border=\"1\" class=\"dataframe\">\n",
       "  <thead>\n",
       "    <tr style=\"text-align: right;\">\n",
       "      <th></th>\n",
       "      <th>Phone</th>\n",
       "      <th>Fax</th>\n",
       "      <th>School</th>\n",
       "      <th>Address</th>\n",
       "      <th>Times</th>\n",
       "      <th>Address2</th>\n",
       "    </tr>\n",
       "  </thead>\n",
       "  <tbody>\n",
       "    <tr>\n",
       "      <th>12</th>\n",
       "      <td> 513-363-2060</td>\n",
       "      <td> 513- 363-2093</td>\n",
       "      <td>                   Virtual High School (9-12)</td>\n",
       "      <td> 425 Ezzard Charles Drive, 45203</td>\n",
       "      <td>    11-Aug</td>\n",
       "      <td> 425 Ezzard Charles Drive Cincinnati</td>\n",
       "    </tr>\n",
       "    <tr>\n",
       "      <th>13</th>\n",
       "      <td> 513-363-8400</td>\n",
       "      <td>  513-363-8420</td>\n",
       "      <td>              Walnut Hills High School (7-12)</td>\n",
       "      <td>        3250 Victory Pkwy, 45207</td>\n",
       "      <td> 7:30-2:30</td>\n",
       "      <td>        3250 Victory Pkwy Cincinnati</td>\n",
       "    </tr>\n",
       "    <tr>\n",
       "      <th>14</th>\n",
       "      <td> 513-363-8900</td>\n",
       "      <td>  513-363-8920</td>\n",
       "      <td>  Western Hills University High School (7-12)</td>\n",
       "      <td>         2144 Ferguson Rd, 45238</td>\n",
       "      <td> 7:45-2:15</td>\n",
       "      <td>         2144 Ferguson Rd Cincinnati</td>\n",
       "    </tr>\n",
       "    <tr>\n",
       "      <th>15</th>\n",
       "      <td> 513-363-9200</td>\n",
       "      <td>  513-363-9220</td>\n",
       "      <td>        Withrow University High School (7-12)</td>\n",
       "      <td>          2520 Madison Rd, 45208</td>\n",
       "      <td> 7:45-2:20</td>\n",
       "      <td>          2520 Madison Rd Cincinnati</td>\n",
       "    </tr>\n",
       "    <tr>\n",
       "      <th>16</th>\n",
       "      <td> 513-363-9300</td>\n",
       "      <td>  513-363-9320</td>\n",
       "      <td> Woodward Career Technical High School (7-12)</td>\n",
       "      <td>          7005 Reading Rd, 45237</td>\n",
       "      <td> 9:00-3:30</td>\n",
       "      <td>          7005 Reading Rd Cincinnati</td>\n",
       "    </tr>\n",
       "  </tbody>\n",
       "</table>\n",
       "</div>"
      ],
      "text/plain": [
       "           Phone            Fax                                        School  \\\n",
       "12  513-363-2060  513- 363-2093                    Virtual High School (9-12)   \n",
       "13  513-363-8400   513-363-8420               Walnut Hills High School (7-12)   \n",
       "14  513-363-8900   513-363-8920   Western Hills University High School (7-12)   \n",
       "15  513-363-9200   513-363-9220         Withrow University High School (7-12)   \n",
       "16  513-363-9300   513-363-9320  Woodward Career Technical High School (7-12)   \n",
       "\n",
       "                            Address      Times  \\\n",
       "12  425 Ezzard Charles Drive, 45203     11-Aug   \n",
       "13         3250 Victory Pkwy, 45207  7:30-2:30   \n",
       "14          2144 Ferguson Rd, 45238  7:45-2:15   \n",
       "15           2520 Madison Rd, 45208  7:45-2:20   \n",
       "16           7005 Reading Rd, 45237  9:00-3:30   \n",
       "\n",
       "                               Address2  \n",
       "12  425 Ezzard Charles Drive Cincinnati  \n",
       "13         3250 Victory Pkwy Cincinnati  \n",
       "14          2144 Ferguson Rd Cincinnati  \n",
       "15           2520 Madison Rd Cincinnati  \n",
       "16           7005 Reading Rd Cincinnati  "
      ]
     },
     "execution_count": 12,
     "metadata": {},
     "output_type": "execute_result"
    }
   ],
   "source": [
    "Cin_HighSchools.tail()"
   ]
  },
  {
   "cell_type": "code",
   "execution_count": 13,
   "metadata": {
    "collapsed": false
   },
   "outputs": [
    {
     "data": {
      "text/html": [
       "<div style=\"max-height:1000px;max-width:1500px;overflow:auto;\">\n",
       "<table border=\"1\" class=\"dataframe\">\n",
       "  <thead>\n",
       "    <tr style=\"text-align: right;\">\n",
       "      <th></th>\n",
       "      <th>Phone</th>\n",
       "      <th>Fax</th>\n",
       "      <th>School</th>\n",
       "      <th>Address</th>\n",
       "      <th>Times</th>\n",
       "      <th>Address2</th>\n",
       "    </tr>\n",
       "  </thead>\n",
       "  <tbody>\n",
       "    <tr>\n",
       "      <th>12</th>\n",
       "      <td> 513-363-2060</td>\n",
       "      <td> 513- 363-2093</td>\n",
       "      <td>                   Virtual High School (9-12)</td>\n",
       "      <td> 425 Ezzard Charles Drive, 45203</td>\n",
       "      <td>    11-Aug</td>\n",
       "      <td> 425 Ezzard Charles Drive Cincinnati</td>\n",
       "    </tr>\n",
       "    <tr>\n",
       "      <th>13</th>\n",
       "      <td> 513-363-8400</td>\n",
       "      <td>  513-363-8420</td>\n",
       "      <td>              Walnut Hills High School (7-12)</td>\n",
       "      <td>        3250 Victory Pkwy, 45207</td>\n",
       "      <td> 7:30-2:30</td>\n",
       "      <td>        3250 Victory Pkwy Cincinnati</td>\n",
       "    </tr>\n",
       "    <tr>\n",
       "      <th>14</th>\n",
       "      <td> 513-363-8900</td>\n",
       "      <td>  513-363-8920</td>\n",
       "      <td>  Western Hills University High School (7-12)</td>\n",
       "      <td>         2144 Ferguson Rd, 45238</td>\n",
       "      <td> 7:45-2:15</td>\n",
       "      <td>         2144 Ferguson Rd Cincinnati</td>\n",
       "    </tr>\n",
       "    <tr>\n",
       "      <th>15</th>\n",
       "      <td> 513-363-9200</td>\n",
       "      <td>  513-363-9220</td>\n",
       "      <td>        Withrow University High School (7-12)</td>\n",
       "      <td>          2520 Madison Rd, 45208</td>\n",
       "      <td> 7:45-2:20</td>\n",
       "      <td>          2520 Madison Rd Cincinnati</td>\n",
       "    </tr>\n",
       "    <tr>\n",
       "      <th>16</th>\n",
       "      <td> 513-363-9300</td>\n",
       "      <td>  513-363-9320</td>\n",
       "      <td> Woodward Career Technical High School (7-12)</td>\n",
       "      <td>          7005 Reading Rd, 45237</td>\n",
       "      <td> 9:00-3:30</td>\n",
       "      <td>          7005 Reading Rd Cincinnati</td>\n",
       "    </tr>\n",
       "  </tbody>\n",
       "</table>\n",
       "</div>"
      ],
      "text/plain": [
       "           Phone            Fax                                        School  \\\n",
       "12  513-363-2060  513- 363-2093                    Virtual High School (9-12)   \n",
       "13  513-363-8400   513-363-8420               Walnut Hills High School (7-12)   \n",
       "14  513-363-8900   513-363-8920   Western Hills University High School (7-12)   \n",
       "15  513-363-9200   513-363-9220         Withrow University High School (7-12)   \n",
       "16  513-363-9300   513-363-9320  Woodward Career Technical High School (7-12)   \n",
       "\n",
       "                            Address      Times  \\\n",
       "12  425 Ezzard Charles Drive, 45203     11-Aug   \n",
       "13         3250 Victory Pkwy, 45207  7:30-2:30   \n",
       "14          2144 Ferguson Rd, 45238  7:45-2:15   \n",
       "15           2520 Madison Rd, 45208  7:45-2:20   \n",
       "16           7005 Reading Rd, 45237  9:00-3:30   \n",
       "\n",
       "                               Address2  \n",
       "12  425 Ezzard Charles Drive Cincinnati  \n",
       "13         3250 Victory Pkwy Cincinnati  \n",
       "14          2144 Ferguson Rd Cincinnati  \n",
       "15           2520 Madison Rd Cincinnati  \n",
       "16           7005 Reading Rd Cincinnati  "
      ]
     },
     "execution_count": 13,
     "metadata": {},
     "output_type": "execute_result"
    }
   ],
   "source": [
    "HighSchools = Cin_HighSchools\n",
    "HighSchools.tail()"
   ]
  },
  {
   "cell_type": "code",
   "execution_count": 14,
   "metadata": {
    "collapsed": false
   },
   "outputs": [
    {
     "data": {
      "text/html": [
       "<div style=\"max-height:1000px;max-width:1500px;overflow:auto;\">\n",
       "<table border=\"1\" class=\"dataframe\">\n",
       "  <thead>\n",
       "    <tr style=\"text-align: right;\">\n",
       "      <th></th>\n",
       "      <th>Phone</th>\n",
       "      <th>Fax</th>\n",
       "      <th>School</th>\n",
       "      <th>Address</th>\n",
       "      <th>Times</th>\n",
       "      <th>Address2</th>\n",
       "      <th>Latitude</th>\n",
       "      <th>Longitude</th>\n",
       "    </tr>\n",
       "  </thead>\n",
       "  <tbody>\n",
       "    <tr>\n",
       "      <th>12</th>\n",
       "      <td> 513-363-2060</td>\n",
       "      <td> 513- 363-2093</td>\n",
       "      <td>                   Virtual High School (9-12)</td>\n",
       "      <td> 425 Ezzard Charles Drive, 45203</td>\n",
       "      <td>    11-Aug</td>\n",
       "      <td> 425 Ezzard Charles Drive Cincinnati</td>\n",
       "      <td> 39.108962</td>\n",
       "      <td>-84.522045</td>\n",
       "    </tr>\n",
       "    <tr>\n",
       "      <th>13</th>\n",
       "      <td> 513-363-8400</td>\n",
       "      <td>  513-363-8420</td>\n",
       "      <td>              Walnut Hills High School (7-12)</td>\n",
       "      <td>        3250 Victory Pkwy, 45207</td>\n",
       "      <td> 7:30-2:30</td>\n",
       "      <td>        3250 Victory Pkwy Cincinnati</td>\n",
       "      <td> 39.139174</td>\n",
       "      <td>-84.482101</td>\n",
       "    </tr>\n",
       "    <tr>\n",
       "      <th>14</th>\n",
       "      <td> 513-363-8900</td>\n",
       "      <td>  513-363-8920</td>\n",
       "      <td>  Western Hills University High School (7-12)</td>\n",
       "      <td>         2144 Ferguson Rd, 45238</td>\n",
       "      <td> 7:45-2:15</td>\n",
       "      <td>         2144 Ferguson Rd Cincinnati</td>\n",
       "      <td> 39.124981</td>\n",
       "      <td>-84.601213</td>\n",
       "    </tr>\n",
       "    <tr>\n",
       "      <th>15</th>\n",
       "      <td> 513-363-9200</td>\n",
       "      <td>  513-363-9220</td>\n",
       "      <td>        Withrow University High School (7-12)</td>\n",
       "      <td>          2520 Madison Rd, 45208</td>\n",
       "      <td> 7:45-2:20</td>\n",
       "      <td>          2520 Madison Rd Cincinnati</td>\n",
       "      <td> 39.140988</td>\n",
       "      <td>-84.450430</td>\n",
       "    </tr>\n",
       "    <tr>\n",
       "      <th>16</th>\n",
       "      <td> 513-363-9300</td>\n",
       "      <td>  513-363-9320</td>\n",
       "      <td> Woodward Career Technical High School (7-12)</td>\n",
       "      <td>          7005 Reading Rd, 45237</td>\n",
       "      <td> 9:00-3:30</td>\n",
       "      <td>          7005 Reading Rd Cincinnati</td>\n",
       "      <td> 39.185665</td>\n",
       "      <td>-84.465114</td>\n",
       "    </tr>\n",
       "  </tbody>\n",
       "</table>\n",
       "</div>"
      ],
      "text/plain": [
       "           Phone            Fax                                        School  \\\n",
       "12  513-363-2060  513- 363-2093                    Virtual High School (9-12)   \n",
       "13  513-363-8400   513-363-8420               Walnut Hills High School (7-12)   \n",
       "14  513-363-8900   513-363-8920   Western Hills University High School (7-12)   \n",
       "15  513-363-9200   513-363-9220         Withrow University High School (7-12)   \n",
       "16  513-363-9300   513-363-9320  Woodward Career Technical High School (7-12)   \n",
       "\n",
       "                            Address      Times  \\\n",
       "12  425 Ezzard Charles Drive, 45203     11-Aug   \n",
       "13         3250 Victory Pkwy, 45207  7:30-2:30   \n",
       "14          2144 Ferguson Rd, 45238  7:45-2:15   \n",
       "15           2520 Madison Rd, 45208  7:45-2:20   \n",
       "16           7005 Reading Rd, 45237  9:00-3:30   \n",
       "\n",
       "                               Address2   Latitude  Longitude  \n",
       "12  425 Ezzard Charles Drive Cincinnati  39.108962 -84.522045  \n",
       "13         3250 Victory Pkwy Cincinnati  39.139174 -84.482101  \n",
       "14          2144 Ferguson Rd Cincinnati  39.124981 -84.601213  \n",
       "15           2520 Madison Rd Cincinnati  39.140988 -84.450430  \n",
       "16           7005 Reading Rd Cincinnati  39.185665 -84.465114  "
      ]
     },
     "execution_count": 14,
     "metadata": {},
     "output_type": "execute_result"
    }
   ],
   "source": [
    "Cin_HighSchools[\"Latitude\"] = High_Lat\n",
    "Cin_HighSchools[\"Longitude\"] = High_Long\n",
    "Cin_HighSchools.tail()"
   ]
  },
  {
   "cell_type": "code",
   "execution_count": 15,
   "metadata": {
    "collapsed": false
   },
   "outputs": [
    {
     "data": {
      "text/plain": [
       "Index([u'Phone', u'Fax', u'School', u'Address', u'Times', u'Address2', u'Latitude', u'Longitude'], dtype='object')"
      ]
     },
     "execution_count": 15,
     "metadata": {},
     "output_type": "execute_result"
    }
   ],
   "source": [
    "Cin_HighSchools.columns"
   ]
  },
  {
   "cell_type": "markdown",
   "metadata": {},
   "source": [
    "# Plot Data to Go Onto Map"
   ]
  },
  {
   "cell_type": "code",
   "execution_count": 16,
   "metadata": {
    "collapsed": false
   },
   "outputs": [
    {
     "data": {
      "text/html": [
       "<div style=\"max-height:1000px;max-width:1500px;overflow:auto;\">\n",
       "<table border=\"1\" class=\"dataframe\">\n",
       "  <thead>\n",
       "    <tr style=\"text-align: right;\">\n",
       "      <th></th>\n",
       "      <th>Phone</th>\n",
       "      <th>Fax</th>\n",
       "      <th>School</th>\n",
       "      <th>Address</th>\n",
       "      <th>Times</th>\n",
       "      <th>Address2</th>\n",
       "      <th>Latitude</th>\n",
       "      <th>Longitude</th>\n",
       "    </tr>\n",
       "  </thead>\n",
       "  <tbody>\n",
       "    <tr>\n",
       "      <th>0</th>\n",
       "      <td> 513-363-6700</td>\n",
       "      <td> 513-363-6720</td>\n",
       "      <td>             Aiken High School - New Tech (7-12)</td>\n",
       "      <td>      5641 Belmont Avenue, 45224</td>\n",
       "      <td> 7:30 - 2:30</td>\n",
       "      <td>      5641 Belmont Avenue Cincinnati</td>\n",
       "      <td> 39.191546</td>\n",
       "      <td>-84.547498</td>\n",
       "    </tr>\n",
       "    <tr>\n",
       "      <th>1</th>\n",
       "      <td> 513-363-6600</td>\n",
       "      <td> 513-363-6620</td>\n",
       "      <td> Carpe Diem Charter School - Aiken Campus (7-10)</td>\n",
       "      <td>      5641 Belmont Avenue, 45224</td>\n",
       "      <td>   7:30-3:30</td>\n",
       "      <td>      5641 Belmont Avenue Cincinnati</td>\n",
       "      <td> 39.191546</td>\n",
       "      <td>-84.547498</td>\n",
       "    </tr>\n",
       "    <tr>\n",
       "      <th>2</th>\n",
       "      <td> 513-363-2040</td>\n",
       "      <td> 513-363-2099</td>\n",
       "      <td>               Cincinnati Digital Academy (K-12)</td>\n",
       "      <td> 425 Ezzard Charles Drive, 45203</td>\n",
       "      <td>         NaN</td>\n",
       "      <td> 425 Ezzard Charles Drive Cincinnati</td>\n",
       "      <td> 39.108962</td>\n",
       "      <td>-84.522045</td>\n",
       "    </tr>\n",
       "    <tr>\n",
       "      <th>3</th>\n",
       "      <td> 513-363-7100</td>\n",
       "      <td> 513-363-7120</td>\n",
       "      <td>             Clark Montessori High School (7-12)</td>\n",
       "      <td>            3030 Erie Ave, 45208</td>\n",
       "      <td>   7:30-2:30</td>\n",
       "      <td>            3030 Erie Ave Cincinnati</td>\n",
       "      <td> 39.138400</td>\n",
       "      <td>-84.430248</td>\n",
       "    </tr>\n",
       "    <tr>\n",
       "      <th>4</th>\n",
       "      <td> 513-363-7200</td>\n",
       "      <td> 513-363-7220</td>\n",
       "      <td>           Dater (Gilbert A.) High School (7-12)</td>\n",
       "      <td>         2146 Ferguson Rd, 45238</td>\n",
       "      <td>   7:45-2:10</td>\n",
       "      <td>         2146 Ferguson Rd Cincinnati</td>\n",
       "      <td> 39.125048</td>\n",
       "      <td>-84.601198</td>\n",
       "    </tr>\n",
       "  </tbody>\n",
       "</table>\n",
       "</div>"
      ],
      "text/plain": [
       "          Phone           Fax  \\\n",
       "0  513-363-6700  513-363-6720   \n",
       "1  513-363-6600  513-363-6620   \n",
       "2  513-363-2040  513-363-2099   \n",
       "3  513-363-7100  513-363-7120   \n",
       "4  513-363-7200  513-363-7220   \n",
       "\n",
       "                                            School  \\\n",
       "0              Aiken High School - New Tech (7-12)   \n",
       "1  Carpe Diem Charter School - Aiken Campus (7-10)   \n",
       "2                Cincinnati Digital Academy (K-12)   \n",
       "3              Clark Montessori High School (7-12)   \n",
       "4            Dater (Gilbert A.) High School (7-12)   \n",
       "\n",
       "                           Address        Times  \\\n",
       "0       5641 Belmont Avenue, 45224  7:30 - 2:30   \n",
       "1       5641 Belmont Avenue, 45224    7:30-3:30   \n",
       "2  425 Ezzard Charles Drive, 45203          NaN   \n",
       "3             3030 Erie Ave, 45208    7:30-2:30   \n",
       "4          2146 Ferguson Rd, 45238    7:45-2:10   \n",
       "\n",
       "                              Address2   Latitude  Longitude  \n",
       "0       5641 Belmont Avenue Cincinnati  39.191546 -84.547498  \n",
       "1       5641 Belmont Avenue Cincinnati  39.191546 -84.547498  \n",
       "2  425 Ezzard Charles Drive Cincinnati  39.108962 -84.522045  \n",
       "3             3030 Erie Ave Cincinnati  39.138400 -84.430248  \n",
       "4          2146 Ferguson Rd Cincinnati  39.125048 -84.601198  "
      ]
     },
     "execution_count": 16,
     "metadata": {},
     "output_type": "execute_result"
    }
   ],
   "source": [
    "from xlwt import *\n",
    "Cin_HighSchools_Location = pd.DataFrame(Cin_HighSchools)\n",
    "# Export dataframe to Excel\n",
    "# you can export to both .xls and .xlsx\n",
    "Cin_HighSchools_Location.to_excel(\"C:\\Users\\James\\Desktop\\CinData\\ResourceLocation\\HighSchoolNetwork_Resource_Location.xlsx\",'Resource')\n",
    "Cin_HighSchools.head()"
   ]
  },
  {
   "cell_type": "markdown",
   "metadata": {},
   "source": [
    "## Load In the Census Data"
   ]
  },
  {
   "cell_type": "code",
   "execution_count": 17,
   "metadata": {
    "collapsed": true
   },
   "outputs": [],
   "source": [
    "census_files = pd.read_csv(\"C:\\Users\\James\\Desktop\\CinData\\OhioCensusTracts\\OhioCensusTracts.csv\")\n",
    "\n",
    "#-----------------------------------------------------------------------------------------------------\n",
    "HamiltonCounty = census_files[census_files['COUNTYFP10'] == 61]\n",
    "\n",
    "#----------------------------------------------------------------------\n",
    "\n",
    "\n",
    "# Load in Census Data that I already sorted, which also has the Neighborhood locations as well (Cleaned up)\n",
    "\n",
    "CensusCin = pd.read_csv(\"C:\\Users\\James\\Desktop\\CinData\\CinCensusTracts.csv\")\n",
    "\n",
    "#-----------------------------------------------------------------------\n",
    "\n",
    "CinTracts = list(CensusCin['GEOID'])\n",
    "\n",
    "Cin_Census_Tract2 = []\n",
    "index_values = []\n",
    "true_values = []\n",
    "for value in HamiltonCounty['GEOID10']:\n",
    "    s = value in CinTracts\n",
    "    true_values.append(s)\n",
    "    u = HamiltonCounty.GEOID10[HamiltonCounty.GEOID10 == value].index.tolist() \n",
    "    if s == True:\n",
    "        Cin_Census_Tract2.append(HamiltonCounty.ix[u])\n",
    "        index_values.append(u)    \n",
    "        \n",
    "#------------------------------------------------------------------------\n",
    "Cincinnati_City = HamiltonCounty[true_values]\n",
    "\n",
    "#------------------------------------------------------------------------\n",
    "CinLat_Long = Cincinnati_City[['NAME10','GEOID10','INTPTLAT10','INTPTLON10']]\n",
    "CinLat_Long.columns = ['Name','Census Tract','Latitude','Longitude']\n",
    "\n",
    "#------------------------------------------------------------------------\n",
    "# Copy a dataframe\n",
    "CinLat_Long2 = CinLat_Long.copy()\n",
    "\n",
    "# Change the index of the dataframe\n",
    "CinLat_Long2 = CinLat_Long2.sort('Name')\n",
    "CinLat_Long2 = CinLat_Long2.set_index([range(110)])"
   ]
  },
  {
   "cell_type": "code",
   "execution_count": 18,
   "metadata": {
    "collapsed": false
   },
   "outputs": [
    {
     "data": {
      "text/html": [
       "<div style=\"max-height:1000px;max-width:1500px;overflow:auto;\">\n",
       "<table border=\"1\" class=\"dataframe\">\n",
       "  <thead>\n",
       "    <tr style=\"text-align: right;\">\n",
       "      <th></th>\n",
       "      <th>Name</th>\n",
       "      <th>Census Tract</th>\n",
       "      <th>Latitude</th>\n",
       "      <th>Longitude</th>\n",
       "    </tr>\n",
       "  </thead>\n",
       "  <tbody>\n",
       "    <tr>\n",
       "      <th>0</th>\n",
       "      <td>  2</td>\n",
       "      <td> 39061000200</td>\n",
       "      <td> 39.109783</td>\n",
       "      <td>-84.529551</td>\n",
       "    </tr>\n",
       "    <tr>\n",
       "      <th>1</th>\n",
       "      <td>  9</td>\n",
       "      <td> 39061000900</td>\n",
       "      <td> 39.109921</td>\n",
       "      <td>-84.517754</td>\n",
       "    </tr>\n",
       "    <tr>\n",
       "      <th>2</th>\n",
       "      <td> 10</td>\n",
       "      <td> 39061001000</td>\n",
       "      <td> 39.110107</td>\n",
       "      <td>-84.512822</td>\n",
       "    </tr>\n",
       "    <tr>\n",
       "      <th>3</th>\n",
       "      <td> 16</td>\n",
       "      <td> 39061001600</td>\n",
       "      <td> 39.116750</td>\n",
       "      <td>-84.520418</td>\n",
       "    </tr>\n",
       "    <tr>\n",
       "      <th>4</th>\n",
       "      <td> 17</td>\n",
       "      <td> 39061001700</td>\n",
       "      <td> 39.115164</td>\n",
       "      <td>-84.514304</td>\n",
       "    </tr>\n",
       "  </tbody>\n",
       "</table>\n",
       "</div>"
      ],
      "text/plain": [
       "   Name  Census Tract   Latitude  Longitude\n",
       "0     2   39061000200  39.109783 -84.529551\n",
       "1     9   39061000900  39.109921 -84.517754\n",
       "2    10   39061001000  39.110107 -84.512822\n",
       "3    16   39061001600  39.116750 -84.520418\n",
       "4    17   39061001700  39.115164 -84.514304"
      ]
     },
     "execution_count": 18,
     "metadata": {},
     "output_type": "execute_result"
    }
   ],
   "source": [
    "CinLat_Long2.head()"
   ]
  },
  {
   "cell_type": "code",
   "execution_count": 22,
   "metadata": {
    "collapsed": false
   },
   "outputs": [
    {
     "data": {
      "text/plain": [
       "(110, 4)"
      ]
     },
     "execution_count": 22,
     "metadata": {},
     "output_type": "execute_result"
    }
   ],
   "source": [
    "CinLat_Long2.shape"
   ]
  },
  {
   "cell_type": "markdown",
   "metadata": {},
   "source": [
    "## Matrix of Resources and Agents"
   ]
  },
  {
   "cell_type": "markdown",
   "metadata": {},
   "source": [
    "## Quarter Mile Matrix"
   ]
  },
  {
   "cell_type": "code",
   "execution_count": 24,
   "metadata": {
    "collapsed": false
   },
   "outputs": [],
   "source": [
    "HighSchoolmatrix = np.zeros((len(Cin_HighSchools['Latitude']),len(CinLat_Long2)))\n",
    "i = 0\n",
    "j = 0\n",
    "\n",
    "for i in range(len(Cin_HighSchools['Latitude'])):\n",
    "    for j in range(len(CinLat_Long2)):\n",
    "        lat1  = Cin_HighSchools.iloc[i,6]\n",
    "        long1 = Cin_HighSchools.iloc[i,7]\n",
    "        resource = lat1, long1\n",
    "        lat2 = CinLat_Long2.iloc[j,1]\n",
    "        long2 = CinLat_Long2.iloc[j,2]\n",
    "        agent = lat2, long2\n",
    "        distance1 = (vincenty(resource, agent).miles)\n",
    "        if distance1 < .25:\n",
    "            HighSchoolmatrix[i][j] = 1\n",
    "    j = j+1\n",
    "i=i+1  \n",
    "\n",
    "#---------------------------------------------------------------------------------------------------\n",
    "## Need Grocery Matrix to be apart of the larger matrix of Census Tracts and Resources\n",
    "## Create a matrix to send to a file so I can pull it up\n",
    "HighSchool_Resource = HighSchoolmatrix\n",
    "HighSchool_Resource[np.where(HighSchool_Resource>0)] = 1\n",
    "np.fill_diagonal(HighSchool_Resource,0)\n",
    "\n",
    "#---------------------------------------------------------------------------------------------\n",
    "from xlwt import *\n",
    "QQ = pd.DataFrame(HighSchool_Resource)\n",
    "# Export dataframe to Excel\n",
    "# you can export to both .xls and .xlsx\n",
    "QQ.to_excel(\"C:\\Users\\James\\Desktop\\CinData\\Resources\\HighSchool_ResourceQuarter.xlsx\",'Resource')\n",
    "\n",
    "\n",
    "#---------------------------------------------------------------------------------------------------\n",
    "# Transpose of the matrix\n",
    "HighSchoolmatrixT = np.transpose(HighSchoolmatrix)\n",
    "\n",
    "# Create a matrix of Agents by Agents (lib by lib)\n",
    "PP = np.mat(HighSchoolmatrixT)*np.mat(HighSchoolmatrix)\n",
    "PP[np.where(PP>0)] =1\n",
    "np.fill_diagonal(PP,0)\n",
    "\n",
    "\n",
    "#---------------------------------------------------------------------------------------------------\n",
    "from xlwt import *\n",
    "PP = pd.DataFrame(PP)\n",
    "PP.to_excel(\"C:\\Users\\James\\Desktop\\CinData\\HighSchoolnetworkQuarterHalfMile.xlsx\",'School')"
   ]
  },
  {
   "cell_type": "markdown",
   "metadata": {},
   "source": [
    "## Half Mile Matrix"
   ]
  },
  {
   "cell_type": "code",
   "execution_count": 25,
   "metadata": {
    "collapsed": false
   },
   "outputs": [],
   "source": [
    "HighSchoolmatrix = np.zeros((len(Cin_HighSchools['Latitude']),len(CinLat_Long2)))\n",
    "i = 0\n",
    "j = 0\n",
    "\n",
    "for i in range(len(Cin_HighSchools['Latitude'])):\n",
    "    for j in range(len(CinLat_Long2)):\n",
    "        lat1  = Cin_HighSchools.iloc[i,6]\n",
    "        long1 = Cin_HighSchools.iloc[i,7]\n",
    "        resource = lat1, long1\n",
    "        lat2 = CinLat_Long2.iloc[j,1]\n",
    "        long2 = CinLat_Long2.iloc[j,2]\n",
    "        agent = lat2, long2\n",
    "        distance1 = (vincenty(resource, agent).miles)\n",
    "        if distance1 < .50:\n",
    "            HighSchoolmatrix[i][j] = 1\n",
    "    j = j+1\n",
    "i=i+1  \n",
    "\n",
    "#---------------------------------------------------------------------------------------------------\n",
    "## Need Grocery Matrix to be apart of the larger matrix of Census Tracts and Resources\n",
    "## Create a matrix to send to a file so I can pull it up\n",
    "HighSchool_Resource = HighSchoolmatrix\n",
    "HighSchool_Resource[np.where(HighSchool_Resource>0)] = 1\n",
    "np.fill_diagonal(HighSchool_Resource,0)\n",
    "\n",
    "#---------------------------------------------------------------------------------------------\n",
    "from xlwt import *\n",
    "QQ = pd.DataFrame(HighSchool_Resource)\n",
    "# Export dataframe to Excel\n",
    "# you can export to both .xls and .xlsx\n",
    "QQ.to_excel(\"C:\\Users\\James\\Desktop\\CinData\\Resources\\HighSchool_ResourceHalfMile.xlsx\",'Resource')\n",
    "\n",
    "#---------------------------------------------------------------------------------------------------\n",
    "# Transpose of the matrix\n",
    "HighSchoolmatrixT = np.transpose(HighSchoolmatrix)\n",
    "\n",
    "# Create a matrix of Agents by Agents (lib by lib)\n",
    "PP = np.mat(HighSchoolmatrixT)*np.mat(HighSchoolmatrix)\n",
    "PP[np.where(PP>0)] =1\n",
    "np.fill_diagonal(PP,0)\n",
    "\n",
    "\n",
    "#---------------------------------------------------------------------------------------------------\n",
    "from xlwt import *\n",
    "PP = pd.DataFrame(PP)\n",
    "# Export dataframe to Excel\n",
    "# you can export to both .xls and .xlsx\n",
    "PP.to_excel(\"C:\\Users\\James\\Desktop\\CinData\\HighSchoolnetworkHalfMile.xlsx\",'School')"
   ]
  },
  {
   "cell_type": "markdown",
   "metadata": {},
   "source": [
    "## One Mile Matrix"
   ]
  },
  {
   "cell_type": "code",
   "execution_count": 26,
   "metadata": {
    "collapsed": true
   },
   "outputs": [],
   "source": [
    "HighSchoolmatrix = np.zeros((len(Cin_HighSchools['Latitude']),len(CinLat_Long2)))\n",
    "i = 0\n",
    "j = 0\n",
    "\n",
    "for i in range(len(Cin_HighSchools['Latitude'])):\n",
    "    for j in range(len(CinLat_Long2)):\n",
    "        lat1  = Cin_HighSchools.iloc[i,6]\n",
    "        long1 = Cin_HighSchools.iloc[i,7]\n",
    "        resource = lat1, long1\n",
    "        lat2 = CinLat_Long2.iloc[j,1]\n",
    "        long2 = CinLat_Long2.iloc[j,2]\n",
    "        agent = lat2, long2\n",
    "        distance1 = (vincenty(resource, agent).miles)\n",
    "        if distance1 < 1:\n",
    "            HighSchoolmatrix[i][j] = 1\n",
    "    j = j+1\n",
    "i=i+1  \n",
    "\n",
    "#---------------------------------------------------------------------------------------------------\n",
    "## Need Grocery Matrix to be apart of the larger matrix of Census Tracts and Resources\n",
    "## Create a matrix to send to a file so I can pull it up\n",
    "HighSchool_Resource = HighSchoolmatrix\n",
    "HighSchool_Resource[np.where(HighSchool_Resource>0)] = 1\n",
    "np.fill_diagonal(HighSchool_Resource,0)\n",
    "\n",
    "#---------------------------------------------------------------------------------------------\n",
    "from xlwt import *\n",
    "QQ = pd.DataFrame(HighSchool_Resource)\n",
    "# Export dataframe to Excel\n",
    "# you can export to both .xls and .xlsx\n",
    "QQ.to_excel(\"C:\\Users\\James\\Desktop\\CinData\\Resources\\HighSchool_ResourceOneMile.xlsx\",'Resource')\n",
    "#---------------------------------------------------------------------------------------------------\n",
    "# Transpose of the matrix\n",
    "HighSchoolmatrixT = np.transpose(HighSchoolmatrix)\n",
    "\n",
    "# Create a matrix of Agents by Agents (lib by lib)\n",
    "PP = np.mat(HighSchoolmatrixT)*np.mat(HighSchoolmatrix)\n",
    "PP[np.where(PP>0)] =1\n",
    "np.fill_diagonal(PP,0)\n",
    "\n",
    "\n",
    "#---------------------------------------------------------------------------------------------------\n",
    "from xlwt import *\n",
    "PP = pd.DataFrame(PP)\n",
    "# Export dataframe to Excel\n",
    "# you can export to both .xls and .xlsx\n",
    "PP.to_excel(\"C:\\Users\\James\\Desktop\\CinData\\HighSchoolnetworkOneMile.xlsx\",'School')"
   ]
  },
  {
   "cell_type": "markdown",
   "metadata": {},
   "source": [
    "## One and a Half Mile"
   ]
  },
  {
   "cell_type": "code",
   "execution_count": 27,
   "metadata": {
    "collapsed": false
   },
   "outputs": [],
   "source": [
    "HighSchoolmatrix = np.zeros((len(Cin_HighSchools['Latitude']),len(CinLat_Long2)))\n",
    "i = 0\n",
    "j = 0\n",
    "\n",
    "for i in range(len(Cin_HighSchools['Latitude'])):\n",
    "    for j in range(len(CinLat_Long2)):\n",
    "        lat1  = Cin_HighSchools.iloc[i,6]\n",
    "        long1 = Cin_HighSchools.iloc[i,7]\n",
    "        resource = lat1, long1\n",
    "        lat2 = CinLat_Long2.iloc[j,1]\n",
    "        long2 = CinLat_Long2.iloc[j,2]\n",
    "        agent = lat2, long2\n",
    "        distance1 = (vincenty(resource, agent).miles)\n",
    "        if distance1 < 1.5:\n",
    "            HighSchoolmatrix[i][j] = 1\n",
    "    j = j+1\n",
    "i=i+1  \n",
    "\n",
    "#---------------------------------------------------------------------------------------------------\n",
    "## Need Grocery Matrix to be apart of the larger matrix of Census Tracts and Resources\n",
    "## Create a matrix to send to a file so I can pull it up\n",
    "HighSchool_Resource = HighSchoolmatrix\n",
    "HighSchool_Resource[np.where(HighSchool_Resource>0)] = 1\n",
    "np.fill_diagonal(HighSchool_Resource,0)\n",
    "\n",
    "#---------------------------------------------------------------------------------------------\n",
    "from xlwt import *\n",
    "QQ = pd.DataFrame(HighSchool_Resource)\n",
    "# Export dataframe to Excel\n",
    "# you can export to both .xls and .xlsx\n",
    "QQ.to_excel(\"C:\\Users\\James\\Desktop\\CinData\\Resources\\HighSchool_ResourceOneHalf.xlsx\",'Resource')\n",
    "#---------------------------------------------------------------------------------------------------\n",
    "# Transpose of the matrix\n",
    "HighSchoolmatrixT = np.transpose(HighSchoolmatrix)\n",
    "\n",
    "# Create a matrix of Agents by Agents (lib by lib)\n",
    "PP = np.mat(HighSchoolmatrixT)*np.mat(HighSchoolmatrix)\n",
    "PP[np.where(PP>0)] =1\n",
    "np.fill_diagonal(PP,0)\n",
    "\n",
    "\n",
    "#---------------------------------------------------------------------------------------------------\n",
    "from xlwt import *\n",
    "PP = pd.DataFrame(PP)\n",
    "# Export dataframe to Excel\n",
    "# you can export to both .xls and .xlsx\n",
    "PP.to_excel(\"C:\\Users\\James\\Desktop\\CinData\\HighSchoolnetworkOneandHalfMile.xlsx\",'School')"
   ]
  },
  {
   "cell_type": "code",
   "execution_count": null,
   "metadata": {
    "collapsed": true
   },
   "outputs": [],
   "source": []
  }
 ],
 "metadata": {
  "kernelspec": {
   "display_name": "Python 2",
   "language": "python",
   "name": "python2"
  },
  "language_info": {
   "codemirror_mode": {
    "name": "ipython",
    "version": 2
   },
   "file_extension": ".py",
   "mimetype": "text/x-python",
   "name": "python",
   "nbconvert_exporter": "python",
   "pygments_lexer": "ipython2",
   "version": "2.7.8"
  }
 },
 "nbformat": 4,
 "nbformat_minor": 0
}
