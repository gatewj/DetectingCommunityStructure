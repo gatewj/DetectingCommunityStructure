{
 "cells": [
  {
   "cell_type": "code",
   "execution_count": 1,
   "metadata": {
    "collapsed": true
   },
   "outputs": [],
   "source": [
    "from geopy.geocoders import Nominatim\n",
    "from geopy.distance import vincenty\n",
    "geolocator = Nominatim()"
   ]
  },
  {
   "cell_type": "code",
   "execution_count": 2,
   "metadata": {
    "collapsed": false
   },
   "outputs": [
    {
     "name": "stdout",
     "output_type": "stream",
     "text": [
      "Populating the interactive namespace from numpy and matplotlib\n"
     ]
    }
   ],
   "source": [
    "%pylab inline\n",
    "import pandas as pd\n",
    "import numpy as np\n",
    "import matplotlib.pyplot as plt"
   ]
  },
  {
   "cell_type": "code",
   "execution_count": 3,
   "metadata": {
    "collapsed": true
   },
   "outputs": [],
   "source": [
    "# Load in the Park Data\n",
    "Cin_Parks = pd.read_csv(\"C:\\Users\\James\\Desktop\\CinData\\CinParks2.csv\")"
   ]
  },
  {
   "cell_type": "code",
   "execution_count": 4,
   "metadata": {
    "collapsed": false
   },
   "outputs": [
    {
     "data": {
      "text/html": [
       "<div style=\"max-height:1000px;max-width:1500px;overflow:auto;\">\n",
       "<table border=\"1\" class=\"dataframe\">\n",
       "  <thead>\n",
       "    <tr style=\"text-align: right;\">\n",
       "      <th></th>\n",
       "      <th>Park</th>\n",
       "      <th>Address</th>\n",
       "    </tr>\n",
       "  </thead>\n",
       "  <tbody>\n",
       "    <tr>\n",
       "      <th>0</th>\n",
       "      <td>                        Alms Park</td>\n",
       "      <td>    711 Alms Park Lane Cincinnati, OH 45226</td>\n",
       "    </tr>\n",
       "    <tr>\n",
       "      <th>1</th>\n",
       "      <td>                     Annwood Park</td>\n",
       "      <td>    1900 Madison Rd., Cincinnati, OH, 45231</td>\n",
       "    </tr>\n",
       "    <tr>\n",
       "      <th>2</th>\n",
       "      <td>                        Ault Park</td>\n",
       "      <td> 3600 Observatory Ave, Cincinnati, OH 45208</td>\n",
       "    </tr>\n",
       "    <tr>\n",
       "      <th>3</th>\n",
       "      <td>          Bettman Nature Preserve</td>\n",
       "      <td>        4 Beech Lane, Cincinnati, OH, 45208</td>\n",
       "    </tr>\n",
       "    <tr>\n",
       "      <th>4</th>\n",
       "      <td> California Woods Nature Preserve</td>\n",
       "      <td>     California Woods, Cincinnati, OH 45230</td>\n",
       "    </tr>\n",
       "  </tbody>\n",
       "</table>\n",
       "</div>"
      ],
      "text/plain": [
       "                               Park  \\\n",
       "0                         Alms Park   \n",
       "1                      Annwood Park   \n",
       "2                         Ault Park   \n",
       "3           Bettman Nature Preserve   \n",
       "4  California Woods Nature Preserve   \n",
       "\n",
       "                                      Address  \n",
       "0     711 Alms Park Lane Cincinnati, OH 45226  \n",
       "1     1900 Madison Rd., Cincinnati, OH, 45231  \n",
       "2  3600 Observatory Ave, Cincinnati, OH 45208  \n",
       "3         4 Beech Lane, Cincinnati, OH, 45208  \n",
       "4      California Woods, Cincinnati, OH 45230  "
      ]
     },
     "execution_count": 4,
     "metadata": {},
     "output_type": "execute_result"
    }
   ],
   "source": [
    "Cin_Parks.head()"
   ]
  },
  {
   "cell_type": "code",
   "execution_count": 5,
   "metadata": {
    "collapsed": false
   },
   "outputs": [],
   "source": [
    "# Testing to see if it works\n",
    "location = geolocator.geocode(\"4 Beech Lane, Cincinnati, OH, 45208\")"
   ]
  },
  {
   "cell_type": "code",
   "execution_count": 6,
   "metadata": {
    "collapsed": false
   },
   "outputs": [
    {
     "data": {
      "text/plain": [
       "'1900 Madison Rd., Cincinnati, OH, 45231'"
      ]
     },
     "execution_count": 6,
     "metadata": {},
     "output_type": "execute_result"
    }
   ],
   "source": [
    "Cin_Parks[\"Address\"][1]"
   ]
  },
  {
   "cell_type": "code",
   "execution_count": 7,
   "metadata": {
    "collapsed": false
   },
   "outputs": [
    {
     "name": "stdout",
     "output_type": "stream",
     "text": [
      "4, Beech Lane, O’Bryonville, Cincinnati, Hamilton County, Ohio, 45208, United States of America\n"
     ]
    }
   ],
   "source": [
    "print(location.address)"
   ]
  },
  {
   "cell_type": "code",
   "execution_count": 8,
   "metadata": {
    "collapsed": false
   },
   "outputs": [
    {
     "name": "stdout",
     "output_type": "stream",
     "text": [
      "39.1360039414\n"
     ]
    }
   ],
   "source": [
    "print(location.latitude)"
   ]
  },
  {
   "cell_type": "code",
   "execution_count": 9,
   "metadata": {
    "collapsed": false
   },
   "outputs": [
    {
     "name": "stdout",
     "output_type": "stream",
     "text": [
      "-84.4590633382\n"
     ]
    }
   ],
   "source": [
    "print(location.longitude)"
   ]
  },
  {
   "cell_type": "code",
   "execution_count": null,
   "metadata": {
    "collapsed": true
   },
   "outputs": [],
   "source": []
  },
  {
   "cell_type": "code",
   "execution_count": null,
   "metadata": {
    "collapsed": true
   },
   "outputs": [],
   "source": []
  },
  {
   "cell_type": "code",
   "execution_count": 10,
   "metadata": {
    "collapsed": false
   },
   "outputs": [
    {
     "data": {
      "text/html": [
       "<div style=\"max-height:1000px;max-width:1500px;overflow:auto;\">\n",
       "<table border=\"1\" class=\"dataframe\">\n",
       "  <thead>\n",
       "    <tr style=\"text-align: right;\">\n",
       "      <th></th>\n",
       "      <th>Park</th>\n",
       "      <th>Address</th>\n",
       "    </tr>\n",
       "  </thead>\n",
       "  <tbody>\n",
       "    <tr>\n",
       "      <th>0</th>\n",
       "      <td>                        Alms Park</td>\n",
       "      <td>    711 Alms Park Lane Cincinnati, OH 45226</td>\n",
       "    </tr>\n",
       "    <tr>\n",
       "      <th>1</th>\n",
       "      <td>                     Annwood Park</td>\n",
       "      <td>    1900 Madison Rd., Cincinnati, OH, 45231</td>\n",
       "    </tr>\n",
       "    <tr>\n",
       "      <th>2</th>\n",
       "      <td>                        Ault Park</td>\n",
       "      <td> 3600 Observatory Ave, Cincinnati, OH 45208</td>\n",
       "    </tr>\n",
       "    <tr>\n",
       "      <th>3</th>\n",
       "      <td>          Bettman Nature Preserve</td>\n",
       "      <td>        4 Beech Lane, Cincinnati, OH, 45208</td>\n",
       "    </tr>\n",
       "    <tr>\n",
       "      <th>4</th>\n",
       "      <td> California Woods Nature Preserve</td>\n",
       "      <td>     California Woods, Cincinnati, OH 45230</td>\n",
       "    </tr>\n",
       "  </tbody>\n",
       "</table>\n",
       "</div>"
      ],
      "text/plain": [
       "                               Park  \\\n",
       "0                         Alms Park   \n",
       "1                      Annwood Park   \n",
       "2                         Ault Park   \n",
       "3           Bettman Nature Preserve   \n",
       "4  California Woods Nature Preserve   \n",
       "\n",
       "                                      Address  \n",
       "0     711 Alms Park Lane Cincinnati, OH 45226  \n",
       "1     1900 Madison Rd., Cincinnati, OH, 45231  \n",
       "2  3600 Observatory Ave, Cincinnati, OH 45208  \n",
       "3         4 Beech Lane, Cincinnati, OH, 45208  \n",
       "4      California Woods, Cincinnati, OH 45230  "
      ]
     },
     "execution_count": 10,
     "metadata": {},
     "output_type": "execute_result"
    }
   ],
   "source": [
    "Cin_Parks.head()"
   ]
  },
  {
   "cell_type": "code",
   "execution_count": null,
   "metadata": {
    "collapsed": false
   },
   "outputs": [],
   "source": []
  },
  {
   "cell_type": "code",
   "execution_count": 11,
   "metadata": {
    "collapsed": false
   },
   "outputs": [],
   "source": [
    "Parks_Long = []\n",
    "Parks_Lat = []\n",
    "\n",
    "for value in Cin_Parks.Address:\n",
    "    location = geolocator.geocode(value)\n",
    "    if location == None:\n",
    "        Parks_Long.append(0)\n",
    "        Parks_Lat.append(0)\n",
    "    else:\n",
    "        Parks_Long.append(location.longitude)\n",
    "        Parks_Lat.append(location.latitude) "
   ]
  },
  {
   "cell_type": "code",
   "execution_count": 12,
   "metadata": {
    "collapsed": false
   },
   "outputs": [
    {
     "data": {
      "text/html": [
       "<div style=\"max-height:1000px;max-width:1500px;overflow:auto;\">\n",
       "<table border=\"1\" class=\"dataframe\">\n",
       "  <thead>\n",
       "    <tr style=\"text-align: right;\">\n",
       "      <th></th>\n",
       "      <th>Park</th>\n",
       "      <th>Address</th>\n",
       "      <th>Latitude</th>\n",
       "      <th>Longitude</th>\n",
       "    </tr>\n",
       "  </thead>\n",
       "  <tbody>\n",
       "    <tr>\n",
       "      <th>0 </th>\n",
       "      <td>                                       Alms Park</td>\n",
       "      <td>       711 Alms Park Lane Cincinnati, OH 45226</td>\n",
       "      <td>  0.000000</td>\n",
       "      <td>  0.000000</td>\n",
       "    </tr>\n",
       "    <tr>\n",
       "      <th>1 </th>\n",
       "      <td>                                    Annwood Park</td>\n",
       "      <td>       1900 Madison Rd., Cincinnati, OH, 45231</td>\n",
       "      <td>  0.000000</td>\n",
       "      <td>  0.000000</td>\n",
       "    </tr>\n",
       "    <tr>\n",
       "      <th>2 </th>\n",
       "      <td>                                       Ault Park</td>\n",
       "      <td>    3600 Observatory Ave, Cincinnati, OH 45208</td>\n",
       "      <td> 39.138690</td>\n",
       "      <td>-84.416345</td>\n",
       "    </tr>\n",
       "    <tr>\n",
       "      <th>3 </th>\n",
       "      <td>                         Bettman Nature Preserve</td>\n",
       "      <td>           4 Beech Lane, Cincinnati, OH, 45208</td>\n",
       "      <td> 39.136004</td>\n",
       "      <td>-84.459063</td>\n",
       "    </tr>\n",
       "    <tr>\n",
       "      <th>4 </th>\n",
       "      <td>                California Woods Nature Preserve</td>\n",
       "      <td>        California Woods, Cincinnati, OH 45230</td>\n",
       "      <td>  0.000000</td>\n",
       "      <td>  0.000000</td>\n",
       "    </tr>\n",
       "    <tr>\n",
       "      <th>5 </th>\n",
       "      <td>                               Daniel Drake Park</td>\n",
       "      <td>       5800 Red Bank Road Cincinnati, OH 45213</td>\n",
       "      <td> 39.175080</td>\n",
       "      <td>-84.406097</td>\n",
       "    </tr>\n",
       "    <tr>\n",
       "      <th>6 </th>\n",
       "      <td>                                     French Park</td>\n",
       "      <td>        3012 Section Road Cincinnati, OH 45237</td>\n",
       "      <td> 39.197188</td>\n",
       "      <td>-84.454866</td>\n",
       "    </tr>\n",
       "    <tr>\n",
       "      <th>7 </th>\n",
       "      <td>                                Buttercup Valley</td>\n",
       "      <td>            1558 Stanford Drive Cincinnati, OH</td>\n",
       "      <td> 39.174240</td>\n",
       "      <td>-84.541408</td>\n",
       "    </tr>\n",
       "    <tr>\n",
       "      <th>8 </th>\n",
       "      <td>                                   Mt. Echo Park</td>\n",
       "      <td>      202 Crestline Drive Cincinnati, OH 45202</td>\n",
       "      <td>  0.000000</td>\n",
       "      <td>  0.000000</td>\n",
       "    </tr>\n",
       "    <tr>\n",
       "      <th>9 </th>\n",
       "      <td>                                   Fernbank Park</td>\n",
       "      <td>         50 Thornton Ave, Cincinnati, OH 45233</td>\n",
       "      <td> 39.125616</td>\n",
       "      <td>-84.705989</td>\n",
       "    </tr>\n",
       "    <tr>\n",
       "      <th>10</th>\n",
       "      <td>                                   Glenway Woods</td>\n",
       "      <td>         1650 Ross Ave., Cincinnati, OH, 45205</td>\n",
       "      <td> 39.118150</td>\n",
       "      <td>-84.569689</td>\n",
       "    </tr>\n",
       "    <tr>\n",
       "      <th>11</th>\n",
       "      <td>                                    Hoffner Park</td>\n",
       "      <td>     4101 Hamilton Ave., Cincinnati, OH, 45223</td>\n",
       "      <td> 39.160241</td>\n",
       "      <td>-84.539484</td>\n",
       "    </tr>\n",
       "    <tr>\n",
       "      <th>12</th>\n",
       "      <td>                                LaBoiteaux Woods</td>\n",
       "      <td>          5400 Lanius Ln, Cincinnati, OH 45224</td>\n",
       "      <td> 39.190359</td>\n",
       "      <td>-84.543588</td>\n",
       "    </tr>\n",
       "    <tr>\n",
       "      <th>13</th>\n",
       "      <td>                                     McEvoy Park</td>\n",
       "      <td>          6201 Daly Rd., Cincinnati, OH, 45224</td>\n",
       "      <td> 39.202218</td>\n",
       "      <td>-84.532375</td>\n",
       "    </tr>\n",
       "    <tr>\n",
       "      <th>14</th>\n",
       "      <td>                                      Avon Woods</td>\n",
       "      <td>         4235 Paddock Rd, Cincinnati, OH 45229</td>\n",
       "      <td> 39.160797</td>\n",
       "      <td>-84.479796</td>\n",
       "    </tr>\n",
       "    <tr>\n",
       "      <th>15</th>\n",
       "      <td>                                   Bellevue Park</td>\n",
       "      <td>               2191 Ohio Avenue Cincinnati, Oh</td>\n",
       "      <td> 39.123054</td>\n",
       "      <td>-84.517697</td>\n",
       "    </tr>\n",
       "    <tr>\n",
       "      <th>16</th>\n",
       "      <td>                                    Burnet Woods</td>\n",
       "      <td>      3251 Brookline Ave, Cincinnati, OH 45220</td>\n",
       "      <td> 39.144126</td>\n",
       "      <td>-84.515441</td>\n",
       "    </tr>\n",
       "    <tr>\n",
       "      <th>17</th>\n",
       "      <td>                        Caldwell Nature Preserve</td>\n",
       "      <td>                          Cincinnati, OH 45216</td>\n",
       "      <td> 39.101454</td>\n",
       "      <td>-84.512460</td>\n",
       "    </tr>\n",
       "    <tr>\n",
       "      <th>18</th>\n",
       "      <td>                                       Eden Park</td>\n",
       "      <td>                  Eden Park Dr, Cincinnati, OH</td>\n",
       "      <td> 39.118106</td>\n",
       "      <td>-84.488147</td>\n",
       "    </tr>\n",
       "    <tr>\n",
       "      <th>19</th>\n",
       "      <td>                                   Fairview Park</td>\n",
       "      <td>    501 W. McMillan St., Cincinnati, OH, 45219</td>\n",
       "      <td> 39.128972</td>\n",
       "      <td>-84.528493</td>\n",
       "    </tr>\n",
       "    <tr>\n",
       "      <th>20</th>\n",
       "      <td>                             Fleischmann Gardens</td>\n",
       "      <td>                          Cincinnati, OH 45229</td>\n",
       "      <td> 39.101454</td>\n",
       "      <td>-84.512460</td>\n",
       "    </tr>\n",
       "    <tr>\n",
       "      <th>21</th>\n",
       "      <td>                         Hauck Botanical Gardens</td>\n",
       "      <td>         2715 Reading Rd, Cincinnati, OH 45206</td>\n",
       "      <td> 39.129831</td>\n",
       "      <td>-84.498486</td>\n",
       "    </tr>\n",
       "    <tr>\n",
       "      <th>22</th>\n",
       "      <td>                          Smale Riverfront Park </td>\n",
       "      <td>        West Mehring Way, Cincinnati, OH 45202</td>\n",
       "      <td> 39.094921</td>\n",
       "      <td>-84.513052</td>\n",
       "    </tr>\n",
       "    <tr>\n",
       "      <th>23</th>\n",
       "      <td>                   Sawyer Point &amp; Yeatman's Cove</td>\n",
       "      <td>        705 East Pete Rose Way, Cincinnati, OH</td>\n",
       "      <td> 39.101244</td>\n",
       "      <td>-84.500536</td>\n",
       "    </tr>\n",
       "    <tr>\n",
       "      <th>24</th>\n",
       "      <td> Theodore M. Berry International Friendship Park</td>\n",
       "      <td>       1101 Riverside Dr, Cincinnati, OH 45202</td>\n",
       "      <td> 39.106142</td>\n",
       "      <td>-84.493400</td>\n",
       "    </tr>\n",
       "    <tr>\n",
       "      <th>25</th>\n",
       "      <td>                                 Geier Esplanade</td>\n",
       "      <td>       2980 Madison Rd., Cincinnati, OH, 45209</td>\n",
       "      <td> 39.150642</td>\n",
       "      <td>-84.434203</td>\n",
       "    </tr>\n",
       "    <tr>\n",
       "      <th>26</th>\n",
       "      <td>                                Hyde Park Square</td>\n",
       "      <td>           2700 Erie Ave, Cincinnati, OH 45208</td>\n",
       "      <td> 39.139772</td>\n",
       "      <td>-84.443176</td>\n",
       "    </tr>\n",
       "    <tr>\n",
       "      <th>27</th>\n",
       "      <td>                            Kennedy Heights Park</td>\n",
       "      <td>      6037 Kennedy Ave., Cincinnati, OH, 45213</td>\n",
       "      <td> 39.181142</td>\n",
       "      <td>-84.414567</td>\n",
       "    </tr>\n",
       "    <tr>\n",
       "      <th>28</th>\n",
       "      <td>                              Larz Anderson Park</td>\n",
       "      <td>       2905 Golden Ave., Cincinnati, OH, 45226</td>\n",
       "      <td> 39.122895</td>\n",
       "      <td>-84.448714</td>\n",
       "    </tr>\n",
       "    <tr>\n",
       "      <th>29</th>\n",
       "      <td>                                  Owls Nest Park</td>\n",
       "      <td>       1984 Madison Rd., Cincinnati, OH, 45231</td>\n",
       "      <td>  0.000000</td>\n",
       "      <td>  0.000000</td>\n",
       "    </tr>\n",
       "    <tr>\n",
       "      <th>30</th>\n",
       "      <td>                                Pioneer Cemetery</td>\n",
       "      <td>        333 Wilmer Ave., Cincinnati, OH, 45228</td>\n",
       "      <td>  0.000000</td>\n",
       "      <td>  0.000000</td>\n",
       "    </tr>\n",
       "    <tr>\n",
       "      <th>31</th>\n",
       "      <td>                                   Stanbery Park</td>\n",
       "      <td>         2221 Oxford Ave, Cincinnati, OH 45230</td>\n",
       "      <td> 39.095663</td>\n",
       "      <td>-84.388254</td>\n",
       "    </tr>\n",
       "    <tr>\n",
       "      <th>32</th>\n",
       "      <td>                                 Mt. Airy Forest</td>\n",
       "      <td>       5083 Colerain Ave, Cincinnati, OH 45223</td>\n",
       "      <td> 39.179734</td>\n",
       "      <td>-84.566014</td>\n",
       "    </tr>\n",
       "    <tr>\n",
       "      <th>33</th>\n",
       "      <td>                                 Olden View Park</td>\n",
       "      <td>                2610 8th Street Cincinnati, OH</td>\n",
       "      <td>  0.000000</td>\n",
       "      <td>  0.000000</td>\n",
       "    </tr>\n",
       "    <tr>\n",
       "      <th>34</th>\n",
       "      <td>                                   Parkers Woods</td>\n",
       "      <td>       4400 Haight Ave., Cincinnati, OH, 45223</td>\n",
       "      <td> 39.169303</td>\n",
       "      <td>-84.540758</td>\n",
       "    </tr>\n",
       "    <tr>\n",
       "      <th>35</th>\n",
       "      <td>                                  Rapid Run Park</td>\n",
       "      <td>      4450 Rapid Run Road Cincinnati, OH 45238</td>\n",
       "      <td> 39.117472</td>\n",
       "      <td>-84.586869</td>\n",
       "    </tr>\n",
       "    <tr>\n",
       "      <th>36</th>\n",
       "      <td>                                     Sayler Park</td>\n",
       "      <td>       6600 Gracely Dr., Cincinnati, OH, 45233</td>\n",
       "      <td> 39.112680</td>\n",
       "      <td>-84.692571</td>\n",
       "    </tr>\n",
       "    <tr>\n",
       "      <th>37</th>\n",
       "      <td>                                  Wilson Commons</td>\n",
       "      <td>                2951 Bodley Ave Cincinnati, OH</td>\n",
       "      <td> 39.102264</td>\n",
       "      <td>-84.560966</td>\n",
       "    </tr>\n",
       "    <tr>\n",
       "      <th>38</th>\n",
       "      <td>                              Mt. Airy Arboretum</td>\n",
       "      <td>       5083 Colerain Ave, Cincinnati, OH 45223</td>\n",
       "      <td> 39.179734</td>\n",
       "      <td>-84.566014</td>\n",
       "    </tr>\n",
       "    <tr>\n",
       "      <th>39</th>\n",
       "      <td>                                    Hopkins Park</td>\n",
       "      <td>    207 Dorchester Ave., Cincinnati, OH, 45219</td>\n",
       "      <td> 39.117871</td>\n",
       "      <td>-84.508529</td>\n",
       "    </tr>\n",
       "    <tr>\n",
       "      <th>40</th>\n",
       "      <td>                                     Inwood Park</td>\n",
       "      <td>          2308 Vine St., Cincinnati, OH, 45219</td>\n",
       "      <td> 39.126131</td>\n",
       "      <td>-84.512632</td>\n",
       "    </tr>\n",
       "    <tr>\n",
       "      <th>41</th>\n",
       "      <td>                                     Laurel Park</td>\n",
       "      <td> 500 Ezzard Charles Dr., Cincinnati, OH, 45203</td>\n",
       "      <td> 39.109105</td>\n",
       "      <td>-84.523361</td>\n",
       "    </tr>\n",
       "    <tr>\n",
       "      <th>42</th>\n",
       "      <td>                                      Lytle Park</td>\n",
       "      <td>                          Cincinnati, OH 45202</td>\n",
       "      <td> 39.101454</td>\n",
       "      <td>-84.512460</td>\n",
       "    </tr>\n",
       "    <tr>\n",
       "      <th>43</th>\n",
       "      <td>                                  Mt. Storm Park</td>\n",
       "      <td>       700 Lafayette Ave, Cincinnati, OH 45223</td>\n",
       "      <td> 39.150624</td>\n",
       "      <td>-84.532359</td>\n",
       "    </tr>\n",
       "    <tr>\n",
       "      <th>44</th>\n",
       "      <td>                                      Piatt Park</td>\n",
       "      <td>         100 Garfield Pl, Cincinnati, OH 45202</td>\n",
       "      <td>  0.000000</td>\n",
       "      <td>  0.000000</td>\n",
       "    </tr>\n",
       "    <tr>\n",
       "      <th>45</th>\n",
       "      <td>                    Rawson Woods Nature Preserve</td>\n",
       "      <td>    3701 Middleton Ave., Cincinnati, OH, 45220</td>\n",
       "      <td> 39.150224</td>\n",
       "      <td>-84.521926</td>\n",
       "    </tr>\n",
       "    <tr>\n",
       "      <th>46</th>\n",
       "      <td>                                 Washington Park</td>\n",
       "      <td>             1230 Elm St, Cincinnati, OH 45202</td>\n",
       "      <td> 39.108065</td>\n",
       "      <td>-84.517953</td>\n",
       "    </tr>\n",
       "    <tr>\n",
       "      <th>47</th>\n",
       "      <td>                              Otto Armleder Park</td>\n",
       "      <td>       5057 Wooster Pike, Cincinnati, OH 45227</td>\n",
       "      <td> 39.135534</td>\n",
       "      <td>-84.400010</td>\n",
       "    </tr>\n",
       "    <tr>\n",
       "      <th>48</th>\n",
       "      <td>                                Magrish Preserve</td>\n",
       "      <td>         5000 Salem Rd., Cincinnati, OH, 45230</td>\n",
       "      <td> 39.081892</td>\n",
       "      <td>-84.418613</td>\n",
       "    </tr>\n",
       "  </tbody>\n",
       "</table>\n",
       "</div>"
      ],
      "text/plain": [
       "                                               Park  \\\n",
       "0                                         Alms Park   \n",
       "1                                      Annwood Park   \n",
       "2                                         Ault Park   \n",
       "3                           Bettman Nature Preserve   \n",
       "4                  California Woods Nature Preserve   \n",
       "5                                 Daniel Drake Park   \n",
       "6                                       French Park   \n",
       "7                                  Buttercup Valley   \n",
       "8                                     Mt. Echo Park   \n",
       "9                                     Fernbank Park   \n",
       "10                                    Glenway Woods   \n",
       "11                                     Hoffner Park   \n",
       "12                                 LaBoiteaux Woods   \n",
       "13                                      McEvoy Park   \n",
       "14                                       Avon Woods   \n",
       "15                                    Bellevue Park   \n",
       "16                                     Burnet Woods   \n",
       "17                         Caldwell Nature Preserve   \n",
       "18                                        Eden Park   \n",
       "19                                    Fairview Park   \n",
       "20                              Fleischmann Gardens   \n",
       "21                          Hauck Botanical Gardens   \n",
       "22                           Smale Riverfront Park    \n",
       "23                    Sawyer Point & Yeatman's Cove   \n",
       "24  Theodore M. Berry International Friendship Park   \n",
       "25                                  Geier Esplanade   \n",
       "26                                 Hyde Park Square   \n",
       "27                             Kennedy Heights Park   \n",
       "28                               Larz Anderson Park   \n",
       "29                                   Owls Nest Park   \n",
       "30                                 Pioneer Cemetery   \n",
       "31                                    Stanbery Park   \n",
       "32                                  Mt. Airy Forest   \n",
       "33                                  Olden View Park   \n",
       "34                                    Parkers Woods   \n",
       "35                                   Rapid Run Park   \n",
       "36                                      Sayler Park   \n",
       "37                                   Wilson Commons   \n",
       "38                               Mt. Airy Arboretum   \n",
       "39                                     Hopkins Park   \n",
       "40                                      Inwood Park   \n",
       "41                                      Laurel Park   \n",
       "42                                       Lytle Park   \n",
       "43                                   Mt. Storm Park   \n",
       "44                                       Piatt Park   \n",
       "45                     Rawson Woods Nature Preserve   \n",
       "46                                  Washington Park   \n",
       "47                               Otto Armleder Park   \n",
       "48                                 Magrish Preserve   \n",
       "\n",
       "                                          Address   Latitude  Longitude  \n",
       "0         711 Alms Park Lane Cincinnati, OH 45226   0.000000   0.000000  \n",
       "1         1900 Madison Rd., Cincinnati, OH, 45231   0.000000   0.000000  \n",
       "2      3600 Observatory Ave, Cincinnati, OH 45208  39.138690 -84.416345  \n",
       "3             4 Beech Lane, Cincinnati, OH, 45208  39.136004 -84.459063  \n",
       "4          California Woods, Cincinnati, OH 45230   0.000000   0.000000  \n",
       "5         5800 Red Bank Road Cincinnati, OH 45213  39.175080 -84.406097  \n",
       "6          3012 Section Road Cincinnati, OH 45237  39.197188 -84.454866  \n",
       "7              1558 Stanford Drive Cincinnati, OH  39.174240 -84.541408  \n",
       "8        202 Crestline Drive Cincinnati, OH 45202   0.000000   0.000000  \n",
       "9           50 Thornton Ave, Cincinnati, OH 45233  39.125616 -84.705989  \n",
       "10          1650 Ross Ave., Cincinnati, OH, 45205  39.118150 -84.569689  \n",
       "11      4101 Hamilton Ave., Cincinnati, OH, 45223  39.160241 -84.539484  \n",
       "12           5400 Lanius Ln, Cincinnati, OH 45224  39.190359 -84.543588  \n",
       "13           6201 Daly Rd., Cincinnati, OH, 45224  39.202218 -84.532375  \n",
       "14          4235 Paddock Rd, Cincinnati, OH 45229  39.160797 -84.479796  \n",
       "15                2191 Ohio Avenue Cincinnati, Oh  39.123054 -84.517697  \n",
       "16       3251 Brookline Ave, Cincinnati, OH 45220  39.144126 -84.515441  \n",
       "17                           Cincinnati, OH 45216  39.101454 -84.512460  \n",
       "18                   Eden Park Dr, Cincinnati, OH  39.118106 -84.488147  \n",
       "19     501 W. McMillan St., Cincinnati, OH, 45219  39.128972 -84.528493  \n",
       "20                           Cincinnati, OH 45229  39.101454 -84.512460  \n",
       "21          2715 Reading Rd, Cincinnati, OH 45206  39.129831 -84.498486  \n",
       "22         West Mehring Way, Cincinnati, OH 45202  39.094921 -84.513052  \n",
       "23         705 East Pete Rose Way, Cincinnati, OH  39.101244 -84.500536  \n",
       "24        1101 Riverside Dr, Cincinnati, OH 45202  39.106142 -84.493400  \n",
       "25        2980 Madison Rd., Cincinnati, OH, 45209  39.150642 -84.434203  \n",
       "26            2700 Erie Ave, Cincinnati, OH 45208  39.139772 -84.443176  \n",
       "27       6037 Kennedy Ave., Cincinnati, OH, 45213  39.181142 -84.414567  \n",
       "28        2905 Golden Ave., Cincinnati, OH, 45226  39.122895 -84.448714  \n",
       "29        1984 Madison Rd., Cincinnati, OH, 45231   0.000000   0.000000  \n",
       "30         333 Wilmer Ave., Cincinnati, OH, 45228   0.000000   0.000000  \n",
       "31          2221 Oxford Ave, Cincinnati, OH 45230  39.095663 -84.388254  \n",
       "32        5083 Colerain Ave, Cincinnati, OH 45223  39.179734 -84.566014  \n",
       "33                 2610 8th Street Cincinnati, OH   0.000000   0.000000  \n",
       "34        4400 Haight Ave., Cincinnati, OH, 45223  39.169303 -84.540758  \n",
       "35       4450 Rapid Run Road Cincinnati, OH 45238  39.117472 -84.586869  \n",
       "36        6600 Gracely Dr., Cincinnati, OH, 45233  39.112680 -84.692571  \n",
       "37                 2951 Bodley Ave Cincinnati, OH  39.102264 -84.560966  \n",
       "38        5083 Colerain Ave, Cincinnati, OH 45223  39.179734 -84.566014  \n",
       "39     207 Dorchester Ave., Cincinnati, OH, 45219  39.117871 -84.508529  \n",
       "40           2308 Vine St., Cincinnati, OH, 45219  39.126131 -84.512632  \n",
       "41  500 Ezzard Charles Dr., Cincinnati, OH, 45203  39.109105 -84.523361  \n",
       "42                           Cincinnati, OH 45202  39.101454 -84.512460  \n",
       "43        700 Lafayette Ave, Cincinnati, OH 45223  39.150624 -84.532359  \n",
       "44          100 Garfield Pl, Cincinnati, OH 45202   0.000000   0.000000  \n",
       "45     3701 Middleton Ave., Cincinnati, OH, 45220  39.150224 -84.521926  \n",
       "46              1230 Elm St, Cincinnati, OH 45202  39.108065 -84.517953  \n",
       "47        5057 Wooster Pike, Cincinnati, OH 45227  39.135534 -84.400010  \n",
       "48          5000 Salem Rd., Cincinnati, OH, 45230  39.081892 -84.418613  "
      ]
     },
     "execution_count": 12,
     "metadata": {},
     "output_type": "execute_result"
    }
   ],
   "source": [
    "Cin_Parks[\"Latitude\"] = Parks_Lat\n",
    "Cin_Parks[\"Longitude\"] = Parks_Long\n",
    "Cin_Parks"
   ]
  },
  {
   "cell_type": "code",
   "execution_count": 13,
   "metadata": {
    "collapsed": false
   },
   "outputs": [],
   "source": [
    "Cin_ParksLoc = Cin_Parks[Cin_Parks[\"Latitude\"]>0]"
   ]
  },
  {
   "cell_type": "markdown",
   "metadata": {},
   "source": [
    "# Plot Data to Go Onto Map"
   ]
  },
  {
   "cell_type": "code",
   "execution_count": 14,
   "metadata": {
    "collapsed": true
   },
   "outputs": [],
   "source": [
    "from xlwt import *\n",
    "Cin_ParksLoc = pd.DataFrame(Cin_ParksLoc)\n",
    "# Export dataframe to Excel\n",
    "# you can export to both .xls and .xlsx\n",
    "Cin_ParksLoc.to_excel(\"C:\\Users\\James\\Desktop\\CinData\\ResourceLocation\\Park_Resource_Location.xlsx\",'Resource')"
   ]
  },
  {
   "cell_type": "markdown",
   "metadata": {},
   "source": [
    "## Load in the Census Data"
   ]
  },
  {
   "cell_type": "code",
   "execution_count": 31,
   "metadata": {
    "collapsed": false
   },
   "outputs": [],
   "source": [
    "census_files = pd.read_csv(\"C:\\Users\\James\\Desktop\\CinData\\OhioCensusTracts\\OhioCensusTracts.csv\")\n",
    "\n",
    "#-----------------------------------------------------------------------------------------------------\n",
    "HamiltonCounty = census_files[census_files['COUNTYFP10'] == 61]\n",
    "\n",
    "#----------------------------------------------------------------------\n",
    "\n",
    "\n",
    "# Load in Census Data that I already sorted, which also has the Neighborhood locations as well (Cleaned up)\n",
    "\n",
    "CensusCin = pd.read_csv(\"C:\\Users\\James\\Desktop\\CinData\\CinCensusTracts.csv\")\n",
    "\n",
    "#-----------------------------------------------------------------------\n",
    "\n",
    "CinTracts = list(CensusCin['GEOID'])\n",
    "\n",
    "Cin_Census_Tract2 = []\n",
    "index_values = []\n",
    "true_values = []\n",
    "for value in HamiltonCounty['GEOID10']:\n",
    "    s = value in CinTracts\n",
    "    true_values.append(s)\n",
    "    u = HamiltonCounty.GEOID10[HamiltonCounty.GEOID10 == value].index.tolist() \n",
    "    if s == True:\n",
    "        Cin_Census_Tract2.append(HamiltonCounty.ix[u])\n",
    "        index_values.append(u)    \n",
    "        \n",
    "#------------------------------------------------------------------------\n",
    "Cincinnati_City = HamiltonCounty[true_values]\n",
    "\n",
    "#------------------------------------------------------------------------\n",
    "CinLat_Long = Cincinnati_City[['NAME10','GEOID10','INTPTLAT10','INTPTLON10']]\n",
    "CinLat_Long.columns = ['Name','Census Tract','Latitude','Longitude']\n",
    "\n",
    "#------------------------------------------------------------------------\n",
    "# Copy a dataframe\n",
    "CinLat_Long2 = CinLat_Long.copy()\n",
    "\n",
    "# Change the index of the dataframe\n",
    "CinLat_Long2 = CinLat_Long2.sort(\"Name\")\n",
    "CinLat_Long2 = CinLat_Long2.set_index([range(110)])"
   ]
  },
  {
   "cell_type": "code",
   "execution_count": 22,
   "metadata": {
    "collapsed": false
   },
   "outputs": [
    {
     "data": {
      "text/plain": [
       "Index([u'STATEFP10', u'COUNTYFP10', u'TRACTCE10', u'GEOID10', u'NAME10', u'NAMELSAD10', u'MTFCC10', u'FUNCSTAT10', u'ALAND10', u'AWATER10', u'INTPTLAT10', u'INTPTLON10'], dtype='object')"
      ]
     },
     "execution_count": 22,
     "metadata": {},
     "output_type": "execute_result"
    }
   ],
   "source": [
    "HamiltonCounty.columns"
   ]
  },
  {
   "cell_type": "code",
   "execution_count": 32,
   "metadata": {
    "collapsed": false
   },
   "outputs": [
    {
     "data": {
      "text/html": [
       "<div style=\"max-height:1000px;max-width:1500px;overflow:auto;\">\n",
       "<table border=\"1\" class=\"dataframe\">\n",
       "  <thead>\n",
       "    <tr style=\"text-align: right;\">\n",
       "      <th></th>\n",
       "      <th>Name</th>\n",
       "      <th>Census Tract</th>\n",
       "      <th>Latitude</th>\n",
       "      <th>Longitude</th>\n",
       "    </tr>\n",
       "  </thead>\n",
       "  <tbody>\n",
       "    <tr>\n",
       "      <th>0</th>\n",
       "      <td>  2</td>\n",
       "      <td> 39061000200</td>\n",
       "      <td> 39.109783</td>\n",
       "      <td>-84.529551</td>\n",
       "    </tr>\n",
       "    <tr>\n",
       "      <th>1</th>\n",
       "      <td>  9</td>\n",
       "      <td> 39061000900</td>\n",
       "      <td> 39.109921</td>\n",
       "      <td>-84.517754</td>\n",
       "    </tr>\n",
       "    <tr>\n",
       "      <th>2</th>\n",
       "      <td> 10</td>\n",
       "      <td> 39061001000</td>\n",
       "      <td> 39.110107</td>\n",
       "      <td>-84.512822</td>\n",
       "    </tr>\n",
       "    <tr>\n",
       "      <th>3</th>\n",
       "      <td> 16</td>\n",
       "      <td> 39061001600</td>\n",
       "      <td> 39.116750</td>\n",
       "      <td>-84.520418</td>\n",
       "    </tr>\n",
       "    <tr>\n",
       "      <th>4</th>\n",
       "      <td> 17</td>\n",
       "      <td> 39061001700</td>\n",
       "      <td> 39.115164</td>\n",
       "      <td>-84.514304</td>\n",
       "    </tr>\n",
       "    <tr>\n",
       "      <th>5</th>\n",
       "      <td> 18</td>\n",
       "      <td> 39061001800</td>\n",
       "      <td> 39.115154</td>\n",
       "      <td>-84.505974</td>\n",
       "    </tr>\n",
       "    <tr>\n",
       "      <th>6</th>\n",
       "      <td> 19</td>\n",
       "      <td> 39061001900</td>\n",
       "      <td> 39.116663</td>\n",
       "      <td>-84.494640</td>\n",
       "    </tr>\n",
       "    <tr>\n",
       "      <th>7</th>\n",
       "      <td> 22</td>\n",
       "      <td> 39061002200</td>\n",
       "      <td> 39.122296</td>\n",
       "      <td>-84.504708</td>\n",
       "    </tr>\n",
       "    <tr>\n",
       "      <th>8</th>\n",
       "      <td> 23</td>\n",
       "      <td> 39061002300</td>\n",
       "      <td> 39.121316</td>\n",
       "      <td>-84.511896</td>\n",
       "    </tr>\n",
       "    <tr>\n",
       "      <th>9</th>\n",
       "      <td> 25</td>\n",
       "      <td> 39061002500</td>\n",
       "      <td> 39.124429</td>\n",
       "      <td>-84.516860</td>\n",
       "    </tr>\n",
       "  </tbody>\n",
       "</table>\n",
       "</div>"
      ],
      "text/plain": [
       "   Name  Census Tract   Latitude  Longitude\n",
       "0     2   39061000200  39.109783 -84.529551\n",
       "1     9   39061000900  39.109921 -84.517754\n",
       "2    10   39061001000  39.110107 -84.512822\n",
       "3    16   39061001600  39.116750 -84.520418\n",
       "4    17   39061001700  39.115164 -84.514304\n",
       "5    18   39061001800  39.115154 -84.505974\n",
       "6    19   39061001900  39.116663 -84.494640\n",
       "7    22   39061002200  39.122296 -84.504708\n",
       "8    23   39061002300  39.121316 -84.511896\n",
       "9    25   39061002500  39.124429 -84.516860"
      ]
     },
     "execution_count": 32,
     "metadata": {},
     "output_type": "execute_result"
    }
   ],
   "source": [
    "CinLat_Long2.head(10)"
   ]
  },
  {
   "cell_type": "code",
   "execution_count": 34,
   "metadata": {
    "collapsed": false
   },
   "outputs": [
    {
     "data": {
      "text/plain": [
       "110"
      ]
     },
     "execution_count": 34,
     "metadata": {},
     "output_type": "execute_result"
    }
   ],
   "source": [
    "len(CinLat_Long2)"
   ]
  },
  {
   "cell_type": "markdown",
   "metadata": {},
   "source": [
    "## Matrix of Resources and Agents"
   ]
  },
  {
   "cell_type": "markdown",
   "metadata": {},
   "source": [
    "## Quarter Mile Matrix"
   ]
  },
  {
   "cell_type": "code",
   "execution_count": 35,
   "metadata": {
    "collapsed": true
   },
   "outputs": [],
   "source": [
    "Parkmatrix = np.zeros((len(Cin_ParksLoc['Latitude']),len(CinLat_Long2)))\n",
    "i = 0\n",
    "j = 0\n",
    "\n",
    "for i in range(len(Cin_ParksLoc['Latitude'])):\n",
    "    for j in range(len(CinLat_Long2)):\n",
    "        lat1  = Cin_ParksLoc.iloc[i,2]\n",
    "        long1 = Cin_ParksLoc.iloc[i,3]\n",
    "        resource = lat1, long1\n",
    "        lat2 = CinLat_Long2.iloc[j,1]\n",
    "        long2 = CinLat_Long2.iloc[j,2]\n",
    "        agent = lat2, long2\n",
    "        distance1 = (vincenty(resource, agent).miles)\n",
    "        if distance1 < .25:\n",
    "            Parkmatrix[i][j] = 1\n",
    "    j = j+1\n",
    "i=i+1  \n",
    "\n",
    "#---------------------------------------------------------------------------------------------------\n",
    "## Need Grocery Matrix to be apart of the larger matrix of Census Tracts and Resources\n",
    "## Create a matrix to send to a file so I can pull it up\n",
    "Park_Resource = Parkmatrix\n",
    "Park_Resource[np.where(Park_Resource>0)] = 1\n",
    "#np.fill_diagonal(Park_Resource,0)\n",
    "\n",
    "#---------------------------------------------------------------------------------------------\n",
    "from xlwt import *\n",
    "QQ = pd.DataFrame(Park_Resource)\n",
    "# Export dataframe to Excel\n",
    "# you can export to both .xls and .xlsx\n",
    "QQ.to_excel(\"C:\\Users\\James\\Desktop\\CinData\\Resources\\Park_ResourceQuarter.xlsx\",'Resource')\n",
    "#---------------------------------------------------------------------------------------------------\n",
    "# Transpose of the matrix\n",
    "ParkmatrixT = np.transpose(Parkmatrix)\n",
    "\n",
    "# Create a matrix of Agents by Agents (lib by lib)\n",
    "PP = np.mat(ParkmatrixT)*np.mat(Parkmatrix)\n",
    "PP[np.where(PP>0)] =1\n",
    "np.fill_diagonal(PP,0)\n",
    "\n",
    "\n",
    "#---------------------------------------------------------------------------------------------------\n",
    "from xlwt import *\n",
    "PP = pd.DataFrame(PP)\n",
    "# Export dataframe to Excel\n",
    "# you can export to both .xls and .xlsx\n",
    "PP.to_excel(\"C:\\Users\\James\\Desktop\\CinData\\ParksnetworkQuarterHalfMile.xlsx\",'Park')"
   ]
  },
  {
   "cell_type": "markdown",
   "metadata": {},
   "source": [
    "## Half Mile Matrix"
   ]
  },
  {
   "cell_type": "code",
   "execution_count": 36,
   "metadata": {
    "collapsed": true
   },
   "outputs": [],
   "source": [
    "Parkmatrix = np.zeros((len(Cin_ParksLoc['Latitude']),len(CinLat_Long2)))\n",
    "i = 0\n",
    "j = 0\n",
    "\n",
    "for i in range(len(Cin_ParksLoc['Latitude'])):\n",
    "    for j in range(len(CinLat_Long2)):\n",
    "        lat1  = Cin_ParksLoc.iloc[i,2]\n",
    "        long1 = Cin_ParksLoc.iloc[i,3]\n",
    "        resource = lat1, long1\n",
    "        lat2 = CinLat_Long2.iloc[j,1]\n",
    "        long2 = CinLat_Long2.iloc[j,2]\n",
    "        agent = lat2, long2\n",
    "        distance1 = (vincenty(resource, agent).miles)\n",
    "        if distance1 < .5:\n",
    "            Parkmatrix[i][j] = 1\n",
    "    j = j+1\n",
    "i=i+1  \n",
    "\n",
    "#---------------------------------------------------------------------------------------------------\n",
    "## Need Grocery Matrix to be apart of the larger matrix of Census Tracts and Resources\n",
    "## Create a matrix to send to a file so I can pull it up\n",
    "Park_Resource = Parkmatrix\n",
    "Park_Resource[np.where(Park_Resource>0)] = 1\n",
    "#np.fill_diagonal(Park_Resource,0)\n",
    "\n",
    "#---------------------------------------------------------------------------------------------\n",
    "from xlwt import *\n",
    "QQ = pd.DataFrame(Park_Resource)\n",
    "# Export dataframe to Excel\n",
    "# you can export to both .xls and .xlsx\n",
    "QQ.to_excel(\"C:\\Users\\James\\Desktop\\CinData\\Resources\\Park_ResourceHalfMile.xlsx\",'Resource')\n",
    "#---------------------------------------------------------------------------------------------------\n",
    "# Transpose of the matrix\n",
    "ParkmatrixT = np.transpose(Parkmatrix)\n",
    "\n",
    "# Create a matrix of Agents by Agents (lib by lib)\n",
    "PP = np.mat(ParkmatrixT)*np.mat(Parkmatrix)\n",
    "PP[np.where(PP>0)] =1\n",
    "np.fill_diagonal(PP,0)\n",
    "\n",
    "\n",
    "#---------------------------------------------------------------------------------------------------\n",
    "from xlwt import *\n",
    "PP = pd.DataFrame(PP)\n",
    "# Export dataframe to Excel\n",
    "# you can export to both .xls and .xlsx\n",
    "PP.to_excel(\"C:\\Users\\James\\Desktop\\CinData\\ParksnetworkHalfMile.xlsx\",'Park')"
   ]
  },
  {
   "cell_type": "markdown",
   "metadata": {},
   "source": [
    "## One Mile Matrix"
   ]
  },
  {
   "cell_type": "code",
   "execution_count": 37,
   "metadata": {
    "collapsed": true
   },
   "outputs": [],
   "source": [
    "Parkmatrix = np.zeros((len(Cin_ParksLoc['Latitude']),len(CinLat_Long2)))\n",
    "i = 0\n",
    "j = 0\n",
    "\n",
    "for i in range(len(Cin_ParksLoc['Latitude'])):\n",
    "    for j in range(len(CinLat_Long2)):\n",
    "        lat1  = Cin_ParksLoc.iloc[i,2]\n",
    "        long1 = Cin_ParksLoc.iloc[i,3]\n",
    "        resource = lat1, long1\n",
    "        lat2 = CinLat_Long2.iloc[j,1]\n",
    "        long2 = CinLat_Long2.iloc[j,2]\n",
    "        agent = lat2, long2\n",
    "        distance1 = (vincenty(resource, agent).miles)\n",
    "        if distance1 < 1:\n",
    "            Parkmatrix[i][j] = 1\n",
    "    j = j+1\n",
    "i=i+1  \n",
    "\n",
    "#---------------------------------------------------------------------------------------------------\n",
    "## Need Park Matrix to be apart of the larger matrix of Census Tracts and Resources\n",
    "## Create a matrix to send to a file so I can pull it up\n",
    "Park_Resource = Parkmatrix\n",
    "Park_Resource[np.where(Park_Resource>0)] = 1\n",
    "#np.fill_diagonal(Park_Resource,0)\n",
    "\n",
    "#---------------------------------------------------------------------------------------------\n",
    "from xlwt import *\n",
    "QQ = pd.DataFrame(Park_Resource)\n",
    "# Export dataframe to Excel\n",
    "# you can export to both .xls and .xlsx\n",
    "QQ.to_excel(\"C:\\Users\\James\\Desktop\\CinData\\Resources\\Park_ResourceOneMile.xlsx\",'Resource')\n",
    "#---------------------------------------------------------------------------------------------------\n",
    "# Transpose of the matrix\n",
    "ParkmatrixT = np.transpose(Parkmatrix)\n",
    "\n",
    "# Create a matrix of Agents by Agents (lib by lib)\n",
    "PP = np.mat(ParkmatrixT)*np.mat(Parkmatrix)\n",
    "PP[np.where(PP>0)] =1\n",
    "np.fill_diagonal(PP,0)\n",
    "\n",
    "\n",
    "#---------------------------------------------------------------------------------------------------\n",
    "from xlwt import *\n",
    "PP = pd.DataFrame(PP)\n",
    "# Export dataframe to Excel\n",
    "# you can export to both .xls and .xlsx\n",
    "PP.to_excel(\"C:\\Users\\James\\Desktop\\CinData\\ParksnetworkOneMile.xlsx\",'Park')"
   ]
  },
  {
   "cell_type": "markdown",
   "metadata": {},
   "source": [
    "## One and a Half Mile"
   ]
  },
  {
   "cell_type": "code",
   "execution_count": 38,
   "metadata": {
    "collapsed": true
   },
   "outputs": [],
   "source": [
    "Parkmatrix = np.zeros((len(Cin_ParksLoc['Latitude']),len(CinLat_Long2)))\n",
    "i = 0\n",
    "j = 0\n",
    "\n",
    "for i in range(len(Cin_ParksLoc['Latitude'])):\n",
    "    for j in range(len(CinLat_Long2)):\n",
    "        lat1  = Cin_ParksLoc.iloc[i,2]\n",
    "        long1 = Cin_ParksLoc.iloc[i,3]\n",
    "        resource = lat1, long1\n",
    "        lat2 = CinLat_Long2.iloc[j,1]\n",
    "        long2 = CinLat_Long2.iloc[j,2]\n",
    "        agent = lat2, long2\n",
    "        distance1 = (vincenty(resource, agent).miles)\n",
    "        if distance1 < 1.5:\n",
    "            Parkmatrix[i][j] = 1\n",
    "    j = j+1\n",
    "i=i+1  \n",
    "\n",
    "#---------------------------------------------------------------------------------------------------\n",
    "## Need Grocery Matrix to be apart of the larger matrix of Census Tracts and Resources\n",
    "## Create a matrix to send to a file so I can pull it up\n",
    "Park_Resource = Parkmatrix\n",
    "Park_Resource[np.where(Park_Resource>0)] = 1\n",
    "#np.fill_diagonal(Park_Resource,0)\n",
    "\n",
    "#---------------------------------------------------------------------------------------------\n",
    "from xlwt import *\n",
    "QQ = pd.DataFrame(Park_Resource)\n",
    "# Export dataframe to Excel\n",
    "# you can export to both .xls and .xlsx\n",
    "QQ.to_excel(\"C:\\Users\\James\\Desktop\\CinData\\Resources\\Park_ResourceOneHalf.xlsx\",'Resource')\n",
    "#---------------------------------------------------------------------------------------------------\n",
    "# Transpose of the matrix\n",
    "ParkmatrixT = np.transpose(Parkmatrix)\n",
    "\n",
    "# Create a matrix of Agents by Agents (lib by lib)\n",
    "PP = np.mat(ParkmatrixT)*np.mat(Parkmatrix)\n",
    "PP[np.where(PP>0)] =1\n",
    "np.fill_diagonal(PP,0)\n",
    "\n",
    "\n",
    "#---------------------------------------------------------------------------------------------------\n",
    "from xlwt import *\n",
    "PP = pd.DataFrame(PP)\n",
    "# Export dataframe to Excel\n",
    "# you can export to both .xls and .xlsx\n",
    "PP.to_excel(\"C:\\Users\\James\\Desktop\\CinData\\ParksnetworkOneandHalfMile.xlsx\",'Park')"
   ]
  },
  {
   "cell_type": "code",
   "execution_count": null,
   "metadata": {
    "collapsed": true
   },
   "outputs": [],
   "source": []
  }
 ],
 "metadata": {
  "kernelspec": {
   "display_name": "Python 2",
   "language": "python",
   "name": "python2"
  },
  "language_info": {
   "codemirror_mode": {
    "name": "ipython",
    "version": 2
   },
   "file_extension": ".py",
   "mimetype": "text/x-python",
   "name": "python",
   "nbconvert_exporter": "python",
   "pygments_lexer": "ipython2",
   "version": "2.7.8"
  }
 },
 "nbformat": 4,
 "nbformat_minor": 0
}
