{
 "cells": [
  {
   "cell_type": "markdown",
   "metadata": {},
   "source": [
    "## Cincinnati Grocery Stores"
   ]
  },
  {
   "cell_type": "code",
   "execution_count": 67,
   "metadata": {
    "collapsed": true
   },
   "outputs": [],
   "source": [
    "from geopy.geocoders import Nominatim\n",
    "from geopy.distance import vincenty\n",
    "from geopy.exc import GeocoderTimedOut\n",
    "\n",
    "geolocator = Nominatim()"
   ]
  },
  {
   "cell_type": "code",
   "execution_count": 68,
   "metadata": {
    "collapsed": true
   },
   "outputs": [],
   "source": [
    "# Testing\n",
    "#location = geolocator.geocode(\"4001 State Route 128 Cincinnati,\")"
   ]
  },
  {
   "cell_type": "code",
   "execution_count": null,
   "metadata": {
    "collapsed": false
   },
   "outputs": [],
   "source": []
  },
  {
   "cell_type": "code",
   "execution_count": 69,
   "metadata": {
    "collapsed": true
   },
   "outputs": [],
   "source": [
    "import pandas as pd\n",
    "import numpy as np\n",
    "import matplotlib.pyplot as plt"
   ]
  },
  {
   "cell_type": "code",
   "execution_count": 70,
   "metadata": {
    "collapsed": false
   },
   "outputs": [],
   "source": [
    "Grocery_stores = pd.read_csv(\"C:\\Users\\James\\Desktop\\CinData\\Cin_Grocery_Stores.csv\")"
   ]
  },
  {
   "cell_type": "code",
   "execution_count": 71,
   "metadata": {
    "collapsed": false
   },
   "outputs": [
    {
     "data": {
      "text/html": [
       "<div style=\"max-height:1000px;max-width:1500px;overflow:auto;\">\n",
       "<table border=\"1\" class=\"dataframe\">\n",
       "  <thead>\n",
       "    <tr style=\"text-align: right;\">\n",
       "      <th></th>\n",
       "      <th>Number</th>\n",
       "      <th>Address</th>\n",
       "      <th>State</th>\n",
       "      <th>ZipCode</th>\n",
       "      <th>StoreName</th>\n",
       "    </tr>\n",
       "  </thead>\n",
       "  <tbody>\n",
       "    <tr>\n",
       "      <th>0</th>\n",
       "      <td> 806</td>\n",
       "      <td> 4001 State Route 128 Cincinnati,</td>\n",
       "      <td> OH</td>\n",
       "      <td> 45201</td>\n",
       "      <td> Kroger</td>\n",
       "    </tr>\n",
       "    <tr>\n",
       "      <th>1</th>\n",
       "      <td> 807</td>\n",
       "      <td>         1420 Vine St Cincinnati,</td>\n",
       "      <td> OH</td>\n",
       "      <td> 45202</td>\n",
       "      <td> Kroger</td>\n",
       "    </tr>\n",
       "    <tr>\n",
       "      <th>2</th>\n",
       "      <td> 808</td>\n",
       "      <td>              Vine St Cincinnati,</td>\n",
       "      <td> OH</td>\n",
       "      <td> 45202</td>\n",
       "      <td> Kroger</td>\n",
       "    </tr>\n",
       "    <tr>\n",
       "      <th>3</th>\n",
       "      <td> 809</td>\n",
       "      <td>      3614 Warsaw Ave Cincinnati,</td>\n",
       "      <td> OH</td>\n",
       "      <td> 45205</td>\n",
       "      <td> Kroger</td>\n",
       "    </tr>\n",
       "    <tr>\n",
       "      <th>4</th>\n",
       "      <td> 810</td>\n",
       "      <td>    954 E Mcmillan St Cincinnati,</td>\n",
       "      <td> OH</td>\n",
       "      <td> 45206</td>\n",
       "      <td> Kroger</td>\n",
       "    </tr>\n",
       "  </tbody>\n",
       "</table>\n",
       "</div>"
      ],
      "text/plain": [
       "   Number                           Address State  ZipCode StoreName\n",
       "0     806  4001 State Route 128 Cincinnati,    OH    45201    Kroger\n",
       "1     807          1420 Vine St Cincinnati,    OH    45202    Kroger\n",
       "2     808               Vine St Cincinnati,    OH    45202    Kroger\n",
       "3     809       3614 Warsaw Ave Cincinnati,    OH    45205    Kroger\n",
       "4     810     954 E Mcmillan St Cincinnati,    OH    45206    Kroger"
      ]
     },
     "execution_count": 71,
     "metadata": {},
     "output_type": "execute_result"
    }
   ],
   "source": [
    "Grocery_stores.head(5)"
   ]
  },
  {
   "cell_type": "code",
   "execution_count": 72,
   "metadata": {
    "collapsed": true
   },
   "outputs": [],
   "source": [
    "Groc_Long = []\n",
    "Groc_Lat = []"
   ]
  },
  {
   "cell_type": "code",
   "execution_count": 73,
   "metadata": {
    "collapsed": false
   },
   "outputs": [],
   "source": [
    "# Find the latitude and longitude of each grocery store based on the address of the store.\n",
    "\n",
    "for value in Grocery_stores.Address:\n",
    "    location = geolocator.geocode(value,timeout=None)\n",
    "    if location == None:\n",
    "        Groc_Long.append(0)\n",
    "        Groc_Lat.append(0)\n",
    "    else:\n",
    "        Groc_Long.append(location.longitude)\n",
    "        Groc_Lat.append(location.latitude)"
   ]
  },
  {
   "cell_type": "code",
   "execution_count": 74,
   "metadata": {
    "collapsed": false
   },
   "outputs": [
    {
     "name": "stdout",
     "output_type": "stream",
     "text": [
      "[0, -84.5154712857143, -84.4751959, -84.5710799895344, -84.4885216031932, -84.431709, -84.5798357634302, -84.6223112000467, -84.6245155656985, -84.4708692, 0, -84.5124602, -84.4743248095238, -84.510679, -84.5047903846154, -84.4119169, -84.5450859, 0, -84.5147870303192, -84.4640292, 0, -84.4620562758716, -84.5742644, -84.6008355714286, -84.5757116, 0, 0, -84.4708692, -84.29934, 0, -84.51575981214, 0, 0, 0, -84.5124602, 0, -84.5874451228628, 0, 0, -84.6963489, 0, 0, -84.2265732381096, 0, 0, 0, 0, -84.54412, -84.4708692, 0, -84.5757116, 0, -84.4188309, -84.4901558930565, -84.5742644, -84.4845349, 0, -84.5000343, 0, -84.54412, 0, 0, 0, 0, -84.5757116, 0, 0, 0, -84.5757116, 0, -84.5757116, -84.418905, 0, -84.45191025, 0, -84.4247287449664, 0, -84.54412, 0, 0, 0, -84.5450859]\n"
     ]
    }
   ],
   "source": [
    "print Groc_Long"
   ]
  },
  {
   "cell_type": "code",
   "execution_count": 75,
   "metadata": {
    "collapsed": false
   },
   "outputs": [
    {
     "name": "stdout",
     "output_type": "stream",
     "text": [
      "[0, 39.111473, 39.201296, 39.1105790050365, 39.1259145117681, 39.145087, 39.1400688169633, 39.1442278631911, 39.1454787783495, 39.1429649, 0, 39.1014537, 39.2116776190476, 39.129086, 39.1362116153846, 39.120882, 39.187231, 0, 39.16442395, 39.2118312, 0, 39.1884141152477, 39.0938416, 39.1277537142857, 39.195839, 0, 0, 39.1429649, 39.104307, 0, 39.1318525, 0, 0, 0, 39.1014537, 0, 39.18646525, 0, 0, 39.2102049, 0, 0, 39.0280588, 0, 0, 0, 0, 39.1231706, 39.1429649, 0, 39.195839, 0, 39.121735, 39.1459049050881, 39.0938416, 39.21396, 0, 39.1167846, 0, 39.1231706, 0, 0, 0, 0, 39.195839, 0, 0, 0, 39.195839, 0, 39.195839, 39.1409960909091, 0, 39.2065045, 0, 39.1632641073825, 0, 39.1231706, 0, 0, 0, 39.187231]\n"
     ]
    }
   ],
   "source": [
    "print Groc_Lat"
   ]
  },
  {
   "cell_type": "code",
   "execution_count": 76,
   "metadata": {
    "collapsed": false
   },
   "outputs": [
    {
     "data": {
      "text/plain": [
       "(82, 82, 82)"
      ]
     },
     "execution_count": 76,
     "metadata": {},
     "output_type": "execute_result"
    }
   ],
   "source": [
    "len(Groc_Lat), len(Groc_Long), len(Grocery_stores.Address)"
   ]
  },
  {
   "cell_type": "code",
   "execution_count": 77,
   "metadata": {
    "collapsed": false
   },
   "outputs": [
    {
     "data": {
      "text/plain": [
       "(list, list, pandas.core.frame.DataFrame)"
      ]
     },
     "execution_count": 77,
     "metadata": {},
     "output_type": "execute_result"
    }
   ],
   "source": [
    "type(Groc_Lat), type(Groc_Long), type(Grocery_stores)"
   ]
  },
  {
   "cell_type": "code",
   "execution_count": 78,
   "metadata": {
    "collapsed": false
   },
   "outputs": [
    {
     "data": {
      "text/html": [
       "<div style=\"max-height:1000px;max-width:1500px;overflow:auto;\">\n",
       "<table border=\"1\" class=\"dataframe\">\n",
       "  <thead>\n",
       "    <tr style=\"text-align: right;\">\n",
       "      <th></th>\n",
       "      <th>Number</th>\n",
       "      <th>Address</th>\n",
       "      <th>State</th>\n",
       "      <th>ZipCode</th>\n",
       "      <th>StoreName</th>\n",
       "      <th>Longitude</th>\n",
       "      <th>Latitude</th>\n",
       "    </tr>\n",
       "  </thead>\n",
       "  <tbody>\n",
       "    <tr>\n",
       "      <th>0</th>\n",
       "      <td> 806</td>\n",
       "      <td> 4001 State Route 128 Cincinnati,</td>\n",
       "      <td> OH</td>\n",
       "      <td> 45201</td>\n",
       "      <td> Kroger</td>\n",
       "      <td>  0.000000</td>\n",
       "      <td>  0.000000</td>\n",
       "    </tr>\n",
       "    <tr>\n",
       "      <th>1</th>\n",
       "      <td> 807</td>\n",
       "      <td>         1420 Vine St Cincinnati,</td>\n",
       "      <td> OH</td>\n",
       "      <td> 45202</td>\n",
       "      <td> Kroger</td>\n",
       "      <td>-84.515471</td>\n",
       "      <td> 39.111473</td>\n",
       "    </tr>\n",
       "    <tr>\n",
       "      <th>2</th>\n",
       "      <td> 808</td>\n",
       "      <td>              Vine St Cincinnati,</td>\n",
       "      <td> OH</td>\n",
       "      <td> 45202</td>\n",
       "      <td> Kroger</td>\n",
       "      <td>-84.475196</td>\n",
       "      <td> 39.201296</td>\n",
       "    </tr>\n",
       "    <tr>\n",
       "      <th>3</th>\n",
       "      <td> 809</td>\n",
       "      <td>      3614 Warsaw Ave Cincinnati,</td>\n",
       "      <td> OH</td>\n",
       "      <td> 45205</td>\n",
       "      <td> Kroger</td>\n",
       "      <td>-84.571080</td>\n",
       "      <td> 39.110579</td>\n",
       "    </tr>\n",
       "    <tr>\n",
       "      <th>4</th>\n",
       "      <td> 810</td>\n",
       "      <td>    954 E Mcmillan St Cincinnati,</td>\n",
       "      <td> OH</td>\n",
       "      <td> 45206</td>\n",
       "      <td> Kroger</td>\n",
       "      <td>-84.488522</td>\n",
       "      <td> 39.125915</td>\n",
       "    </tr>\n",
       "  </tbody>\n",
       "</table>\n",
       "</div>"
      ],
      "text/plain": [
       "   Number                           Address State  ZipCode StoreName  \\\n",
       "0     806  4001 State Route 128 Cincinnati,    OH    45201    Kroger   \n",
       "1     807          1420 Vine St Cincinnati,    OH    45202    Kroger   \n",
       "2     808               Vine St Cincinnati,    OH    45202    Kroger   \n",
       "3     809       3614 Warsaw Ave Cincinnati,    OH    45205    Kroger   \n",
       "4     810     954 E Mcmillan St Cincinnati,    OH    45206    Kroger   \n",
       "\n",
       "   Longitude   Latitude  \n",
       "0   0.000000   0.000000  \n",
       "1 -84.515471  39.111473  \n",
       "2 -84.475196  39.201296  \n",
       "3 -84.571080  39.110579  \n",
       "4 -84.488522  39.125915  "
      ]
     },
     "execution_count": 78,
     "metadata": {},
     "output_type": "execute_result"
    }
   ],
   "source": [
    "Grocery_stores['Longitude'] = Groc_Long\n",
    "Grocery_stores['Latitude'] = Groc_Lat\n",
    "Grocery_stores.head(5)"
   ]
  },
  {
   "cell_type": "code",
   "execution_count": 80,
   "metadata": {
    "collapsed": false
   },
   "outputs": [
    {
     "name": "stdout",
     "output_type": "stream",
     "text": [
      "Kroger, Vine Street, Vine Street Business District, Over-The-Rhine, Cincinnati, Hamilton County, Ohio, 45202, United States of America\n"
     ]
    }
   ],
   "source": [
    "### Testing\n",
    "location = geolocator.reverse(\"39.11147, -84.51547\")\n",
    "print(location.address)"
   ]
  },
  {
   "cell_type": "code",
   "execution_count": 81,
   "metadata": {
    "collapsed": false
   },
   "outputs": [],
   "source": [
    "Grocery_stores2 = Grocery_stores.copy()"
   ]
  },
  {
   "cell_type": "code",
   "execution_count": 82,
   "metadata": {
    "collapsed": true
   },
   "outputs": [],
   "source": [
    "Long_overzero = Grocery_stores[Grocery_stores['Latitude'] > 0]"
   ]
  },
  {
   "cell_type": "code",
   "execution_count": 83,
   "metadata": {
    "collapsed": false
   },
   "outputs": [
    {
     "data": {
      "text/html": [
       "<div style=\"max-height:1000px;max-width:1500px;overflow:auto;\">\n",
       "<table border=\"1\" class=\"dataframe\">\n",
       "  <thead>\n",
       "    <tr style=\"text-align: right;\">\n",
       "      <th></th>\n",
       "      <th>Number</th>\n",
       "      <th>Address</th>\n",
       "      <th>State</th>\n",
       "      <th>ZipCode</th>\n",
       "      <th>StoreName</th>\n",
       "      <th>Longitude</th>\n",
       "      <th>Latitude</th>\n",
       "    </tr>\n",
       "  </thead>\n",
       "  <tbody>\n",
       "    <tr>\n",
       "      <th>1</th>\n",
       "      <td> 807</td>\n",
       "      <td>      1420 Vine St Cincinnati,</td>\n",
       "      <td> OH</td>\n",
       "      <td> 45202</td>\n",
       "      <td> Kroger</td>\n",
       "      <td>-84.515471</td>\n",
       "      <td> 39.111473</td>\n",
       "    </tr>\n",
       "    <tr>\n",
       "      <th>2</th>\n",
       "      <td> 808</td>\n",
       "      <td>           Vine St Cincinnati,</td>\n",
       "      <td> OH</td>\n",
       "      <td> 45202</td>\n",
       "      <td> Kroger</td>\n",
       "      <td>-84.475196</td>\n",
       "      <td> 39.201296</td>\n",
       "    </tr>\n",
       "    <tr>\n",
       "      <th>3</th>\n",
       "      <td> 809</td>\n",
       "      <td>   3614 Warsaw Ave Cincinnati,</td>\n",
       "      <td> OH</td>\n",
       "      <td> 45205</td>\n",
       "      <td> Kroger</td>\n",
       "      <td>-84.571080</td>\n",
       "      <td> 39.110579</td>\n",
       "    </tr>\n",
       "    <tr>\n",
       "      <th>4</th>\n",
       "      <td> 810</td>\n",
       "      <td> 954 E Mcmillan St Cincinnati,</td>\n",
       "      <td> OH</td>\n",
       "      <td> 45206</td>\n",
       "      <td> Kroger</td>\n",
       "      <td>-84.488522</td>\n",
       "      <td> 39.125915</td>\n",
       "    </tr>\n",
       "    <tr>\n",
       "      <th>5</th>\n",
       "      <td> 811</td>\n",
       "      <td>   3760 Paxton Ave Cincinnati,</td>\n",
       "      <td> OH</td>\n",
       "      <td> 45209</td>\n",
       "      <td> Kroger</td>\n",
       "      <td>-84.431709</td>\n",
       "      <td> 39.145087</td>\n",
       "    </tr>\n",
       "  </tbody>\n",
       "</table>\n",
       "</div>"
      ],
      "text/plain": [
       "   Number                        Address State  ZipCode StoreName  Longitude  \\\n",
       "1     807       1420 Vine St Cincinnati,    OH    45202    Kroger -84.515471   \n",
       "2     808            Vine St Cincinnati,    OH    45202    Kroger -84.475196   \n",
       "3     809    3614 Warsaw Ave Cincinnati,    OH    45205    Kroger -84.571080   \n",
       "4     810  954 E Mcmillan St Cincinnati,    OH    45206    Kroger -84.488522   \n",
       "5     811    3760 Paxton Ave Cincinnati,    OH    45209    Kroger -84.431709   \n",
       "\n",
       "    Latitude  \n",
       "1  39.111473  \n",
       "2  39.201296  \n",
       "3  39.110579  \n",
       "4  39.125915  \n",
       "5  39.145087  "
      ]
     },
     "execution_count": 83,
     "metadata": {},
     "output_type": "execute_result"
    }
   ],
   "source": [
    "# Only look at Longitude and Latitude values that are greater than zero.\n",
    "Long_overzero.head()"
   ]
  },
  {
   "cell_type": "code",
   "execution_count": 84,
   "metadata": {
    "collapsed": true
   },
   "outputs": [],
   "source": [
    "#df=df.rename(columns = {'two':'new_name'})\n",
    "Long_overzero = Long_overzero.rename(columns = {\"Longitude\":'LONGITUDE',\"Latitude\":'LATITUDE'})"
   ]
  },
  {
   "cell_type": "markdown",
   "metadata": {},
   "source": [
    "# Plot Data to Go Onto Map"
   ]
  },
  {
   "cell_type": "code",
   "execution_count": 85,
   "metadata": {
    "collapsed": true
   },
   "outputs": [],
   "source": [
    "from xlwt import *\n",
    "Long_overzero_Location = pd.DataFrame(Long_overzero)\n",
    "#Long_overzero_Location.to_excel(\"C:\\Users\\James\\Desktop\\CinData\\ResourceLocation\\GroceryStore_Resource_Location.xlsx\",'Resource')"
   ]
  },
  {
   "cell_type": "markdown",
   "metadata": {},
   "source": [
    "## Load in the Census Tract Information"
   ]
  },
  {
   "cell_type": "code",
   "execution_count": 86,
   "metadata": {
    "collapsed": false
   },
   "outputs": [],
   "source": [
    "census_files = pd.read_csv(\"C:\\Users\\James\\Desktop\\CinData\\OhioCensusTracts\\OhioCensusTracts.csv\")"
   ]
  },
  {
   "cell_type": "code",
   "execution_count": 87,
   "metadata": {
    "collapsed": false
   },
   "outputs": [
    {
     "data": {
      "text/html": [
       "<div style=\"max-height:1000px;max-width:1500px;overflow:auto;\">\n",
       "<table border=\"1\" class=\"dataframe\">\n",
       "  <thead>\n",
       "    <tr style=\"text-align: right;\">\n",
       "      <th></th>\n",
       "      <th>STATEFP10</th>\n",
       "      <th>COUNTYFP10</th>\n",
       "      <th>TRACTCE10</th>\n",
       "      <th>GEOID10</th>\n",
       "      <th>NAME10</th>\n",
       "      <th>NAMELSAD10</th>\n",
       "      <th>MTFCC10</th>\n",
       "      <th>FUNCSTAT10</th>\n",
       "      <th>ALAND10</th>\n",
       "      <th>AWATER10</th>\n",
       "      <th>INTPTLAT10</th>\n",
       "      <th>INTPTLON10</th>\n",
       "    </tr>\n",
       "  </thead>\n",
       "  <tbody>\n",
       "    <tr>\n",
       "      <th>0</th>\n",
       "      <td> 39</td>\n",
       "      <td> 69</td>\n",
       "      <td> 600</td>\n",
       "      <td> 39069000600</td>\n",
       "      <td> 6</td>\n",
       "      <td> Census Tract 6</td>\n",
       "      <td> G5020</td>\n",
       "      <td> S</td>\n",
       "      <td> 172209103</td>\n",
       "      <td>  103802</td>\n",
       "      <td> 41.216159</td>\n",
       "      <td>-83.988199</td>\n",
       "    </tr>\n",
       "    <tr>\n",
       "      <th>1</th>\n",
       "      <td> 39</td>\n",
       "      <td> 69</td>\n",
       "      <td> 100</td>\n",
       "      <td> 39069000100</td>\n",
       "      <td> 1</td>\n",
       "      <td> Census Tract 1</td>\n",
       "      <td> G5020</td>\n",
       "      <td> S</td>\n",
       "      <td> 170180274</td>\n",
       "      <td> 5335012</td>\n",
       "      <td> 41.435748</td>\n",
       "      <td>-83.980090</td>\n",
       "    </tr>\n",
       "    <tr>\n",
       "      <th>2</th>\n",
       "      <td> 39</td>\n",
       "      <td> 69</td>\n",
       "      <td> 500</td>\n",
       "      <td> 39069000500</td>\n",
       "      <td> 5</td>\n",
       "      <td> Census Tract 5</td>\n",
       "      <td> G5020</td>\n",
       "      <td> S</td>\n",
       "      <td> 253298456</td>\n",
       "      <td>       0</td>\n",
       "      <td> 41.318672</td>\n",
       "      <td>-83.987238</td>\n",
       "    </tr>\n",
       "    <tr>\n",
       "      <th>3</th>\n",
       "      <td> 39</td>\n",
       "      <td> 69</td>\n",
       "      <td> 200</td>\n",
       "      <td> 39069000200</td>\n",
       "      <td> 2</td>\n",
       "      <td> Census Tract 2</td>\n",
       "      <td> G5020</td>\n",
       "      <td> S</td>\n",
       "      <td> 213777955</td>\n",
       "      <td> 1223063</td>\n",
       "      <td> 41.428682</td>\n",
       "      <td>-84.204301</td>\n",
       "    </tr>\n",
       "    <tr>\n",
       "      <th>4</th>\n",
       "      <td> 39</td>\n",
       "      <td> 69</td>\n",
       "      <td> 700</td>\n",
       "      <td> 39069000700</td>\n",
       "      <td> 7</td>\n",
       "      <td> Census Tract 7</td>\n",
       "      <td> G5020</td>\n",
       "      <td> S</td>\n",
       "      <td> 217890839</td>\n",
       "      <td>  714779</td>\n",
       "      <td> 41.257576</td>\n",
       "      <td>-84.156794</td>\n",
       "    </tr>\n",
       "  </tbody>\n",
       "</table>\n",
       "</div>"
      ],
      "text/plain": [
       "   STATEFP10  COUNTYFP10  TRACTCE10      GEOID10  NAME10      NAMELSAD10  \\\n",
       "0         39          69        600  39069000600       6  Census Tract 6   \n",
       "1         39          69        100  39069000100       1  Census Tract 1   \n",
       "2         39          69        500  39069000500       5  Census Tract 5   \n",
       "3         39          69        200  39069000200       2  Census Tract 2   \n",
       "4         39          69        700  39069000700       7  Census Tract 7   \n",
       "\n",
       "  MTFCC10 FUNCSTAT10    ALAND10  AWATER10  INTPTLAT10  INTPTLON10  \n",
       "0   G5020          S  172209103    103802   41.216159  -83.988199  \n",
       "1   G5020          S  170180274   5335012   41.435748  -83.980090  \n",
       "2   G5020          S  253298456         0   41.318672  -83.987238  \n",
       "3   G5020          S  213777955   1223063   41.428682  -84.204301  \n",
       "4   G5020          S  217890839    714779   41.257576  -84.156794  "
      ]
     },
     "execution_count": 87,
     "metadata": {},
     "output_type": "execute_result"
    }
   ],
   "source": [
    "census_files.head(5)"
   ]
  },
  {
   "cell_type": "code",
   "execution_count": 88,
   "metadata": {
    "collapsed": false
   },
   "outputs": [],
   "source": [
    "HamiltonCounty = census_files[census_files['COUNTYFP10'] == 61]"
   ]
  },
  {
   "cell_type": "code",
   "execution_count": 89,
   "metadata": {
    "collapsed": false
   },
   "outputs": [
    {
     "data": {
      "text/html": [
       "<div style=\"max-height:1000px;max-width:1500px;overflow:auto;\">\n",
       "<table border=\"1\" class=\"dataframe\">\n",
       "  <thead>\n",
       "    <tr style=\"text-align: right;\">\n",
       "      <th></th>\n",
       "      <th>STATEFP10</th>\n",
       "      <th>COUNTYFP10</th>\n",
       "      <th>TRACTCE10</th>\n",
       "      <th>GEOID10</th>\n",
       "      <th>NAME10</th>\n",
       "      <th>NAMELSAD10</th>\n",
       "      <th>MTFCC10</th>\n",
       "      <th>FUNCSTAT10</th>\n",
       "      <th>ALAND10</th>\n",
       "      <th>AWATER10</th>\n",
       "      <th>INTPTLAT10</th>\n",
       "      <th>INTPTLON10</th>\n",
       "    </tr>\n",
       "  </thead>\n",
       "  <tbody>\n",
       "    <tr>\n",
       "      <th>83</th>\n",
       "      <td> 39</td>\n",
       "      <td> 61</td>\n",
       "      <td> 24800</td>\n",
       "      <td> 39061024800</td>\n",
       "      <td> 248.00</td>\n",
       "      <td>    Census Tract 248</td>\n",
       "      <td> G5020</td>\n",
       "      <td> S</td>\n",
       "      <td>  2270194</td>\n",
       "      <td>   72068</td>\n",
       "      <td> 39.143569</td>\n",
       "      <td>-84.376414</td>\n",
       "    </tr>\n",
       "    <tr>\n",
       "      <th>84</th>\n",
       "      <td> 39</td>\n",
       "      <td> 61</td>\n",
       "      <td> 24901</td>\n",
       "      <td> 39061024901</td>\n",
       "      <td> 249.01</td>\n",
       "      <td> Census Tract 249.01</td>\n",
       "      <td> G5020</td>\n",
       "      <td> S</td>\n",
       "      <td> 16147622</td>\n",
       "      <td> 1485606</td>\n",
       "      <td> 39.132096</td>\n",
       "      <td>-84.343017</td>\n",
       "    </tr>\n",
       "    <tr>\n",
       "      <th>85</th>\n",
       "      <td> 39</td>\n",
       "      <td> 61</td>\n",
       "      <td> 25002</td>\n",
       "      <td> 39061025002</td>\n",
       "      <td> 250.02</td>\n",
       "      <td> Census Tract 250.02</td>\n",
       "      <td> G5020</td>\n",
       "      <td> S</td>\n",
       "      <td>  8398360</td>\n",
       "      <td>   11438</td>\n",
       "      <td> 39.064601</td>\n",
       "      <td>-84.387110</td>\n",
       "    </tr>\n",
       "    <tr>\n",
       "      <th>86</th>\n",
       "      <td> 39</td>\n",
       "      <td> 61</td>\n",
       "      <td> 25104</td>\n",
       "      <td> 39061025104</td>\n",
       "      <td> 251.04</td>\n",
       "      <td> Census Tract 251.04</td>\n",
       "      <td> G5020</td>\n",
       "      <td> S</td>\n",
       "      <td> 15921188</td>\n",
       "      <td>  891476</td>\n",
       "      <td> 39.046942</td>\n",
       "      <td>-84.362735</td>\n",
       "    </tr>\n",
       "    <tr>\n",
       "      <th>87</th>\n",
       "      <td> 39</td>\n",
       "      <td> 61</td>\n",
       "      <td> 25102</td>\n",
       "      <td> 39061025102</td>\n",
       "      <td> 251.02</td>\n",
       "      <td> Census Tract 251.02</td>\n",
       "      <td> G5020</td>\n",
       "      <td> S</td>\n",
       "      <td>  5162624</td>\n",
       "      <td>       0</td>\n",
       "      <td> 39.080729</td>\n",
       "      <td>-84.329306</td>\n",
       "    </tr>\n",
       "  </tbody>\n",
       "</table>\n",
       "</div>"
      ],
      "text/plain": [
       "    STATEFP10  COUNTYFP10  TRACTCE10      GEOID10  NAME10  \\\n",
       "83         39          61      24800  39061024800  248.00   \n",
       "84         39          61      24901  39061024901  249.01   \n",
       "85         39          61      25002  39061025002  250.02   \n",
       "86         39          61      25104  39061025104  251.04   \n",
       "87         39          61      25102  39061025102  251.02   \n",
       "\n",
       "             NAMELSAD10 MTFCC10 FUNCSTAT10   ALAND10  AWATER10  INTPTLAT10  \\\n",
       "83     Census Tract 248   G5020          S   2270194     72068   39.143569   \n",
       "84  Census Tract 249.01   G5020          S  16147622   1485606   39.132096   \n",
       "85  Census Tract 250.02   G5020          S   8398360     11438   39.064601   \n",
       "86  Census Tract 251.04   G5020          S  15921188    891476   39.046942   \n",
       "87  Census Tract 251.02   G5020          S   5162624         0   39.080729   \n",
       "\n",
       "    INTPTLON10  \n",
       "83  -84.376414  \n",
       "84  -84.343017  \n",
       "85  -84.387110  \n",
       "86  -84.362735  \n",
       "87  -84.329306  "
      ]
     },
     "execution_count": 89,
     "metadata": {},
     "output_type": "execute_result"
    }
   ],
   "source": [
    "HamiltonCounty.head(5)"
   ]
  },
  {
   "cell_type": "code",
   "execution_count": 90,
   "metadata": {
    "collapsed": false
   },
   "outputs": [],
   "source": [
    "# Load in Census Data that I already sorted, which also has the Neighborhood locations as well (Cleaned up)\n",
    "\n",
    "CensusCin = pd.read_csv(\"C:\\Users\\James\\Desktop\\CinData\\CinCensusTracts.csv\")"
   ]
  },
  {
   "cell_type": "code",
   "execution_count": 91,
   "metadata": {
    "collapsed": false
   },
   "outputs": [
    {
     "data": {
      "text/html": [
       "<div style=\"max-height:1000px;max-width:1500px;overflow:auto;\">\n",
       "<table border=\"1\" class=\"dataframe\">\n",
       "  <thead>\n",
       "    <tr style=\"text-align: right;\">\n",
       "      <th></th>\n",
       "      <th>USPS</th>\n",
       "      <th>GEOID</th>\n",
       "      <th>CensusTractRaw</th>\n",
       "      <th>CensusTract</th>\n",
       "      <th>ALAND_SQMI</th>\n",
       "      <th>Neighborhood</th>\n",
       "    </tr>\n",
       "  </thead>\n",
       "  <tbody>\n",
       "    <tr>\n",
       "      <th>0</th>\n",
       "      <td> OH</td>\n",
       "      <td> 39061000200</td>\n",
       "      <td>  200</td>\n",
       "      <td>  2</td>\n",
       "      <td> 0.112</td>\n",
       "      <td>       West End</td>\n",
       "    </tr>\n",
       "    <tr>\n",
       "      <th>1</th>\n",
       "      <td> OH</td>\n",
       "      <td> 39061000900</td>\n",
       "      <td>  900</td>\n",
       "      <td>  9</td>\n",
       "      <td> 0.117</td>\n",
       "      <td> Over-the-Rhine</td>\n",
       "    </tr>\n",
       "    <tr>\n",
       "      <th>2</th>\n",
       "      <td> OH</td>\n",
       "      <td> 39061001000</td>\n",
       "      <td> 1000</td>\n",
       "      <td> 10</td>\n",
       "      <td> 0.096</td>\n",
       "      <td> Over-the-Rhine</td>\n",
       "    </tr>\n",
       "    <tr>\n",
       "      <th>3</th>\n",
       "      <td> OH</td>\n",
       "      <td> 39061001600</td>\n",
       "      <td> 1600</td>\n",
       "      <td> 16</td>\n",
       "      <td> 0.132</td>\n",
       "      <td> Over-the-Rhine</td>\n",
       "    </tr>\n",
       "    <tr>\n",
       "      <th>4</th>\n",
       "      <td> OH</td>\n",
       "      <td> 39061001700</td>\n",
       "      <td> 1700</td>\n",
       "      <td> 17</td>\n",
       "      <td> 0.088</td>\n",
       "      <td> Over-the-Rhine</td>\n",
       "    </tr>\n",
       "  </tbody>\n",
       "</table>\n",
       "</div>"
      ],
      "text/plain": [
       "  USPS        GEOID  CensusTractRaw  CensusTract  ALAND_SQMI    Neighborhood\n",
       "0   OH  39061000200             200            2       0.112        West End\n",
       "1   OH  39061000900             900            9       0.117  Over-the-Rhine\n",
       "2   OH  39061001000            1000           10       0.096  Over-the-Rhine\n",
       "3   OH  39061001600            1600           16       0.132  Over-the-Rhine\n",
       "4   OH  39061001700            1700           17       0.088  Over-the-Rhine"
      ]
     },
     "execution_count": 91,
     "metadata": {},
     "output_type": "execute_result"
    }
   ],
   "source": [
    "CensusCin.head()"
   ]
  },
  {
   "cell_type": "code",
   "execution_count": 92,
   "metadata": {
    "collapsed": false
   },
   "outputs": [],
   "source": [
    "CinTracts = list(CensusCin['GEOID'])\n",
    "\n",
    "Cin_Census_Tract2 = []\n",
    "index_values = []\n",
    "true_values = []\n",
    "for value in HamiltonCounty['GEOID10']:\n",
    "    s = value in CinTracts\n",
    "    true_values.append(s)\n",
    "    u = HamiltonCounty.GEOID10[HamiltonCounty.GEOID10 == value].index.tolist() \n",
    "    if s == True:\n",
    "        Cin_Census_Tract2.append(HamiltonCounty.ix[u])\n",
    "        index_values.append(u)        "
   ]
  },
  {
   "cell_type": "code",
   "execution_count": 93,
   "metadata": {
    "collapsed": false
   },
   "outputs": [
    {
     "data": {
      "text/html": [
       "<div style=\"max-height:1000px;max-width:1500px;overflow:auto;\">\n",
       "<table border=\"1\" class=\"dataframe\">\n",
       "  <thead>\n",
       "    <tr style=\"text-align: right;\">\n",
       "      <th></th>\n",
       "      <th>STATEFP10</th>\n",
       "      <th>COUNTYFP10</th>\n",
       "      <th>TRACTCE10</th>\n",
       "      <th>GEOID10</th>\n",
       "      <th>NAME10</th>\n",
       "      <th>NAMELSAD10</th>\n",
       "      <th>MTFCC10</th>\n",
       "      <th>FUNCSTAT10</th>\n",
       "      <th>ALAND10</th>\n",
       "      <th>AWATER10</th>\n",
       "      <th>INTPTLAT10</th>\n",
       "      <th>INTPTLON10</th>\n",
       "    </tr>\n",
       "  </thead>\n",
       "  <tbody>\n",
       "    <tr>\n",
       "      <th>90</th>\n",
       "      <td> 39</td>\n",
       "      <td> 61</td>\n",
       "      <td> 25001</td>\n",
       "      <td> 39061025001</td>\n",
       "      <td> 250.01</td>\n",
       "      <td> Census Tract 250.01</td>\n",
       "      <td> G5020</td>\n",
       "      <td> S</td>\n",
       "      <td> 5903864</td>\n",
       "      <td> 4532</td>\n",
       "      <td> 39.084855</td>\n",
       "      <td>-84.356738</td>\n",
       "    </tr>\n",
       "    <tr>\n",
       "      <th>92</th>\n",
       "      <td> 39</td>\n",
       "      <td> 61</td>\n",
       "      <td>  8800</td>\n",
       "      <td> 39061008800</td>\n",
       "      <td>  88.00</td>\n",
       "      <td>     Census Tract 88</td>\n",
       "      <td> G5020</td>\n",
       "      <td> S</td>\n",
       "      <td> 1417532</td>\n",
       "      <td>    0</td>\n",
       "      <td> 39.142512</td>\n",
       "      <td>-84.570912</td>\n",
       "    </tr>\n",
       "    <tr>\n",
       "      <th>93</th>\n",
       "      <td> 39</td>\n",
       "      <td> 61</td>\n",
       "      <td>  9200</td>\n",
       "      <td> 39061009200</td>\n",
       "      <td>  92.00</td>\n",
       "      <td>     Census Tract 92</td>\n",
       "      <td> G5020</td>\n",
       "      <td> S</td>\n",
       "      <td> 3111915</td>\n",
       "      <td>    0</td>\n",
       "      <td> 39.120695</td>\n",
       "      <td>-84.561975</td>\n",
       "    </tr>\n",
       "    <tr>\n",
       "      <th>94</th>\n",
       "      <td> 39</td>\n",
       "      <td> 61</td>\n",
       "      <td>  9300</td>\n",
       "      <td> 39061009300</td>\n",
       "      <td>  93.00</td>\n",
       "      <td>     Census Tract 93</td>\n",
       "      <td> G5020</td>\n",
       "      <td> S</td>\n",
       "      <td> 1130142</td>\n",
       "      <td>    0</td>\n",
       "      <td> 39.111352</td>\n",
       "      <td>-84.558298</td>\n",
       "    </tr>\n",
       "    <tr>\n",
       "      <th>95</th>\n",
       "      <td> 39</td>\n",
       "      <td> 61</td>\n",
       "      <td>  9400</td>\n",
       "      <td> 39061009400</td>\n",
       "      <td>  94.00</td>\n",
       "      <td>     Census Tract 94</td>\n",
       "      <td> G5020</td>\n",
       "      <td> S</td>\n",
       "      <td>  438325</td>\n",
       "      <td>    0</td>\n",
       "      <td> 39.112959</td>\n",
       "      <td>-84.570917</td>\n",
       "    </tr>\n",
       "  </tbody>\n",
       "</table>\n",
       "</div>"
      ],
      "text/plain": [
       "    STATEFP10  COUNTYFP10  TRACTCE10      GEOID10  NAME10  \\\n",
       "90         39          61      25001  39061025001  250.01   \n",
       "92         39          61       8800  39061008800   88.00   \n",
       "93         39          61       9200  39061009200   92.00   \n",
       "94         39          61       9300  39061009300   93.00   \n",
       "95         39          61       9400  39061009400   94.00   \n",
       "\n",
       "             NAMELSAD10 MTFCC10 FUNCSTAT10  ALAND10  AWATER10  INTPTLAT10  \\\n",
       "90  Census Tract 250.01   G5020          S  5903864      4532   39.084855   \n",
       "92      Census Tract 88   G5020          S  1417532         0   39.142512   \n",
       "93      Census Tract 92   G5020          S  3111915         0   39.120695   \n",
       "94      Census Tract 93   G5020          S  1130142         0   39.111352   \n",
       "95      Census Tract 94   G5020          S   438325         0   39.112959   \n",
       "\n",
       "    INTPTLON10  \n",
       "90  -84.356738  \n",
       "92  -84.570912  \n",
       "93  -84.561975  \n",
       "94  -84.558298  \n",
       "95  -84.570917  "
      ]
     },
     "execution_count": 93,
     "metadata": {},
     "output_type": "execute_result"
    }
   ],
   "source": [
    "Cincinnati_City = HamiltonCounty[true_values]\n",
    "Cincinnati_City.head()"
   ]
  },
  {
   "cell_type": "code",
   "execution_count": 94,
   "metadata": {
    "collapsed": false
   },
   "outputs": [
    {
     "data": {
      "text/html": [
       "<div style=\"max-height:1000px;max-width:1500px;overflow:auto;\">\n",
       "<table border=\"1\" class=\"dataframe\">\n",
       "  <thead>\n",
       "    <tr style=\"text-align: right;\">\n",
       "      <th></th>\n",
       "      <th>Census Tract</th>\n",
       "      <th>Latitude</th>\n",
       "      <th>Longitude</th>\n",
       "      <th>NAME</th>\n",
       "      <th>Censusname</th>\n",
       "    </tr>\n",
       "  </thead>\n",
       "  <tbody>\n",
       "    <tr>\n",
       "      <th>90</th>\n",
       "      <td> 39061025001</td>\n",
       "      <td> 39.084855</td>\n",
       "      <td>-84.356738</td>\n",
       "      <td> 250.01</td>\n",
       "      <td> Census Tract 250.01</td>\n",
       "    </tr>\n",
       "    <tr>\n",
       "      <th>92</th>\n",
       "      <td> 39061008800</td>\n",
       "      <td> 39.142512</td>\n",
       "      <td>-84.570912</td>\n",
       "      <td>  88.00</td>\n",
       "      <td>     Census Tract 88</td>\n",
       "    </tr>\n",
       "    <tr>\n",
       "      <th>93</th>\n",
       "      <td> 39061009200</td>\n",
       "      <td> 39.120695</td>\n",
       "      <td>-84.561975</td>\n",
       "      <td>  92.00</td>\n",
       "      <td>     Census Tract 92</td>\n",
       "    </tr>\n",
       "  </tbody>\n",
       "</table>\n",
       "</div>"
      ],
      "text/plain": [
       "    Census Tract   Latitude  Longitude    NAME           Censusname\n",
       "90   39061025001  39.084855 -84.356738  250.01  Census Tract 250.01\n",
       "92   39061008800  39.142512 -84.570912   88.00      Census Tract 88\n",
       "93   39061009200  39.120695 -84.561975   92.00      Census Tract 92"
      ]
     },
     "execution_count": 94,
     "metadata": {},
     "output_type": "execute_result"
    }
   ],
   "source": [
    "CinLat_Long = Cincinnati_City[['GEOID10','INTPTLAT10','INTPTLON10','NAME10','NAMELSAD10']]\n",
    "CinLat_Long.columns = ['Census Tract','Latitude','Longitude','NAME','Censusname']\n",
    "CinLat_Long.head(3)"
   ]
  },
  {
   "cell_type": "code",
   "execution_count": 95,
   "metadata": {
    "collapsed": true
   },
   "outputs": [],
   "source": [
    "# Copy a dataframe\n",
    "CinLat_Long2 = CinLat_Long.copy()\n",
    "\n",
    "# Change the index of the dataframe\n",
    "CinLat_Long2 = CinLat_Long2.set_index([range(110)])"
   ]
  },
  {
   "cell_type": "code",
   "execution_count": 96,
   "metadata": {
    "collapsed": false
   },
   "outputs": [
    {
     "data": {
      "text/html": [
       "<div style=\"max-height:1000px;max-width:1500px;overflow:auto;\">\n",
       "<table border=\"1\" class=\"dataframe\">\n",
       "  <thead>\n",
       "    <tr style=\"text-align: right;\">\n",
       "      <th></th>\n",
       "      <th>Census Tract</th>\n",
       "      <th>Latitude</th>\n",
       "      <th>Longitude</th>\n",
       "      <th>NAME</th>\n",
       "      <th>Censusname</th>\n",
       "    </tr>\n",
       "  </thead>\n",
       "  <tbody>\n",
       "    <tr>\n",
       "      <th>0</th>\n",
       "      <td> 39061025001</td>\n",
       "      <td> 39.084855</td>\n",
       "      <td>-84.356738</td>\n",
       "      <td> 250.01</td>\n",
       "      <td> Census Tract 250.01</td>\n",
       "    </tr>\n",
       "    <tr>\n",
       "      <th>1</th>\n",
       "      <td> 39061008800</td>\n",
       "      <td> 39.142512</td>\n",
       "      <td>-84.570912</td>\n",
       "      <td>  88.00</td>\n",
       "      <td>     Census Tract 88</td>\n",
       "    </tr>\n",
       "    <tr>\n",
       "      <th>2</th>\n",
       "      <td> 39061009200</td>\n",
       "      <td> 39.120695</td>\n",
       "      <td>-84.561975</td>\n",
       "      <td>  92.00</td>\n",
       "      <td>     Census Tract 92</td>\n",
       "    </tr>\n",
       "    <tr>\n",
       "      <th>3</th>\n",
       "      <td> 39061009300</td>\n",
       "      <td> 39.111352</td>\n",
       "      <td>-84.558298</td>\n",
       "      <td>  93.00</td>\n",
       "      <td>     Census Tract 93</td>\n",
       "    </tr>\n",
       "    <tr>\n",
       "      <th>4</th>\n",
       "      <td> 39061009400</td>\n",
       "      <td> 39.112959</td>\n",
       "      <td>-84.570917</td>\n",
       "      <td>  94.00</td>\n",
       "      <td>     Census Tract 94</td>\n",
       "    </tr>\n",
       "  </tbody>\n",
       "</table>\n",
       "</div>"
      ],
      "text/plain": [
       "   Census Tract   Latitude  Longitude    NAME           Censusname\n",
       "0   39061025001  39.084855 -84.356738  250.01  Census Tract 250.01\n",
       "1   39061008800  39.142512 -84.570912   88.00      Census Tract 88\n",
       "2   39061009200  39.120695 -84.561975   92.00      Census Tract 92\n",
       "3   39061009300  39.111352 -84.558298   93.00      Census Tract 93\n",
       "4   39061009400  39.112959 -84.570917   94.00      Census Tract 94"
      ]
     },
     "execution_count": 96,
     "metadata": {},
     "output_type": "execute_result"
    }
   ],
   "source": [
    "CinLat_Long2.head()"
   ]
  },
  {
   "cell_type": "code",
   "execution_count": 97,
   "metadata": {
    "collapsed": false
   },
   "outputs": [],
   "source": [
    "from xlwt import *\n",
    "fixing = CinLat_Long2\n",
    "#fixing.to_excel(\"C:\\Users\\James\\Desktop\\CinData\\Resources\\Census_fixing.xlsx\",'Network')"
   ]
  },
  {
   "cell_type": "code",
   "execution_count": 98,
   "metadata": {
    "collapsed": false
   },
   "outputs": [],
   "source": [
    "result = CinLat_Long2.sort(\"NAME\")"
   ]
  },
  {
   "cell_type": "code",
   "execution_count": 99,
   "metadata": {
    "collapsed": false
   },
   "outputs": [
    {
     "data": {
      "text/html": [
       "<div style=\"max-height:1000px;max-width:1500px;overflow:auto;\">\n",
       "<table border=\"1\" class=\"dataframe\">\n",
       "  <thead>\n",
       "    <tr style=\"text-align: right;\">\n",
       "      <th></th>\n",
       "      <th>Census Tract</th>\n",
       "      <th>Latitude</th>\n",
       "      <th>Longitude</th>\n",
       "      <th>NAME</th>\n",
       "      <th>Censusname</th>\n",
       "    </tr>\n",
       "  </thead>\n",
       "  <tbody>\n",
       "    <tr>\n",
       "      <th>100</th>\n",
       "      <td> 39061026300</td>\n",
       "      <td> 39.115252</td>\n",
       "      <td>-84.539208</td>\n",
       "      <td> 263</td>\n",
       "      <td> Census Tract 263</td>\n",
       "    </tr>\n",
       "    <tr>\n",
       "      <th>102</th>\n",
       "      <td> 39061026400</td>\n",
       "      <td> 39.109185</td>\n",
       "      <td>-84.523869</td>\n",
       "      <td> 264</td>\n",
       "      <td> Census Tract 264</td>\n",
       "    </tr>\n",
       "    <tr>\n",
       "      <th>101</th>\n",
       "      <td> 39061026500</td>\n",
       "      <td> 39.098925</td>\n",
       "      <td>-84.513262</td>\n",
       "      <td> 265</td>\n",
       "      <td> Census Tract 265</td>\n",
       "    </tr>\n",
       "    <tr>\n",
       "      <th>109</th>\n",
       "      <td> 39061026600</td>\n",
       "      <td> 39.118431</td>\n",
       "      <td>-84.447741</td>\n",
       "      <td> 266</td>\n",
       "      <td> Census Tract 266</td>\n",
       "    </tr>\n",
       "    <tr>\n",
       "      <th>104</th>\n",
       "      <td> 39061026700</td>\n",
       "      <td> 39.124404</td>\n",
       "      <td>-84.495622</td>\n",
       "      <td> 267</td>\n",
       "      <td> Census Tract 267</td>\n",
       "    </tr>\n",
       "    <tr>\n",
       "      <th>106</th>\n",
       "      <td> 39061026800</td>\n",
       "      <td> 39.107594</td>\n",
       "      <td>-84.499167</td>\n",
       "      <td> 268</td>\n",
       "      <td> Census Tract 268</td>\n",
       "    </tr>\n",
       "    <tr>\n",
       "      <th>103</th>\n",
       "      <td> 39061026900</td>\n",
       "      <td> 39.118153</td>\n",
       "      <td>-84.529091</td>\n",
       "      <td> 269</td>\n",
       "      <td> Census Tract 269</td>\n",
       "    </tr>\n",
       "    <tr>\n",
       "      <th>105</th>\n",
       "      <td> 39061027000</td>\n",
       "      <td> 39.137623</td>\n",
       "      <td>-84.494799</td>\n",
       "      <td> 270</td>\n",
       "      <td> Census Tract 270</td>\n",
       "    </tr>\n",
       "    <tr>\n",
       "      <th>107</th>\n",
       "      <td> 39061027100</td>\n",
       "      <td> 39.191204</td>\n",
       "      <td>-84.466261</td>\n",
       "      <td> 271</td>\n",
       "      <td> Census Tract 271</td>\n",
       "    </tr>\n",
       "    <tr>\n",
       "      <th>108</th>\n",
       "      <td> 39061027200</td>\n",
       "      <td> 39.128577</td>\n",
       "      <td>-84.559781</td>\n",
       "      <td> 272</td>\n",
       "      <td> Census Tract 272</td>\n",
       "    </tr>\n",
       "  </tbody>\n",
       "</table>\n",
       "</div>"
      ],
      "text/plain": [
       "     Census Tract   Latitude  Longitude  NAME        Censusname\n",
       "100   39061026300  39.115252 -84.539208   263  Census Tract 263\n",
       "102   39061026400  39.109185 -84.523869   264  Census Tract 264\n",
       "101   39061026500  39.098925 -84.513262   265  Census Tract 265\n",
       "109   39061026600  39.118431 -84.447741   266  Census Tract 266\n",
       "104   39061026700  39.124404 -84.495622   267  Census Tract 267\n",
       "106   39061026800  39.107594 -84.499167   268  Census Tract 268\n",
       "103   39061026900  39.118153 -84.529091   269  Census Tract 269\n",
       "105   39061027000  39.137623 -84.494799   270  Census Tract 270\n",
       "107   39061027100  39.191204 -84.466261   271  Census Tract 271\n",
       "108   39061027200  39.128577 -84.559781   272  Census Tract 272"
      ]
     },
     "execution_count": 99,
     "metadata": {},
     "output_type": "execute_result"
    }
   ],
   "source": [
    "result.tail(10)"
   ]
  },
  {
   "cell_type": "code",
   "execution_count": 100,
   "metadata": {
    "collapsed": false
   },
   "outputs": [
    {
     "data": {
      "text/html": [
       "<div style=\"max-height:1000px;max-width:1500px;overflow:auto;\">\n",
       "<table border=\"1\" class=\"dataframe\">\n",
       "  <thead>\n",
       "    <tr style=\"text-align: right;\">\n",
       "      <th></th>\n",
       "      <th>Census Tract</th>\n",
       "      <th>Latitude</th>\n",
       "      <th>Longitude</th>\n",
       "      <th>NAME</th>\n",
       "      <th>Censusname</th>\n",
       "    </tr>\n",
       "  </thead>\n",
       "  <tbody>\n",
       "    <tr>\n",
       "      <th>25</th>\n",
       "      <td> 39061000200</td>\n",
       "      <td> 39.109783</td>\n",
       "      <td>-84.529551</td>\n",
       "      <td>  2</td>\n",
       "      <td>  Census Tract 2</td>\n",
       "    </tr>\n",
       "    <tr>\n",
       "      <th>26</th>\n",
       "      <td> 39061000900</td>\n",
       "      <td> 39.109921</td>\n",
       "      <td>-84.517754</td>\n",
       "      <td>  9</td>\n",
       "      <td>  Census Tract 9</td>\n",
       "    </tr>\n",
       "    <tr>\n",
       "      <th>27</th>\n",
       "      <td> 39061001000</td>\n",
       "      <td> 39.110107</td>\n",
       "      <td>-84.512822</td>\n",
       "      <td> 10</td>\n",
       "      <td> Census Tract 10</td>\n",
       "    </tr>\n",
       "    <tr>\n",
       "      <th>28</th>\n",
       "      <td> 39061001600</td>\n",
       "      <td> 39.116750</td>\n",
       "      <td>-84.520418</td>\n",
       "      <td> 16</td>\n",
       "      <td> Census Tract 16</td>\n",
       "    </tr>\n",
       "    <tr>\n",
       "      <th>29</th>\n",
       "      <td> 39061001700</td>\n",
       "      <td> 39.115164</td>\n",
       "      <td>-84.514304</td>\n",
       "      <td> 17</td>\n",
       "      <td> Census Tract 17</td>\n",
       "    </tr>\n",
       "  </tbody>\n",
       "</table>\n",
       "</div>"
      ],
      "text/plain": [
       "    Census Tract   Latitude  Longitude  NAME       Censusname\n",
       "25   39061000200  39.109783 -84.529551     2   Census Tract 2\n",
       "26   39061000900  39.109921 -84.517754     9   Census Tract 9\n",
       "27   39061001000  39.110107 -84.512822    10  Census Tract 10\n",
       "28   39061001600  39.116750 -84.520418    16  Census Tract 16\n",
       "29   39061001700  39.115164 -84.514304    17  Census Tract 17"
      ]
     },
     "execution_count": 100,
     "metadata": {},
     "output_type": "execute_result"
    }
   ],
   "source": [
    "result.head()"
   ]
  },
  {
   "cell_type": "code",
   "execution_count": 101,
   "metadata": {
    "collapsed": false
   },
   "outputs": [
    {
     "data": {
      "text/html": [
       "<div style=\"max-height:1000px;max-width:1500px;overflow:auto;\">\n",
       "<table border=\"1\" class=\"dataframe\">\n",
       "  <thead>\n",
       "    <tr style=\"text-align: right;\">\n",
       "      <th></th>\n",
       "      <th>Census Tract</th>\n",
       "      <th>Latitude</th>\n",
       "      <th>Longitude</th>\n",
       "      <th>NAME</th>\n",
       "      <th>Censusname</th>\n",
       "    </tr>\n",
       "  </thead>\n",
       "  <tbody>\n",
       "    <tr>\n",
       "      <th>100</th>\n",
       "      <td> 39061026300</td>\n",
       "      <td> 39.115252</td>\n",
       "      <td>-84.539208</td>\n",
       "      <td> 263</td>\n",
       "      <td> Census Tract 263</td>\n",
       "    </tr>\n",
       "  </tbody>\n",
       "</table>\n",
       "</div>"
      ],
      "text/plain": [
       "     Census Tract   Latitude  Longitude  NAME        Censusname\n",
       "100   39061026300  39.115252 -84.539208   263  Census Tract 263"
      ]
     },
     "execution_count": 101,
     "metadata": {},
     "output_type": "execute_result"
    }
   ],
   "source": [
    "# Checking to make sure the sort function works\n",
    "\n",
    "CinLat_Long2[CinLat_Long2[\"NAME\"]==263]"
   ]
  },
  {
   "cell_type": "code",
   "execution_count": 102,
   "metadata": {
    "collapsed": true
   },
   "outputs": [],
   "source": [
    "# Change the index of the dataframe\n",
    "result = result.set_index([range(110)])"
   ]
  },
  {
   "cell_type": "code",
   "execution_count": 103,
   "metadata": {
    "collapsed": false
   },
   "outputs": [
    {
     "data": {
      "text/html": [
       "<div style=\"max-height:1000px;max-width:1500px;overflow:auto;\">\n",
       "<table border=\"1\" class=\"dataframe\">\n",
       "  <thead>\n",
       "    <tr style=\"text-align: right;\">\n",
       "      <th></th>\n",
       "      <th>Census Tract</th>\n",
       "      <th>Latitude</th>\n",
       "      <th>Longitude</th>\n",
       "      <th>NAME</th>\n",
       "      <th>Censusname</th>\n",
       "    </tr>\n",
       "  </thead>\n",
       "  <tbody>\n",
       "    <tr>\n",
       "      <th>0</th>\n",
       "      <td> 39061000200</td>\n",
       "      <td> 39.109783</td>\n",
       "      <td>-84.529551</td>\n",
       "      <td>  2</td>\n",
       "      <td>  Census Tract 2</td>\n",
       "    </tr>\n",
       "    <tr>\n",
       "      <th>1</th>\n",
       "      <td> 39061000900</td>\n",
       "      <td> 39.109921</td>\n",
       "      <td>-84.517754</td>\n",
       "      <td>  9</td>\n",
       "      <td>  Census Tract 9</td>\n",
       "    </tr>\n",
       "    <tr>\n",
       "      <th>2</th>\n",
       "      <td> 39061001000</td>\n",
       "      <td> 39.110107</td>\n",
       "      <td>-84.512822</td>\n",
       "      <td> 10</td>\n",
       "      <td> Census Tract 10</td>\n",
       "    </tr>\n",
       "    <tr>\n",
       "      <th>3</th>\n",
       "      <td> 39061001600</td>\n",
       "      <td> 39.116750</td>\n",
       "      <td>-84.520418</td>\n",
       "      <td> 16</td>\n",
       "      <td> Census Tract 16</td>\n",
       "    </tr>\n",
       "    <tr>\n",
       "      <th>4</th>\n",
       "      <td> 39061001700</td>\n",
       "      <td> 39.115164</td>\n",
       "      <td>-84.514304</td>\n",
       "      <td> 17</td>\n",
       "      <td> Census Tract 17</td>\n",
       "    </tr>\n",
       "  </tbody>\n",
       "</table>\n",
       "</div>"
      ],
      "text/plain": [
       "   Census Tract   Latitude  Longitude  NAME       Censusname\n",
       "0   39061000200  39.109783 -84.529551     2   Census Tract 2\n",
       "1   39061000900  39.109921 -84.517754     9   Census Tract 9\n",
       "2   39061001000  39.110107 -84.512822    10  Census Tract 10\n",
       "3   39061001600  39.116750 -84.520418    16  Census Tract 16\n",
       "4   39061001700  39.115164 -84.514304    17  Census Tract 17"
      ]
     },
     "execution_count": 103,
     "metadata": {},
     "output_type": "execute_result"
    }
   ],
   "source": [
    "result.head()"
   ]
  },
  {
   "cell_type": "code",
   "execution_count": 110,
   "metadata": {
    "collapsed": false
   },
   "outputs": [
    {
     "data": {
      "text/plain": [
       "110"
      ]
     },
     "execution_count": 110,
     "metadata": {},
     "output_type": "execute_result"
    }
   ],
   "source": [
    "CinLat_Long2 = result\n",
    "len(CinLat_Long2)"
   ]
  },
  {
   "cell_type": "code",
   "execution_count": 111,
   "metadata": {
    "collapsed": false
   },
   "outputs": [
    {
     "data": {
      "text/html": [
       "<div style=\"max-height:1000px;max-width:1500px;overflow:auto;\">\n",
       "<table border=\"1\" class=\"dataframe\">\n",
       "  <thead>\n",
       "    <tr style=\"text-align: right;\">\n",
       "      <th></th>\n",
       "      <th>Census Tract</th>\n",
       "      <th>Latitude</th>\n",
       "      <th>Longitude</th>\n",
       "      <th>NAME</th>\n",
       "      <th>Censusname</th>\n",
       "    </tr>\n",
       "  </thead>\n",
       "  <tbody>\n",
       "    <tr>\n",
       "      <th>0</th>\n",
       "      <td> 39061000200</td>\n",
       "      <td> 39.109783</td>\n",
       "      <td>-84.529551</td>\n",
       "      <td>  2</td>\n",
       "      <td>  Census Tract 2</td>\n",
       "    </tr>\n",
       "    <tr>\n",
       "      <th>1</th>\n",
       "      <td> 39061000900</td>\n",
       "      <td> 39.109921</td>\n",
       "      <td>-84.517754</td>\n",
       "      <td>  9</td>\n",
       "      <td>  Census Tract 9</td>\n",
       "    </tr>\n",
       "    <tr>\n",
       "      <th>2</th>\n",
       "      <td> 39061001000</td>\n",
       "      <td> 39.110107</td>\n",
       "      <td>-84.512822</td>\n",
       "      <td> 10</td>\n",
       "      <td> Census Tract 10</td>\n",
       "    </tr>\n",
       "    <tr>\n",
       "      <th>3</th>\n",
       "      <td> 39061001600</td>\n",
       "      <td> 39.116750</td>\n",
       "      <td>-84.520418</td>\n",
       "      <td> 16</td>\n",
       "      <td> Census Tract 16</td>\n",
       "    </tr>\n",
       "    <tr>\n",
       "      <th>4</th>\n",
       "      <td> 39061001700</td>\n",
       "      <td> 39.115164</td>\n",
       "      <td>-84.514304</td>\n",
       "      <td> 17</td>\n",
       "      <td> Census Tract 17</td>\n",
       "    </tr>\n",
       "  </tbody>\n",
       "</table>\n",
       "</div>"
      ],
      "text/plain": [
       "   Census Tract   Latitude  Longitude  NAME       Censusname\n",
       "0   39061000200  39.109783 -84.529551     2   Census Tract 2\n",
       "1   39061000900  39.109921 -84.517754     9   Census Tract 9\n",
       "2   39061001000  39.110107 -84.512822    10  Census Tract 10\n",
       "3   39061001600  39.116750 -84.520418    16  Census Tract 16\n",
       "4   39061001700  39.115164 -84.514304    17  Census Tract 17"
      ]
     },
     "execution_count": 111,
     "metadata": {},
     "output_type": "execute_result"
    }
   ],
   "source": [
    "CinLat_Long2.head()"
   ]
  },
  {
   "cell_type": "markdown",
   "metadata": {},
   "source": [
    "# Create a file of the Census Tracts in order"
   ]
  },
  {
   "cell_type": "code",
   "execution_count": 128,
   "metadata": {
    "collapsed": true
   },
   "outputs": [],
   "source": [
    "from xlwt import *\n",
    "CensusTracts_Ordered = pd.DataFrame(CinLat_Long2)\n",
    "# Export dataframe to Excel\n",
    "# you can export to both .xls and .xlsx\n",
    "CensusTracts_Ordered.to_excel(\"C:\\Users\\James\\Desktop\\CinData\\Resources\\CensusTracts_Ordered.xlsx\",'CensusTracts')"
   ]
  },
  {
   "cell_type": "code",
   "execution_count": 112,
   "metadata": {
    "collapsed": false
   },
   "outputs": [
    {
     "data": {
      "text/html": [
       "<div style=\"max-height:1000px;max-width:1500px;overflow:auto;\">\n",
       "<table border=\"1\" class=\"dataframe\">\n",
       "  <thead>\n",
       "    <tr style=\"text-align: right;\">\n",
       "      <th></th>\n",
       "      <th>Number</th>\n",
       "      <th>Address</th>\n",
       "      <th>State</th>\n",
       "      <th>ZipCode</th>\n",
       "      <th>StoreName</th>\n",
       "      <th>Longitude</th>\n",
       "      <th>Latitude</th>\n",
       "    </tr>\n",
       "  </thead>\n",
       "  <tbody>\n",
       "    <tr>\n",
       "      <th>1</th>\n",
       "      <td> 807</td>\n",
       "      <td>      1420 Vine St Cincinnati,</td>\n",
       "      <td> OH</td>\n",
       "      <td> 45202</td>\n",
       "      <td> Kroger</td>\n",
       "      <td>-84.515471</td>\n",
       "      <td> 39.111473</td>\n",
       "    </tr>\n",
       "    <tr>\n",
       "      <th>2</th>\n",
       "      <td> 808</td>\n",
       "      <td>           Vine St Cincinnati,</td>\n",
       "      <td> OH</td>\n",
       "      <td> 45202</td>\n",
       "      <td> Kroger</td>\n",
       "      <td>-84.475196</td>\n",
       "      <td> 39.201296</td>\n",
       "    </tr>\n",
       "    <tr>\n",
       "      <th>3</th>\n",
       "      <td> 809</td>\n",
       "      <td>   3614 Warsaw Ave Cincinnati,</td>\n",
       "      <td> OH</td>\n",
       "      <td> 45205</td>\n",
       "      <td> Kroger</td>\n",
       "      <td>-84.571080</td>\n",
       "      <td> 39.110579</td>\n",
       "    </tr>\n",
       "    <tr>\n",
       "      <th>4</th>\n",
       "      <td> 810</td>\n",
       "      <td> 954 E Mcmillan St Cincinnati,</td>\n",
       "      <td> OH</td>\n",
       "      <td> 45206</td>\n",
       "      <td> Kroger</td>\n",
       "      <td>-84.488522</td>\n",
       "      <td> 39.125915</td>\n",
       "    </tr>\n",
       "    <tr>\n",
       "      <th>5</th>\n",
       "      <td> 811</td>\n",
       "      <td>   3760 Paxton Ave Cincinnati,</td>\n",
       "      <td> OH</td>\n",
       "      <td> 45209</td>\n",
       "      <td> Kroger</td>\n",
       "      <td>-84.431709</td>\n",
       "      <td> 39.145087</td>\n",
       "    </tr>\n",
       "  </tbody>\n",
       "</table>\n",
       "</div>"
      ],
      "text/plain": [
       "   Number                        Address State  ZipCode StoreName  Longitude  \\\n",
       "1     807       1420 Vine St Cincinnati,    OH    45202    Kroger -84.515471   \n",
       "2     808            Vine St Cincinnati,    OH    45202    Kroger -84.475196   \n",
       "3     809    3614 Warsaw Ave Cincinnati,    OH    45205    Kroger -84.571080   \n",
       "4     810  954 E Mcmillan St Cincinnati,    OH    45206    Kroger -84.488522   \n",
       "5     811    3760 Paxton Ave Cincinnati,    OH    45209    Kroger -84.431709   \n",
       "\n",
       "    Latitude  \n",
       "1  39.111473  \n",
       "2  39.201296  \n",
       "3  39.110579  \n",
       "4  39.125915  \n",
       "5  39.145087  "
      ]
     },
     "execution_count": 112,
     "metadata": {},
     "output_type": "execute_result"
    }
   ],
   "source": [
    "Long_overzero.head()"
   ]
  },
  {
   "cell_type": "code",
   "execution_count": null,
   "metadata": {
    "collapsed": true
   },
   "outputs": [],
   "source": []
  },
  {
   "cell_type": "code",
   "execution_count": 113,
   "metadata": {
    "collapsed": true
   },
   "outputs": [],
   "source": [
    "Long_overzero = Long_overzero.rename(columns={\"LONGITUDE\":\"Longitude\",\"LATITUDE\":\"Latitude\"})"
   ]
  },
  {
   "cell_type": "code",
   "execution_count": 114,
   "metadata": {
    "collapsed": false
   },
   "outputs": [
    {
     "data": {
      "text/html": [
       "<div style=\"max-height:1000px;max-width:1500px;overflow:auto;\">\n",
       "<table border=\"1\" class=\"dataframe\">\n",
       "  <thead>\n",
       "    <tr style=\"text-align: right;\">\n",
       "      <th></th>\n",
       "      <th>Number</th>\n",
       "      <th>Address</th>\n",
       "      <th>State</th>\n",
       "      <th>ZipCode</th>\n",
       "      <th>StoreName</th>\n",
       "      <th>Longitude</th>\n",
       "      <th>Latitude</th>\n",
       "    </tr>\n",
       "  </thead>\n",
       "  <tbody>\n",
       "    <tr>\n",
       "      <th>1</th>\n",
       "      <td> 807</td>\n",
       "      <td>      1420 Vine St Cincinnati,</td>\n",
       "      <td> OH</td>\n",
       "      <td> 45202</td>\n",
       "      <td> Kroger</td>\n",
       "      <td>-84.515471</td>\n",
       "      <td> 39.111473</td>\n",
       "    </tr>\n",
       "    <tr>\n",
       "      <th>2</th>\n",
       "      <td> 808</td>\n",
       "      <td>           Vine St Cincinnati,</td>\n",
       "      <td> OH</td>\n",
       "      <td> 45202</td>\n",
       "      <td> Kroger</td>\n",
       "      <td>-84.475196</td>\n",
       "      <td> 39.201296</td>\n",
       "    </tr>\n",
       "    <tr>\n",
       "      <th>3</th>\n",
       "      <td> 809</td>\n",
       "      <td>   3614 Warsaw Ave Cincinnati,</td>\n",
       "      <td> OH</td>\n",
       "      <td> 45205</td>\n",
       "      <td> Kroger</td>\n",
       "      <td>-84.571080</td>\n",
       "      <td> 39.110579</td>\n",
       "    </tr>\n",
       "    <tr>\n",
       "      <th>4</th>\n",
       "      <td> 810</td>\n",
       "      <td> 954 E Mcmillan St Cincinnati,</td>\n",
       "      <td> OH</td>\n",
       "      <td> 45206</td>\n",
       "      <td> Kroger</td>\n",
       "      <td>-84.488522</td>\n",
       "      <td> 39.125915</td>\n",
       "    </tr>\n",
       "    <tr>\n",
       "      <th>5</th>\n",
       "      <td> 811</td>\n",
       "      <td>   3760 Paxton Ave Cincinnati,</td>\n",
       "      <td> OH</td>\n",
       "      <td> 45209</td>\n",
       "      <td> Kroger</td>\n",
       "      <td>-84.431709</td>\n",
       "      <td> 39.145087</td>\n",
       "    </tr>\n",
       "  </tbody>\n",
       "</table>\n",
       "</div>"
      ],
      "text/plain": [
       "   Number                        Address State  ZipCode StoreName  Longitude  \\\n",
       "1     807       1420 Vine St Cincinnati,    OH    45202    Kroger -84.515471   \n",
       "2     808            Vine St Cincinnati,    OH    45202    Kroger -84.475196   \n",
       "3     809    3614 Warsaw Ave Cincinnati,    OH    45205    Kroger -84.571080   \n",
       "4     810  954 E Mcmillan St Cincinnati,    OH    45206    Kroger -84.488522   \n",
       "5     811    3760 Paxton Ave Cincinnati,    OH    45209    Kroger -84.431709   \n",
       "\n",
       "    Latitude  \n",
       "1  39.111473  \n",
       "2  39.201296  \n",
       "3  39.110579  \n",
       "4  39.125915  \n",
       "5  39.145087  "
      ]
     },
     "execution_count": 114,
     "metadata": {},
     "output_type": "execute_result"
    }
   ],
   "source": [
    "Long_overzero.head()"
   ]
  },
  {
   "cell_type": "code",
   "execution_count": 115,
   "metadata": {
    "collapsed": false
   },
   "outputs": [],
   "source": [
    "from xlwt import *\n",
    "Long_overzero_Locations = pd.DataFrame(Long_overzero)\n",
    "\n",
    "Long_overzero_Locations.to_excel(\"C:\\Users\\James\\Desktop\\CinData\\ResourceLocation\\Grocery_Resource_Location.xlsx\",'Resource')"
   ]
  },
  {
   "cell_type": "markdown",
   "metadata": {},
   "source": [
    "## Matrix of Agents and Resources"
   ]
  },
  {
   "cell_type": "markdown",
   "metadata": {},
   "source": [
    "## Quarter Mile Matrix"
   ]
  },
  {
   "cell_type": "code",
   "execution_count": 116,
   "metadata": {
    "collapsed": false
   },
   "outputs": [],
   "source": [
    "# Create a matrix of Agents and Resources whose distance is less than a quartile miles \n",
    "\n",
    "Grocery_matrix = np.zeros((len(Long_overzero['Latitude']),len(CinLat_Long2)))\n",
    "i = 0\n",
    "j = 0\n",
    "\n",
    "for i in range(len(Long_overzero['Latitude'])):\n",
    "    for j in range(len(CinLat_Long2)):\n",
    "        lat1  = Long_overzero.iloc[i,6]\n",
    "        long1 = Long_overzero.iloc[i,5]\n",
    "        resource = lat1, long1\n",
    "        lat2 = CinLat_Long2.iloc[j,1]\n",
    "        long2 = CinLat_Long2.iloc[j,2]\n",
    "        agent = lat2, long2\n",
    "        distance1 = (vincenty(resource, agent).miles)\n",
    "        if distance1 < 0.25:\n",
    "            Grocery_matrix[i][j] = 1\n",
    "    j = j+1\n",
    "i=i+1"
   ]
  },
  {
   "cell_type": "code",
   "execution_count": 117,
   "metadata": {
    "collapsed": false
   },
   "outputs": [
    {
     "data": {
      "text/plain": [
       "array([ 0.,  0.,  0.,  0.,  0.,  0.,  0.,  0.,  0.,  0.,  0.,  0.,  0.,\n",
       "        0.,  0.,  0.,  0.,  0.,  0.,  0.,  0.,  0.,  0.,  0.,  0.,  0.,\n",
       "        0.,  0.,  0.,  0.,  0.,  0.,  0.,  0.,  0.,  0.,  0.,  0.,  0.,\n",
       "        0.,  0.,  0.,  0.,  0.,  0.])"
      ]
     },
     "execution_count": 117,
     "metadata": {},
     "output_type": "execute_result"
    }
   ],
   "source": [
    "Grocery_matrix[:,0]"
   ]
  },
  {
   "cell_type": "code",
   "execution_count": 118,
   "metadata": {
    "collapsed": false
   },
   "outputs": [
    {
     "data": {
      "text/plain": [
       "(45L, 110L)"
      ]
     },
     "execution_count": 118,
     "metadata": {},
     "output_type": "execute_result"
    }
   ],
   "source": [
    "Grocery_matrix.shape"
   ]
  },
  {
   "cell_type": "code",
   "execution_count": 119,
   "metadata": {
    "collapsed": false
   },
   "outputs": [],
   "source": [
    "## Need Grocery Matrix to be apart of the larger matrix of Census Tracts and Resources\n",
    "## Create a matrix to send to a file so I can pull it up\n",
    "Grocery_Resource = Grocery_matrix\n",
    "Grocery_Resource[np.where(Grocery_Resource>0)] = 1\n",
    "#np.fill_diagonal(Grocery_Resource,0)\n",
    "\n",
    "#---------------------------------------------------------------------------------------------\n",
    "from xlwt import *\n",
    "QQ = pd.DataFrame(Grocery_Resource)\n",
    "# Export dataframe to Excel\n",
    "# you can export to both .xls and .xlsx\n",
    "QQ.to_excel(\"C:\\Users\\James\\Desktop\\CinData\\Resources\\Grocery_ResourceQuarter.xlsx\",'Resource')"
   ]
  },
  {
   "cell_type": "code",
   "execution_count": 120,
   "metadata": {
    "collapsed": false
   },
   "outputs": [
    {
     "data": {
      "text/plain": [
       "matrix([[ 0.,  0.,  0.,  0.,  0.,  0.,  0.,  0.,  0.,  0.,  0.,  0.,  0.,\n",
       "          0.,  0.,  0.,  0.,  0.,  0.,  0.,  0.,  0.,  0.,  0.,  0.,  0.,\n",
       "          0.,  0.,  0.,  0.,  0.,  0.,  0.,  0.,  0.,  0.,  0.,  0.,  0.,\n",
       "          0.,  0.,  0.,  0.,  0.,  0.,  0.,  0.,  0.,  0.,  0.,  0.,  0.,\n",
       "          0.,  0.,  0.,  0.,  0.,  0.,  0.,  0.,  0.,  0.,  0.,  0.,  0.,\n",
       "          0.,  0.,  0.,  0.,  0.,  0.,  0.,  0.,  0.,  0.,  0.,  0.,  0.,\n",
       "          0.,  0.,  0.,  0.,  0.,  0.,  0.,  0.,  0.,  0.,  0.,  0.,  0.,\n",
       "          0.,  0.,  0.,  0.,  0.,  0.,  0.,  0.,  0.,  0.,  0.,  0.,  0.,\n",
       "          0.,  0.,  0.,  0.,  0.,  0.]])"
      ]
     },
     "execution_count": 120,
     "metadata": {},
     "output_type": "execute_result"
    }
   ],
   "source": [
    "# Transpose of the matrix\n",
    "GrocerymatrixT = np.transpose(Grocery_matrix)\n",
    "\n",
    "# Create a matrix of Agents by Agents (lib by lib)\n",
    "PP = np.mat(GrocerymatrixT)*np.mat(Grocery_matrix)\n",
    "PP[np.where(PP>0)] =1\n",
    "np.fill_diagonal(PP,0)\n",
    "PP[0,:]"
   ]
  },
  {
   "cell_type": "code",
   "execution_count": 121,
   "metadata": {
    "collapsed": false
   },
   "outputs": [
    {
     "data": {
      "text/plain": [
       "(110L, 110L)"
      ]
     },
     "execution_count": 121,
     "metadata": {},
     "output_type": "execute_result"
    }
   ],
   "source": [
    "PP.shape"
   ]
  },
  {
   "cell_type": "code",
   "execution_count": 122,
   "metadata": {
    "collapsed": true
   },
   "outputs": [],
   "source": [
    "from xlwt import *\n",
    "PP = pd.DataFrame(PP)\n",
    "# Export dataframe to Excel\n",
    "# you can export to both .xls and .xlsx\n",
    "PP.to_excel(\"C:\\Users\\James\\Desktop\\CinData\\Grocery_NetworkQuarterMile.xlsx\",'lib')"
   ]
  },
  {
   "cell_type": "markdown",
   "metadata": {},
   "source": [
    "## Half Mile Matrix"
   ]
  },
  {
   "cell_type": "code",
   "execution_count": 123,
   "metadata": {
    "collapsed": false
   },
   "outputs": [
    {
     "data": {
      "text/plain": [
       "(45L, 110L)"
      ]
     },
     "execution_count": 123,
     "metadata": {},
     "output_type": "execute_result"
    }
   ],
   "source": [
    "# Create a matrix of Agents and Resources whose distance is less than a quartile miles \n",
    "\n",
    "Grocery_matrix = np.zeros((len(Long_overzero['Latitude']),len(CinLat_Long2)))\n",
    "i = 0\n",
    "j = 0\n",
    "\n",
    "for i in range(len(Long_overzero['Latitude'])):\n",
    "    for j in range(len(CinLat_Long2)):\n",
    "        lat1  = Long_overzero.iloc[i,6]\n",
    "        long1 = Long_overzero.iloc[i,5]\n",
    "        resource = lat1, long1\n",
    "        lat2 = CinLat_Long2.iloc[j,1]\n",
    "        long2 = CinLat_Long2.iloc[j,2]\n",
    "        agent = lat2, long2\n",
    "        distance1 = (vincenty(resource, agent).miles)\n",
    "        if distance1 < 0.5:\n",
    "            Grocery_matrix[i][j] = 1\n",
    "    j = j+1\n",
    "i=i+1\n",
    "\n",
    "Grocery_matrix.shape"
   ]
  },
  {
   "cell_type": "code",
   "execution_count": 124,
   "metadata": {
    "collapsed": true
   },
   "outputs": [],
   "source": [
    "## Need Grocery Matrix to be apart of the larger matrix of Census Tracts and Resources\n",
    "## Create a matrix to send to a file so I can pull it up\n",
    "Grocery_Resource = Grocery_matrix\n",
    "Grocery_Resource[np.where(Grocery_Resource>0)] = 1\n",
    "#np.fill_diagonal(Grocery_Resource,0)\n",
    "\n",
    "#---------------------------------------------------------------------------------------------\n",
    "from xlwt import *\n",
    "QQ = pd.DataFrame(Grocery_Resource)\n",
    "# Export dataframe to Excel\n",
    "# you can export to both .xls and .xlsx\n",
    "QQ.to_excel(\"C:\\Users\\James\\Desktop\\CinData\\Resources\\Grocery_ResourceHalfMile.xlsx\",'Resource')"
   ]
  },
  {
   "cell_type": "code",
   "execution_count": 125,
   "metadata": {
    "collapsed": false
   },
   "outputs": [
    {
     "data": {
      "text/plain": [
       "matrix([[ 0.,  0.,  0.,  0.,  0.,  0.,  0.,  0.,  0.,  0.,  0.,  0.,  0.,\n",
       "          0.,  0.,  0.,  0.,  0.,  0.,  0.,  0.,  0.,  0.,  0.,  0.,  0.,\n",
       "          0.,  0.,  0.,  0.,  0.,  0.,  0.,  0.,  0.,  0.,  0.,  0.,  0.,\n",
       "          0.,  0.,  0.,  0.,  0.,  0.,  0.,  0.,  0.,  0.,  0.,  0.,  0.,\n",
       "          0.,  0.,  0.,  0.,  0.,  0.,  0.,  0.,  0.,  0.,  0.,  0.,  0.,\n",
       "          0.,  0.,  0.,  0.,  0.,  0.,  0.,  0.,  0.,  0.,  0.,  0.,  0.,\n",
       "          0.,  0.,  0.,  0.,  0.,  0.,  0.,  0.,  0.,  0.,  0.,  0.,  0.,\n",
       "          0.,  0.,  0.,  0.,  0.,  0.,  0.,  0.,  0.,  0.,  0.,  0.,  0.,\n",
       "          0.,  0.,  0.,  0.,  0.,  0.]])"
      ]
     },
     "execution_count": 125,
     "metadata": {},
     "output_type": "execute_result"
    }
   ],
   "source": [
    "# Transpose of the matrix\n",
    "GrocerymatrixT = np.transpose(Grocery_matrix)\n",
    "\n",
    "# Create a matrix of Agents by Agents (lib by lib)\n",
    "PP = np.mat(GrocerymatrixT)*np.mat(Grocery_matrix)\n",
    "PP[np.where(PP>0)] =1\n",
    "np.fill_diagonal(PP,0)\n",
    "PP[0,:]\n",
    "#PP.shape"
   ]
  },
  {
   "cell_type": "code",
   "execution_count": null,
   "metadata": {
    "collapsed": false
   },
   "outputs": [],
   "source": []
  },
  {
   "cell_type": "code",
   "execution_count": 126,
   "metadata": {
    "collapsed": true
   },
   "outputs": [],
   "source": [
    "from xlwt import *\n",
    "PP = pd.DataFrame(PP)\n",
    "# Export dataframe to Excel\n",
    "# you can export to both .xls and .xlsx\n",
    "PP.to_excel(\"C:\\Users\\James\\Desktop\\CinData\\Data\\Grocery_NetworkHalfMile.xlsx\",'lib')"
   ]
  },
  {
   "cell_type": "markdown",
   "metadata": {},
   "source": [
    "## One Mile Matrix"
   ]
  },
  {
   "cell_type": "code",
   "execution_count": 127,
   "metadata": {
    "collapsed": true
   },
   "outputs": [],
   "source": [
    "# Create a matrix of Agents and Resources whose distance is less than a quartile miles \n",
    "\n",
    "Grocery_matrix = np.zeros((len(Long_overzero['Latitude']),len(CinLat_Long2)))\n",
    "i = 0\n",
    "j = 0\n",
    "\n",
    "for i in range(len(Long_overzero['Latitude'])):\n",
    "    for j in range(len(CinLat_Long2)):\n",
    "        lat1  = Long_overzero.iloc[i,6]\n",
    "        long1 = Long_overzero.iloc[i,5]\n",
    "        resource = lat1, long1\n",
    "        lat2 = CinLat_Long2.iloc[j,1]\n",
    "        long2 = CinLat_Long2.iloc[j,2]\n",
    "        agent = lat2, long2\n",
    "        distance1 = (vincenty(resource, agent).miles)\n",
    "        if distance1 < 1:\n",
    "            Grocery_matrix[i][j] = 1\n",
    "    j = j+1\n",
    "i=i+1\n",
    "#-------------------------------------------------------------------------------------------\n",
    "\n",
    "## Need Grocery Matrix to be apart of the larger matrix of Census Tracts and Resources\n",
    "## Create a matrix to send to a file so I can pull it up\n",
    "Grocery_Resource = Grocery_matrix\n",
    "Grocery_Resource[np.where(Grocery_Resource>0)] = 1\n",
    "#np.fill_diagonal(Grocery_Resource,0)\n",
    "\n",
    "#---------------------------------------------------------------------------------------------\n",
    "from xlwt import *\n",
    "QQ = pd.DataFrame(Grocery_Resource)\n",
    "# Export dataframe to Excel\n",
    "# you can export to both .xls and .xlsx\n",
    "QQ.to_excel(\"C:\\Users\\James\\Desktop\\CinData\\Resources\\Grocery_ResourceOneMile.xlsx\",'Resource')\n",
    "\n",
    "\n",
    "#-------------------------------------------------------------------------------------------\n",
    "# Transpose of the matrix\n",
    "GrocerymatrixT = np.transpose(Grocery_matrix)\n",
    "\n",
    "# Create a matrix of Agents by Agents (lib by lib)\n",
    "PP = np.mat(GrocerymatrixT)*np.mat(Grocery_matrix)\n",
    "PP[np.where(PP>0)] =1\n",
    "np.fill_diagonal(PP,0)\n",
    "\n",
    "#-------------------------------------------------------------------------------------------\n",
    "\n",
    "from xlwt import *\n",
    "PP = pd.DataFrame(PP)\n",
    "# Export dataframe to Excel\n",
    "# you can export to both .xls and .xlsx\n",
    "PP.to_excel(\"C:\\Users\\James\\Desktop\\CinData\\Data\\Grocery_NetworkOneMile.xlsx\",'lib')"
   ]
  },
  {
   "cell_type": "markdown",
   "metadata": {
    "collapsed": true
   },
   "source": [
    "## One Half Mile Matrix"
   ]
  },
  {
   "cell_type": "code",
   "execution_count": 137,
   "metadata": {
    "collapsed": false
   },
   "outputs": [],
   "source": [
    "# Create a matrix of Agents and Resources whose distance is less than a quartile miles \n",
    "\n",
    "Grocery_matrix = np.zeros((len(Long_overzero['Latitude']),len(CinLat_Long2)))\n",
    "i = 0\n",
    "j = 0\n",
    "\n",
    "for i in range(len(Long_overzero['Latitude'])):\n",
    "    for j in range(len(CinLat_Long2)):\n",
    "        lat1  = Long_overzero.iloc[i,6]\n",
    "        long1 = Long_overzero.iloc[i,5]\n",
    "        resource = lat1, long1\n",
    "        lat2 = CinLat_Long2.iloc[j,1]\n",
    "        long2 = CinLat_Long2.iloc[j,2]\n",
    "        agent = lat2, long2\n",
    "        distance1 = (vincenty(resource, agent).miles)\n",
    "        if distance1 < 1.5:\n",
    "            Grocery_matrix[i][j] = 1\n",
    "    j = j+1\n",
    "i=i+1\n",
    "#-------------------------------------------------------------------------------------------\n",
    "\n",
    "## Need Grocery Matrix to be apart of the larger matrix of Census Tracts and Resources\n",
    "## Create a matrix to send to a file so I can pull it up\n",
    "Grocery_Resource = Grocery_matrix\n",
    "Grocery_Resource[np.where(Grocery_Resource>0)] = 1\n",
    "#np.fill_diagonal(Grocery_Resource,0)\n",
    "\n",
    "#---------------------------------------------------------------------------------------------\n",
    "from xlwt import *\n",
    "QQ = pd.DataFrame(Grocery_Resource)\n",
    "# Export dataframe to Excel\n",
    "# you can export to both .xls and .xlsx\n",
    "QQ.to_excel(\"C:\\Users\\James\\Desktop\\CinData\\Resources\\Grocery_ResourceOneHalf.xlsx\",'Resource')\n",
    "\n",
    "\n",
    "#-------------------------------------------------------------------------------------------\n",
    "# Transpose of the matrix\n",
    "GrocerymatrixT = np.transpose(Grocery_matrix)\n",
    "\n",
    "# Create a matrix of Agents by Agents (lib by lib)\n",
    "PP = np.mat(GrocerymatrixT)*np.mat(Grocery_matrix)\n",
    "PP[np.where(PP>0)] =1\n",
    "np.fill_diagonal(PP,0)\n",
    "\n",
    "#-------------------------------------------------------------------------------------------\n",
    "\n",
    "from xlwt import *\n",
    "PP = pd.DataFrame(PP)\n",
    "# Export dataframe to Excel\n",
    "# you can export to both .xls and .xlsx\n",
    "PP.to_excel(\"C:\\Users\\James\\Desktop\\CinData\\Data\\Grocery_NetworkOneHalfMile.xlsx\",'lib')"
   ]
  },
  {
   "cell_type": "code",
   "execution_count": null,
   "metadata": {
    "collapsed": false
   },
   "outputs": [],
   "source": []
  },
  {
   "cell_type": "code",
   "execution_count": null,
   "metadata": {
    "collapsed": true
   },
   "outputs": [],
   "source": []
  }
 ],
 "metadata": {
  "kernelspec": {
   "display_name": "Python 2",
   "language": "python",
   "name": "python2"
  },
  "language_info": {
   "codemirror_mode": {
    "name": "ipython",
    "version": 2
   },
   "file_extension": ".py",
   "mimetype": "text/x-python",
   "name": "python",
   "nbconvert_exporter": "python",
   "pygments_lexer": "ipython2",
   "version": "2.7.8"
  }
 },
 "nbformat": 4,
 "nbformat_minor": 0
}
